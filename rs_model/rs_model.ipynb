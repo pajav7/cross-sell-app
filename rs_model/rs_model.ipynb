{
 "cells": [
  {
   "cell_type": "code",
   "execution_count": 1,
   "metadata": {},
   "outputs": [],
   "source": [
    "from kbcstorage.client import Client\n",
    "import csv\n",
    "import numpy as np\n",
    "import pandas as pd\n",
    "\n",
    "import matplotlib.pyplot as plt\n",
    "from sklearn import neighbors\n",
    "from scipy import sparse"
   ]
  },
  {
   "cell_type": "code",
   "execution_count": 8,
   "metadata": {
    "jupyter": {
     "source_hidden": true
    }
   },
   "outputs": [],
   "source": [
    "token = \"858-85291-eKF1fmrOr9AiDGa1HTUf5gEBpbE7nolbeKIAloVE\"\n",
    "\n",
    "client = Client('https://connection.eu-central-1.keboola.com', token) \n",
    "\n",
    "client.buckets.list()\n",
    "\n",
    "client.tables.list()[1]\n",
    "\n",
    "# export the files with the data\n",
    "ind = 1\n",
    "client.tables.export_to_file(table_id=client.tables.list()[ind][\"id\"], path_name='.')\n"
   ]
  },
  {
   "cell_type": "code",
   "execution_count": 4,
   "metadata": {},
   "outputs": [],
   "source": [
    "def read_table(name):\n",
    "    with open(name, mode='rt', encoding='utf-8') as in_file:\n",
    "        file = pd.read_csv(in_file, delimiter=\",\")\n",
    "    return file\n",
    "\n",
    "product_views = read_table(\"product_views_cz\")\n",
    "\n",
    "material_attributes = read_table(\"material_attributes_cz\")"
   ]
  },
  {
   "cell_type": "code",
   "execution_count": 6,
   "metadata": {},
   "outputs": [],
   "source": [
    "list_category = read_table(\"list_category\")"
   ]
  },
  {
   "cell_type": "code",
   "execution_count": 7,
   "metadata": {},
   "outputs": [],
   "source": [
    "item_category = read_table(\"cz_item_category\")"
   ]
  },
  {
   "cell_type": "code",
   "execution_count": 8,
   "metadata": {},
   "outputs": [],
   "source": [
    "item = read_table(\"item_cz\")"
   ]
  },
  {
   "cell_type": "code",
   "execution_count": 20,
   "metadata": {},
   "outputs": [
    {
     "name": "stdout",
     "output_type": "stream",
     "text": [
      "(420387634, 5)\n"
     ]
    },
    {
     "data": {
      "text/html": [
       "<div>\n",
       "<style scoped>\n",
       "    .dataframe tbody tr th:only-of-type {\n",
       "        vertical-align: middle;\n",
       "    }\n",
       "\n",
       "    .dataframe tbody tr th {\n",
       "        vertical-align: top;\n",
       "    }\n",
       "\n",
       "    .dataframe thead th {\n",
       "        text-align: right;\n",
       "    }\n",
       "</style>\n",
       "<table border=\"1\" class=\"dataframe\">\n",
       "  <thead>\n",
       "    <tr style=\"text-align: right;\">\n",
       "      <th></th>\n",
       "      <th>date</th>\n",
       "      <th>user_id_anon</th>\n",
       "      <th>visit_id_anon</th>\n",
       "      <th>product_id</th>\n",
       "      <th>product_detail_views</th>\n",
       "    </tr>\n",
       "  </thead>\n",
       "  <tbody>\n",
       "    <tr>\n",
       "      <th>0</th>\n",
       "      <td>2018-09-13</td>\n",
       "      <td>24149070</td>\n",
       "      <td>5</td>\n",
       "      <td>1084575</td>\n",
       "      <td>1</td>\n",
       "    </tr>\n",
       "    <tr>\n",
       "      <th>1</th>\n",
       "      <td>2018-10-11</td>\n",
       "      <td>24149070</td>\n",
       "      <td>6</td>\n",
       "      <td>1054500</td>\n",
       "      <td>3</td>\n",
       "    </tr>\n",
       "    <tr>\n",
       "      <th>2</th>\n",
       "      <td>2018-10-11</td>\n",
       "      <td>24149070</td>\n",
       "      <td>7</td>\n",
       "      <td>981583001</td>\n",
       "      <td>2</td>\n",
       "    </tr>\n",
       "    <tr>\n",
       "      <th>3</th>\n",
       "      <td>2018-10-12</td>\n",
       "      <td>24149070</td>\n",
       "      <td>8</td>\n",
       "      <td>1054500</td>\n",
       "      <td>1</td>\n",
       "    </tr>\n",
       "    <tr>\n",
       "      <th>4</th>\n",
       "      <td>2018-10-17</td>\n",
       "      <td>24149070</td>\n",
       "      <td>9</td>\n",
       "      <td>641958</td>\n",
       "      <td>1</td>\n",
       "    </tr>\n",
       "  </tbody>\n",
       "</table>\n",
       "</div>"
      ],
      "text/plain": [
       "         date  user_id_anon  visit_id_anon product_id  product_detail_views\n",
       "0  2018-09-13      24149070              5    1084575                     1\n",
       "1  2018-10-11      24149070              6    1054500                     3\n",
       "2  2018-10-11      24149070              7  981583001                     2\n",
       "3  2018-10-12      24149070              8    1054500                     1\n",
       "4  2018-10-17      24149070              9     641958                     1"
      ]
     },
     "execution_count": 20,
     "metadata": {},
     "output_type": "execute_result"
    }
   ],
   "source": [
    "# product_views_cz\n",
    "print(product_views.shape)\n",
    "product_views.head()"
   ]
  },
  {
   "cell_type": "code",
   "execution_count": 22,
   "metadata": {},
   "outputs": [
    {
     "data": {
      "text/plain": [
       "3138978"
      ]
     },
     "execution_count": 22,
     "metadata": {},
     "output_type": "execute_result"
    }
   ],
   "source": [
    "len(set(product_views.product_id.values))"
   ]
  },
  {
   "cell_type": "code",
   "execution_count": 21,
   "metadata": {},
   "outputs": [
    {
     "name": "stdout",
     "output_type": "stream",
     "text": [
      "(277376, 2)\n"
     ]
    },
    {
     "data": {
      "text/html": [
       "<div>\n",
       "<style scoped>\n",
       "    .dataframe tbody tr th:only-of-type {\n",
       "        vertical-align: middle;\n",
       "    }\n",
       "\n",
       "    .dataframe tbody tr th {\n",
       "        vertical-align: top;\n",
       "    }\n",
       "\n",
       "    .dataframe thead th {\n",
       "        text-align: right;\n",
       "    }\n",
       "</style>\n",
       "<table border=\"1\" class=\"dataframe\">\n",
       "  <thead>\n",
       "    <tr style=\"text-align: right;\">\n",
       "      <th></th>\n",
       "      <th>MATERIAL_ID</th>\n",
       "      <th>NAME_GROUPING</th>\n",
       "    </tr>\n",
       "  </thead>\n",
       "  <tbody>\n",
       "    <tr>\n",
       "      <th>0</th>\n",
       "      <td>1061907</td>\n",
       "      <td>DAFI pH+ Classic náhradní filtr 1 ks</td>\n",
       "    </tr>\n",
       "    <tr>\n",
       "      <th>1</th>\n",
       "      <td>741319</td>\n",
       "      <td>LEGO Classic 10698 Velký kreativní box</td>\n",
       "    </tr>\n",
       "    <tr>\n",
       "      <th>2</th>\n",
       "      <td>1039111</td>\n",
       "      <td>GUZZANTI GZ 901</td>\n",
       "    </tr>\n",
       "    <tr>\n",
       "      <th>3</th>\n",
       "      <td>1106737</td>\n",
       "      <td>Panasonic AAA 3ks 750 mAh ENELOOP (4MCCE/3BE)</td>\n",
       "    </tr>\n",
       "    <tr>\n",
       "      <th>4</th>\n",
       "      <td>1243225</td>\n",
       "      <td>Yenkee YMC 1020, šedý/černý (YMC 1020GY)</td>\n",
       "    </tr>\n",
       "  </tbody>\n",
       "</table>\n",
       "</div>"
      ],
      "text/plain": [
       "   MATERIAL_ID                                  NAME_GROUPING\n",
       "0      1061907           DAFI pH+ Classic náhradní filtr 1 ks\n",
       "1       741319         LEGO Classic 10698 Velký kreativní box\n",
       "2      1039111                                GUZZANTI GZ 901\n",
       "3      1106737  Panasonic AAA 3ks 750 mAh ENELOOP (4MCCE/3BE)\n",
       "4      1243225       Yenkee YMC 1020, šedý/černý (YMC 1020GY)"
      ]
     },
     "execution_count": 21,
     "metadata": {},
     "output_type": "execute_result"
    }
   ],
   "source": [
    "# material_attributes_cz\n",
    "print(material_attributes.shape)\n",
    "material_attributes.head()"
   ]
  },
  {
   "cell_type": "code",
   "execution_count": 23,
   "metadata": {},
   "outputs": [
    {
     "name": "stdout",
     "output_type": "stream",
     "text": [
      "Number of material_ids:\n"
     ]
    },
    {
     "data": {
      "text/plain": [
       "277334"
      ]
     },
     "execution_count": 23,
     "metadata": {},
     "output_type": "execute_result"
    }
   ],
   "source": [
    "print(\"Number of material_ids:\")\n",
    "len(set(material_attributes[\"MATERIAL_ID\"].values))"
   ]
  },
  {
   "cell_type": "code",
   "execution_count": 24,
   "metadata": {},
   "outputs": [
    {
     "name": "stdout",
     "output_type": "stream",
     "text": [
      "Number of name_groupings:\n"
     ]
    },
    {
     "data": {
      "text/plain": [
       "218142"
      ]
     },
     "execution_count": 24,
     "metadata": {},
     "output_type": "execute_result"
    }
   ],
   "source": [
    "print(\"Number of name_groupings:\")\n",
    "len(set(material_attributes[\"NAME_GROUPING\"].values))"
   ]
  },
  {
   "cell_type": "code",
   "execution_count": 25,
   "metadata": {},
   "outputs": [
    {
     "name": "stdout",
     "output_type": "stream",
     "text": [
      "(71717, 11)\n"
     ]
    },
    {
     "data": {
      "text/html": [
       "<div>\n",
       "<style scoped>\n",
       "    .dataframe tbody tr th:only-of-type {\n",
       "        vertical-align: middle;\n",
       "    }\n",
       "\n",
       "    .dataframe tbody tr th {\n",
       "        vertical-align: top;\n",
       "    }\n",
       "\n",
       "    .dataframe thead th {\n",
       "        text-align: right;\n",
       "    }\n",
       "</style>\n",
       "<table border=\"1\" class=\"dataframe\">\n",
       "  <thead>\n",
       "    <tr style=\"text-align: right;\">\n",
       "      <th></th>\n",
       "      <th>id</th>\n",
       "      <th>sid</th>\n",
       "      <th>shop</th>\n",
       "      <th>name</th>\n",
       "      <th>name_full</th>\n",
       "      <th>url</th>\n",
       "      <th>priority</th>\n",
       "      <th>path</th>\n",
       "      <th>visible</th>\n",
       "      <th>ods_created</th>\n",
       "      <th>ods_expired</th>\n",
       "    </tr>\n",
       "  </thead>\n",
       "  <tbody>\n",
       "    <tr>\n",
       "      <th>0</th>\n",
       "      <td>26619288</td>\n",
       "      <td>100053222</td>\n",
       "      <td>MAHR</td>\n",
       "      <td>7+</td>\n",
       "      <td>LEGO® od 7 godina</td>\n",
       "      <td>https://www.mall.hr/lego-od-7-godina</td>\n",
       "      <td>0</td>\n",
       "      <td>MALL.HR &gt; Igračke &gt; Građevni setovi &gt; LEGO® &gt; 7+</td>\n",
       "      <td>f</td>\n",
       "      <td>2020-10-18 07:49:27.995213+00</td>\n",
       "      <td>NaN</td>\n",
       "    </tr>\n",
       "    <tr>\n",
       "      <th>1</th>\n",
       "      <td>1321</td>\n",
       "      <td>15565418</td>\n",
       "      <td>MASI</td>\n",
       "      <td>Vozila na pedala</td>\n",
       "      <td>Vozila na pedala</td>\n",
       "      <td>https://www.mimovrste.com/vozila-na-pedala</td>\n",
       "      <td>0</td>\n",
       "      <td>Mimovrste &gt; Igrače &gt; Otroška vozila &gt; Vozila n...</td>\n",
       "      <td>t</td>\n",
       "      <td>2020-10-18 07:49:27.995213+00</td>\n",
       "      <td>NaN</td>\n",
       "    </tr>\n",
       "    <tr>\n",
       "      <th>2</th>\n",
       "      <td>10260385</td>\n",
       "      <td>100037668</td>\n",
       "      <td>MAHR</td>\n",
       "      <td>Pelene</td>\n",
       "      <td>Pelene</td>\n",
       "      <td>https://www.mall.hr/pelene</td>\n",
       "      <td>1</td>\n",
       "      <td>MALL.HR &gt; Dječja oprema &gt; Pelene i previjanje ...</td>\n",
       "      <td>t</td>\n",
       "      <td>2020-10-17 17:57:42.820907+00</td>\n",
       "      <td>NaN</td>\n",
       "    </tr>\n",
       "    <tr>\n",
       "      <th>3</th>\n",
       "      <td>34877</td>\n",
       "      <td>15572557</td>\n",
       "      <td>MASI</td>\n",
       "      <td>Napihljive blazine</td>\n",
       "      <td>Napihljive blazine</td>\n",
       "      <td>https://www.mimovrste.com/napihljive-blazine</td>\n",
       "      <td>0</td>\n",
       "      <td>Mimovrste &gt; Igrače &gt; Zunanja igrala &gt; Napihlji...</td>\n",
       "      <td>t</td>\n",
       "      <td>2020-10-17 17:57:42.820907+00</td>\n",
       "      <td>NaN</td>\n",
       "    </tr>\n",
       "    <tr>\n",
       "      <th>4</th>\n",
       "      <td>920589</td>\n",
       "      <td>15576138</td>\n",
       "      <td>MASI</td>\n",
       "      <td>Friends</td>\n",
       "      <td>LEGO® Friends</td>\n",
       "      <td>https://www.mimovrste.com/lego-friends-2</td>\n",
       "      <td>3</td>\n",
       "      <td>Mimovrste &gt; Igrače &gt; Kocke &gt; LEGO® &gt; Friends</td>\n",
       "      <td>t</td>\n",
       "      <td>2019-05-28 10:18:44.641703+00</td>\n",
       "      <td>2020-10-16 11:32:49.587343+00</td>\n",
       "    </tr>\n",
       "  </tbody>\n",
       "</table>\n",
       "</div>"
      ],
      "text/plain": [
       "         id        sid  shop                name           name_full  \\\n",
       "0  26619288  100053222  MAHR                  7+   LEGO® od 7 godina   \n",
       "1      1321   15565418  MASI    Vozila na pedala    Vozila na pedala   \n",
       "2  10260385  100037668  MAHR              Pelene              Pelene   \n",
       "3     34877   15572557  MASI  Napihljive blazine  Napihljive blazine   \n",
       "4    920589   15576138  MASI             Friends       LEGO® Friends   \n",
       "\n",
       "                                            url  priority  \\\n",
       "0          https://www.mall.hr/lego-od-7-godina         0   \n",
       "1    https://www.mimovrste.com/vozila-na-pedala         0   \n",
       "2                    https://www.mall.hr/pelene         1   \n",
       "3  https://www.mimovrste.com/napihljive-blazine         0   \n",
       "4      https://www.mimovrste.com/lego-friends-2         3   \n",
       "\n",
       "                                                path visible  \\\n",
       "0   MALL.HR > Igračke > Građevni setovi > LEGO® > 7+       f   \n",
       "1  Mimovrste > Igrače > Otroška vozila > Vozila n...       t   \n",
       "2  MALL.HR > Dječja oprema > Pelene i previjanje ...       t   \n",
       "3  Mimovrste > Igrače > Zunanja igrala > Napihlji...       t   \n",
       "4       Mimovrste > Igrače > Kocke > LEGO® > Friends       t   \n",
       "\n",
       "                     ods_created                    ods_expired  \n",
       "0  2020-10-18 07:49:27.995213+00                            NaN  \n",
       "1  2020-10-18 07:49:27.995213+00                            NaN  \n",
       "2  2020-10-17 17:57:42.820907+00                            NaN  \n",
       "3  2020-10-17 17:57:42.820907+00                            NaN  \n",
       "4  2019-05-28 10:18:44.641703+00  2020-10-16 11:32:49.587343+00  "
      ]
     },
     "execution_count": 25,
     "metadata": {},
     "output_type": "execute_result"
    }
   ],
   "source": [
    "# list_category\n",
    "print(list_category.shape)\n",
    "list_category.head()"
   ]
  },
  {
   "cell_type": "code",
   "execution_count": 26,
   "metadata": {},
   "outputs": [
    {
     "data": {
      "text/plain": [
       "(17359, 11)"
      ]
     },
     "execution_count": 26,
     "metadata": {},
     "output_type": "execute_result"
    }
   ],
   "source": [
    "list_category[list_category[\"shop\"]==\"MACZ\"].shape"
   ]
  },
  {
   "cell_type": "code",
   "execution_count": 27,
   "metadata": {},
   "outputs": [
    {
     "name": "stdout",
     "output_type": "stream",
     "text": [
      "Number of ids:\n"
     ]
    },
    {
     "data": {
      "text/plain": [
       "30174"
      ]
     },
     "execution_count": 27,
     "metadata": {},
     "output_type": "execute_result"
    }
   ],
   "source": [
    "print(\"Number of ids:\")\n",
    "len(set(list_category[\"id\"].values))"
   ]
  },
  {
   "cell_type": "code",
   "execution_count": 28,
   "metadata": {},
   "outputs": [
    {
     "name": "stdout",
     "output_type": "stream",
     "text": [
      "(456784971, 4)\n"
     ]
    },
    {
     "data": {
      "text/html": [
       "<div>\n",
       "<style scoped>\n",
       "    .dataframe tbody tr th:only-of-type {\n",
       "        vertical-align: middle;\n",
       "    }\n",
       "\n",
       "    .dataframe tbody tr th {\n",
       "        vertical-align: top;\n",
       "    }\n",
       "\n",
       "    .dataframe thead th {\n",
       "        text-align: right;\n",
       "    }\n",
       "</style>\n",
       "<table border=\"1\" class=\"dataframe\">\n",
       "  <thead>\n",
       "    <tr style=\"text-align: right;\">\n",
       "      <th></th>\n",
       "      <th>item_id</th>\n",
       "      <th>category_id</th>\n",
       "      <th>ods_created</th>\n",
       "      <th>is_main</th>\n",
       "    </tr>\n",
       "  </thead>\n",
       "  <tbody>\n",
       "    <tr>\n",
       "      <th>0</th>\n",
       "      <td>8061405</td>\n",
       "      <td>1051598</td>\n",
       "      <td>2020-08-08 03:20:02.7665+00</td>\n",
       "      <td>f</td>\n",
       "    </tr>\n",
       "    <tr>\n",
       "      <th>1</th>\n",
       "      <td>7807990</td>\n",
       "      <td>5217670</td>\n",
       "      <td>2020-08-08 03:20:02.7665+00</td>\n",
       "      <td>f</td>\n",
       "    </tr>\n",
       "    <tr>\n",
       "      <th>2</th>\n",
       "      <td>7746417</td>\n",
       "      <td>237</td>\n",
       "      <td>2020-08-08 03:20:02.7665+00</td>\n",
       "      <td>f</td>\n",
       "    </tr>\n",
       "    <tr>\n",
       "      <th>3</th>\n",
       "      <td>656838977</td>\n",
       "      <td>49931</td>\n",
       "      <td>2020-08-08 03:20:02.7665+00</td>\n",
       "      <td>f</td>\n",
       "    </tr>\n",
       "    <tr>\n",
       "      <th>4</th>\n",
       "      <td>158574663</td>\n",
       "      <td>1480415</td>\n",
       "      <td>2020-08-08 03:20:02.7665+00</td>\n",
       "      <td>f</td>\n",
       "    </tr>\n",
       "  </tbody>\n",
       "</table>\n",
       "</div>"
      ],
      "text/plain": [
       "     item_id  category_id                  ods_created is_main\n",
       "0    8061405      1051598  2020-08-08 03:20:02.7665+00       f\n",
       "1    7807990      5217670  2020-08-08 03:20:02.7665+00       f\n",
       "2    7746417          237  2020-08-08 03:20:02.7665+00       f\n",
       "3  656838977        49931  2020-08-08 03:20:02.7665+00       f\n",
       "4  158574663      1480415  2020-08-08 03:20:02.7665+00       f"
      ]
     },
     "execution_count": 28,
     "metadata": {},
     "output_type": "execute_result"
    }
   ],
   "source": [
    "# cz_item_category\n",
    "print(item_category.shape)\n",
    "item_category.head()"
   ]
  },
  {
   "cell_type": "code",
   "execution_count": 29,
   "metadata": {},
   "outputs": [
    {
     "name": "stdout",
     "output_type": "stream",
     "text": [
      "Number of categories:\n"
     ]
    },
    {
     "data": {
      "text/plain": [
       "7704"
      ]
     },
     "execution_count": 29,
     "metadata": {},
     "output_type": "execute_result"
    }
   ],
   "source": [
    "print(\"Number of categories:\")\n",
    "len(set(item_category[\"category_id\"].values))"
   ]
  },
  {
   "cell_type": "code",
   "execution_count": 30,
   "metadata": {},
   "outputs": [
    {
     "name": "stdout",
     "output_type": "stream",
     "text": [
      "Number of item_ids:\n"
     ]
    },
    {
     "data": {
      "text/plain": [
       "8827878"
      ]
     },
     "execution_count": 30,
     "metadata": {},
     "output_type": "execute_result"
    }
   ],
   "source": [
    "print(\"Number of item_ids:\")\n",
    "len(set(item_category[\"item_id\"].values))"
   ]
  },
  {
   "cell_type": "code",
   "execution_count": 31,
   "metadata": {},
   "outputs": [
    {
     "name": "stdout",
     "output_type": "stream",
     "text": [
      "(10077099, 3)\n"
     ]
    },
    {
     "data": {
      "text/html": [
       "<div>\n",
       "<style scoped>\n",
       "    .dataframe tbody tr th:only-of-type {\n",
       "        vertical-align: middle;\n",
       "    }\n",
       "\n",
       "    .dataframe tbody tr th {\n",
       "        vertical-align: top;\n",
       "    }\n",
       "\n",
       "    .dataframe thead th {\n",
       "        text-align: right;\n",
       "    }\n",
       "</style>\n",
       "<table border=\"1\" class=\"dataframe\">\n",
       "  <thead>\n",
       "    <tr style=\"text-align: right;\">\n",
       "      <th></th>\n",
       "      <th>id</th>\n",
       "      <th>sid</th>\n",
       "      <th>grouping_sid</th>\n",
       "    </tr>\n",
       "  </thead>\n",
       "  <tbody>\n",
       "    <tr>\n",
       "      <th>0</th>\n",
       "      <td>7585376</td>\n",
       "      <td>1241943</td>\n",
       "      <td>1241943</td>\n",
       "    </tr>\n",
       "    <tr>\n",
       "      <th>1</th>\n",
       "      <td>202212599</td>\n",
       "      <td>100005762097</td>\n",
       "      <td>100005762097</td>\n",
       "    </tr>\n",
       "    <tr>\n",
       "      <th>2</th>\n",
       "      <td>109314538</td>\n",
       "      <td>100004834295</td>\n",
       "      <td>100004834152</td>\n",
       "    </tr>\n",
       "    <tr>\n",
       "      <th>3</th>\n",
       "      <td>87389423</td>\n",
       "      <td>100004637388</td>\n",
       "      <td>100004637388</td>\n",
       "    </tr>\n",
       "    <tr>\n",
       "      <th>4</th>\n",
       "      <td>53754840</td>\n",
       "      <td>100004375993</td>\n",
       "      <td>100004375989</td>\n",
       "    </tr>\n",
       "  </tbody>\n",
       "</table>\n",
       "</div>"
      ],
      "text/plain": [
       "          id           sid  grouping_sid\n",
       "0    7585376       1241943       1241943\n",
       "1  202212599  100005762097  100005762097\n",
       "2  109314538  100004834295  100004834152\n",
       "3   87389423  100004637388  100004637388\n",
       "4   53754840  100004375993  100004375989"
      ]
     },
     "execution_count": 31,
     "metadata": {},
     "output_type": "execute_result"
    }
   ],
   "source": [
    "# item_cz\n",
    "print(item.shape)\n",
    "item.head()"
   ]
  },
  {
   "cell_type": "code",
   "execution_count": 12,
   "metadata": {},
   "outputs": [
    {
     "data": {
      "text/plain": [
       "True"
      ]
     },
     "execution_count": 12,
     "metadata": {},
     "output_type": "execute_result"
    }
   ],
   "source": [
    "set(item_category[\"category_id\"].values).issubset(set(list_category[\"id\"].values))\n",
    "# category_id datasetu cz_item_category je podmnozina datasetu list_category"
   ]
  },
  {
   "cell_type": "markdown",
   "metadata": {},
   "source": [
    "## Filip upgrade"
   ]
  },
  {
   "cell_type": "code",
   "execution_count": 7,
   "metadata": {},
   "outputs": [
    {
     "data": {
      "text/html": [
       "<div>\n",
       "<style scoped>\n",
       "    .dataframe tbody tr th:only-of-type {\n",
       "        vertical-align: middle;\n",
       "    }\n",
       "\n",
       "    .dataframe tbody tr th {\n",
       "        vertical-align: top;\n",
       "    }\n",
       "\n",
       "    .dataframe thead th {\n",
       "        text-align: right;\n",
       "    }\n",
       "</style>\n",
       "<table border=\"1\" class=\"dataframe\">\n",
       "  <thead>\n",
       "    <tr style=\"text-align: right;\">\n",
       "      <th></th>\n",
       "      <th>date</th>\n",
       "      <th>user_id_anon</th>\n",
       "      <th>visit_id_anon</th>\n",
       "      <th>product_id</th>\n",
       "      <th>product_detail_views</th>\n",
       "    </tr>\n",
       "  </thead>\n",
       "  <tbody>\n",
       "    <tr>\n",
       "      <th>0</th>\n",
       "      <td>2018-09-13</td>\n",
       "      <td>24149070</td>\n",
       "      <td>5</td>\n",
       "      <td>1084575</td>\n",
       "      <td>1</td>\n",
       "    </tr>\n",
       "    <tr>\n",
       "      <th>1</th>\n",
       "      <td>2018-10-11</td>\n",
       "      <td>24149070</td>\n",
       "      <td>6</td>\n",
       "      <td>1054500</td>\n",
       "      <td>3</td>\n",
       "    </tr>\n",
       "    <tr>\n",
       "      <th>2</th>\n",
       "      <td>2018-10-11</td>\n",
       "      <td>24149070</td>\n",
       "      <td>7</td>\n",
       "      <td>981583001</td>\n",
       "      <td>2</td>\n",
       "    </tr>\n",
       "    <tr>\n",
       "      <th>3</th>\n",
       "      <td>2018-10-12</td>\n",
       "      <td>24149070</td>\n",
       "      <td>8</td>\n",
       "      <td>1054500</td>\n",
       "      <td>1</td>\n",
       "    </tr>\n",
       "    <tr>\n",
       "      <th>4</th>\n",
       "      <td>2018-10-17</td>\n",
       "      <td>24149070</td>\n",
       "      <td>9</td>\n",
       "      <td>641958</td>\n",
       "      <td>1</td>\n",
       "    </tr>\n",
       "  </tbody>\n",
       "</table>\n",
       "</div>"
      ],
      "text/plain": [
       "         date  user_id_anon  visit_id_anon product_id  product_detail_views\n",
       "0  2018-09-13      24149070              5    1084575                     1\n",
       "1  2018-10-11      24149070              6    1054500                     3\n",
       "2  2018-10-11      24149070              7  981583001                     2\n",
       "3  2018-10-12      24149070              8    1054500                     1\n",
       "4  2018-10-17      24149070              9     641958                     1"
      ]
     },
     "execution_count": 7,
     "metadata": {},
     "output_type": "execute_result"
    }
   ],
   "source": [
    "product_views.head()"
   ]
  },
  {
   "cell_type": "markdown",
   "metadata": {},
   "source": [
    "Nejprve provedu vycisteni datasetu product_views_cz. Budu uvazovat pouze produkty z roku 2020 (filtrace pres sloupec 'date') a odstranim duplikatni zaznamy:"
   ]
  },
  {
   "cell_type": "code",
   "execution_count": 8,
   "metadata": {},
   "outputs": [
    {
     "name": "stdout",
     "output_type": "stream",
     "text": [
      "Initial shape:  (420387634, 5)\n"
     ]
    }
   ],
   "source": [
    "print(\"Initial shape: \", product_views.shape)"
   ]
  },
  {
   "cell_type": "code",
   "execution_count": 9,
   "metadata": {},
   "outputs": [
    {
     "name": "stdout",
     "output_type": "stream",
     "text": [
      "Date is year-month-day format.\n",
      "Type of the date entries:  <class 'str'>\n",
      "This format is comparable using boolean algebra...thank god for that.\n"
     ]
    }
   ],
   "source": [
    "print(\"Date is year-month-day format.\")\n",
    "print(\"Type of the date entries: \", type(product_views[\"date\"].values[0]))\n",
    "print(\"This format is comparable using boolean algebra...thank god for that.\")"
   ]
  },
  {
   "cell_type": "code",
   "execution_count": 10,
   "metadata": {},
   "outputs": [
    {
     "name": "stdout",
     "output_type": "stream",
     "text": [
      "Take everything from 2020: \n",
      "(111901666, 5)\n"
     ]
    }
   ],
   "source": [
    "print(\"Take everything from 2020: \")\n",
    "product_views_filtered = product_views[product_views[\"date\"]>=\"2020-01-01\"] #>'2019-10-00'\n",
    "print(product_views_filtered.shape)"
   ]
  },
  {
   "cell_type": "code",
   "execution_count": 11,
   "metadata": {},
   "outputs": [
    {
     "name": "stdout",
     "output_type": "stream",
     "text": [
      "Remove duplicates: \n",
      "(111901666, 5)\n"
     ]
    }
   ],
   "source": [
    "print(\"Remove duplicates: \")\n",
    "product_views_filtered = product_views_filtered.drop_duplicates()\n",
    "print(product_views_filtered.shape)"
   ]
  },
  {
   "cell_type": "code",
   "execution_count": 12,
   "metadata": {},
   "outputs": [
    {
     "name": "stdout",
     "output_type": "stream",
     "text": [
      "Remains  26.618686409791014 % of the initial dataset.\n"
     ]
    }
   ],
   "source": [
    "print(\"Remains \", 100*(product_views_filtered.shape[0]/product_views.shape[0]), \"% of the initial dataset.\")"
   ]
  },
  {
   "cell_type": "code",
   "execution_count": 13,
   "metadata": {},
   "outputs": [
    {
     "name": "stdout",
     "output_type": "stream",
     "text": [
      "Improving Filip's code (hopefully right): \n",
      "Time elapse:  11.304257154464722  s.\n"
     ]
    }
   ],
   "source": [
    "import time\n",
    "print(\"Improving Filip's code (hopefully right): \")\n",
    "start = time.time()\n",
    "\n",
    "Table_3 = product_views_filtered[product_views_filtered[\"product_id\"].isin(set(material_attributes[\"MATERIAL_ID\"]))]\n",
    "\n",
    "print(\"Time elapse: \", time.time() - start, \" s.\")"
   ]
  },
  {
   "cell_type": "code",
   "execution_count": 14,
   "metadata": {},
   "outputs": [
    {
     "name": "stdout",
     "output_type": "stream",
     "text": [
      "Remains  60.9924449203464 %.\n",
      "Table_3 shape:  (68251562, 5)\n"
     ]
    }
   ],
   "source": [
    "print(\"Remains \", 100*(Table_3.shape[0]/product_views_filtered.shape[0]), \"%.\")\n",
    "print(\"Table_3 shape: \", Table_3.shape)"
   ]
  },
  {
   "cell_type": "markdown",
   "metadata": {},
   "source": [
    "## using"
   ]
  },
  {
   "cell_type": "code",
   "execution_count": 15,
   "metadata": {},
   "outputs": [
    {
     "name": "stdout",
     "output_type": "stream",
     "text": [
      "(68251562, 5)\n"
     ]
    },
    {
     "data": {
      "text/html": [
       "<div>\n",
       "<style scoped>\n",
       "    .dataframe tbody tr th:only-of-type {\n",
       "        vertical-align: middle;\n",
       "    }\n",
       "\n",
       "    .dataframe tbody tr th {\n",
       "        vertical-align: top;\n",
       "    }\n",
       "\n",
       "    .dataframe thead th {\n",
       "        text-align: right;\n",
       "    }\n",
       "</style>\n",
       "<table border=\"1\" class=\"dataframe\">\n",
       "  <thead>\n",
       "    <tr style=\"text-align: right;\">\n",
       "      <th></th>\n",
       "      <th>user_id_anon</th>\n",
       "      <th>product_id</th>\n",
       "    </tr>\n",
       "  </thead>\n",
       "  <tbody>\n",
       "    <tr>\n",
       "      <th>0</th>\n",
       "      <td>26765943</td>\n",
       "      <td>1018700</td>\n",
       "    </tr>\n",
       "    <tr>\n",
       "      <th>1</th>\n",
       "      <td>14723304</td>\n",
       "      <td>1412935001</td>\n",
       "    </tr>\n",
       "    <tr>\n",
       "      <th>2</th>\n",
       "      <td>14723304</td>\n",
       "      <td>956709003</td>\n",
       "    </tr>\n",
       "    <tr>\n",
       "      <th>3</th>\n",
       "      <td>14723304</td>\n",
       "      <td>937876001</td>\n",
       "    </tr>\n",
       "    <tr>\n",
       "      <th>4</th>\n",
       "      <td>14723304</td>\n",
       "      <td>842005003</td>\n",
       "    </tr>\n",
       "  </tbody>\n",
       "</table>\n",
       "</div>"
      ],
      "text/plain": [
       "   user_id_anon  product_id\n",
       "0      26765943     1018700\n",
       "1      14723304  1412935001\n",
       "2      14723304   956709003\n",
       "3      14723304   937876001\n",
       "4      14723304   842005003"
      ]
     },
     "execution_count": 15,
     "metadata": {},
     "output_type": "execute_result"
    }
   ],
   "source": [
    "product_views_filtered = Table_3\n",
    "print(product_views_filtered.shape)\n",
    "data = product_views_filtered[product_views_filtered.columns[[1,3]]].reset_index(drop=True)\n",
    "data.head()"
   ]
  },
  {
   "cell_type": "code",
   "execution_count": 16,
   "metadata": {},
   "outputs": [
    {
     "name": "stdout",
     "output_type": "stream",
     "text": [
      "This removes more rows because after filtering out date, visit_id_anon and product_detail_views, there are more duplicates.\n",
      "(56556781, 2)\n"
     ]
    }
   ],
   "source": [
    "print(\"This removes more rows because after filtering out date, visit_id_anon and product_detail_views, there are more duplicates.\")\n",
    "data = data.drop_duplicates()\n",
    "print(data.shape)"
   ]
  },
  {
   "cell_type": "code",
   "execution_count": 17,
   "metadata": {},
   "outputs": [],
   "source": [
    "products_sorted = np.sort((list(data[\"product_id\"].drop_duplicates().values)), axis=None) # from smallest id to the highest in the dataset\n",
    "\n",
    "users_sorted = np.sort((list(data[\"user_id_anon\"].drop_duplicates().values)), axis=None)"
   ]
  },
  {
   "cell_type": "code",
   "execution_count": 18,
   "metadata": {},
   "outputs": [],
   "source": [
    "sdata = data.astype(pd.SparseDtype(\"int64\", False))\n",
    "\n",
    "sdata = sdata.set_index(['user_id_anon', sdata.groupby('user_id_anon').cumcount().add(1).astype(int)])"
   ]
  },
  {
   "cell_type": "code",
   "execution_count": 19,
   "metadata": {},
   "outputs": [
    {
     "data": {
      "text/html": [
       "<div>\n",
       "<style scoped>\n",
       "    .dataframe tbody tr th:only-of-type {\n",
       "        vertical-align: middle;\n",
       "    }\n",
       "\n",
       "    .dataframe tbody tr th {\n",
       "        vertical-align: top;\n",
       "    }\n",
       "\n",
       "    .dataframe thead th {\n",
       "        text-align: right;\n",
       "    }\n",
       "</style>\n",
       "<table border=\"1\" class=\"dataframe\">\n",
       "  <thead>\n",
       "    <tr style=\"text-align: right;\">\n",
       "      <th></th>\n",
       "      <th></th>\n",
       "      <th>product_id</th>\n",
       "    </tr>\n",
       "    <tr>\n",
       "      <th>user_id_anon</th>\n",
       "      <th></th>\n",
       "      <th></th>\n",
       "    </tr>\n",
       "  </thead>\n",
       "  <tbody>\n",
       "    <tr>\n",
       "      <th rowspan=\"3\" valign=\"top\">4</th>\n",
       "      <th>1</th>\n",
       "      <td>842005003</td>\n",
       "    </tr>\n",
       "    <tr>\n",
       "      <th>2</th>\n",
       "      <td>551905</td>\n",
       "    </tr>\n",
       "    <tr>\n",
       "      <th>3</th>\n",
       "      <td>1053951</td>\n",
       "    </tr>\n",
       "    <tr>\n",
       "      <th>11</th>\n",
       "      <th>1</th>\n",
       "      <td>1345542</td>\n",
       "    </tr>\n",
       "    <tr>\n",
       "      <th>17</th>\n",
       "      <th>1</th>\n",
       "      <td>1179874</td>\n",
       "    </tr>\n",
       "    <tr>\n",
       "      <th>...</th>\n",
       "      <th>...</th>\n",
       "      <td>...</td>\n",
       "    </tr>\n",
       "    <tr>\n",
       "      <th rowspan=\"2\" valign=\"top\">62570538</th>\n",
       "      <th>2</th>\n",
       "      <td>1105851</td>\n",
       "    </tr>\n",
       "    <tr>\n",
       "      <th>3</th>\n",
       "      <td>1370529</td>\n",
       "    </tr>\n",
       "    <tr>\n",
       "      <th>62570539</th>\n",
       "      <th>1</th>\n",
       "      <td>1341437</td>\n",
       "    </tr>\n",
       "    <tr>\n",
       "      <th>62570550</th>\n",
       "      <th>1</th>\n",
       "      <td>942833</td>\n",
       "    </tr>\n",
       "    <tr>\n",
       "      <th>62570552</th>\n",
       "      <th>1</th>\n",
       "      <td>1407612</td>\n",
       "    </tr>\n",
       "  </tbody>\n",
       "</table>\n",
       "<p>56556781 rows × 1 columns</p>\n",
       "</div>"
      ],
      "text/plain": [
       "                product_id\n",
       "user_id_anon              \n",
       "4            1   842005003\n",
       "             2      551905\n",
       "             3     1053951\n",
       "11           1     1345542\n",
       "17           1     1179874\n",
       "...                    ...\n",
       "62570538     2     1105851\n",
       "             3     1370529\n",
       "62570539     1     1341437\n",
       "62570550     1      942833\n",
       "62570552     1     1407612\n",
       "\n",
       "[56556781 rows x 1 columns]"
      ]
     },
     "execution_count": 19,
     "metadata": {},
     "output_type": "execute_result"
    }
   ],
   "source": [
    "sdata = sdata.sort_index()\n",
    "sdata"
   ]
  },
  {
   "cell_type": "code",
   "execution_count": 20,
   "metadata": {},
   "outputs": [],
   "source": [
    "sdata_index = sdata.index"
   ]
  },
  {
   "cell_type": "code",
   "execution_count": 21,
   "metadata": {},
   "outputs": [],
   "source": [
    "a,b = zip(*sdata_index)"
   ]
  },
  {
   "cell_type": "code",
   "execution_count": 22,
   "metadata": {},
   "outputs": [],
   "source": [
    "lst = np.array_split(a,32)\n",
    "\n",
    "# init\n",
    "part = []\n",
    "part.append( (lst[0][0], lst[0][-1]) )\n",
    "temp = lst[0][-1]\n",
    "for i in lst[1:]:\n",
    "    temp1 = i[0]\n",
    "    if temp1!=temp:\n",
    "        part.append( (temp1, i[-1]) )\n",
    "    else:\n",
    "        k=0\n",
    "        while temp==temp1:\n",
    "            k=k+1\n",
    "            temp1=i[k]\n",
    "        part.append( (temp1, i[-1]) )\n",
    "    temp = i[-1]"
   ]
  },
  {
   "cell_type": "code",
   "execution_count": null,
   "metadata": {},
   "outputs": [
    {
     "name": "stdout",
     "output_type": "stream",
     "text": [
      "Number of chunks: 256.\n",
      "Loading chunk... Done.\n",
      "Preprocessing chunk... Done.\n",
      "Sparsing chunk... Done.\n"
     ]
    }
   ],
   "source": [
    "parts = []\n",
    "print(\"Number of chunks: \" + str(len(part)) + \".\")\n",
    "thing = pd.Series(dict(zip([(-1, i) for i in range(1, len(products_sorted)+1)], products_sorted)))\n",
    "for chunk in part:\n",
    "    sdata_snippet = sdata.loc[chunk[0]:chunk[1]]\n",
    "    print(\"Loading chunk... Done.\")\n",
    "    #sdata_snippet = sdata_snippet.append(pd.DataFrame(thing, columns=[\"product_id\"]))\n",
    "    print(\"Preprocessing chunk... Done.\")\n",
    "    sdata_snippet = sdata_snippet.astype(pd.SparseDtype(\"uint32\", False))\n",
    "    print(\"Sparsing chunk... Done.\")\n",
    "    unstacked = sdata_snippet.unstack(fill_value=False).astype(bool)\n",
    "    print(\"Unstacking chunk... Done.\")\n",
    "    parts.append(sparse.csr_matrix(unstacked.to_numpy(), dtype=bool))\n",
    "    print(\"Appended chunk... Done.\")\n",
    "    print(\"Chunk ended...\")"
   ]
  },
  {
   "cell_type": "code",
   "execution_count": 24,
   "metadata": {},
   "outputs": [],
   "source": [
    "R = sparse.dok_matrix((int(len(users_sorted)), len(products_sorted)), dtype=bool)"
   ]
  },
  {
   "cell_type": "code",
   "execution_count": 27,
   "metadata": {},
   "outputs": [
    {
     "data": {
      "text/plain": [
       "243191"
      ]
     },
     "execution_count": 27,
     "metadata": {},
     "output_type": "execute_result"
    }
   ],
   "source": [
    "len(products_sorted)"
   ]
  },
  {
   "cell_type": "code",
   "execution_count": 28,
   "metadata": {},
   "outputs": [
    {
     "data": {
      "text/plain": [
       "15167773"
      ]
     },
     "execution_count": 28,
     "metadata": {},
     "output_type": "execute_result"
    }
   ],
   "source": [
    "len(users_sorted)"
   ]
  },
  {
   "cell_type": "code",
   "execution_count": 155,
   "metadata": {},
   "outputs": [
    {
     "data": {
      "text/plain": [
       "<1x243191 sparse matrix of type '<class 'numpy.longlong'>'\n",
       "\twith 243191 stored elements in Compressed Sparse Column format>"
      ]
     },
     "execution_count": 155,
     "metadata": {},
     "output_type": "execute_result"
    }
   ],
   "source": [
    "sparse.csc_matrix(products_sorted)"
   ]
  },
  {
   "cell_type": "code",
   "execution_count": 157,
   "metadata": {
    "collapsed": true,
    "jupyter": {
     "outputs_hidden": true
    }
   },
   "outputs": [
    {
     "ename": "KeyboardInterrupt",
     "evalue": "",
     "output_type": "error",
     "traceback": [
      "\u001b[0;31m---------------------------------------------------------------------------\u001b[0m",
      "\u001b[0;31mKeyboardInterrupt\u001b[0m                         Traceback (most recent call last)",
      "\u001b[0;32m<ipython-input-157-a66f2c3131d0>\u001b[0m in \u001b[0;36m<module>\u001b[0;34m\u001b[0m\n\u001b[0;32m----> 1\u001b[0;31m \u001b[0mget_ipython\u001b[0m\u001b[0;34m(\u001b[0m\u001b[0;34m)\u001b[0m\u001b[0;34m.\u001b[0m\u001b[0mrun_cell_magic\u001b[0m\u001b[0;34m(\u001b[0m\u001b[0;34m'prun'\u001b[0m\u001b[0;34m,\u001b[0m \u001b[0;34m'-l 4'\u001b[0m\u001b[0;34m,\u001b[0m \u001b[0;34m'\\n\\n\\n\\nstart = time.time()\\nR = sparse.dok_matrix((int(len(users_sorted)), len(products_sorted)), dtype=bool)\\n\\nk=0\\nstuff = sdata.groupby(\"user_id_anon\")\\n \\nval = list(products_sorted)\\n    \\nfor name, dat in stuff:\\n    indices = [i for i, x in enumerate(val) if x in dat.values]\\n    R[k, indices] = True\\n    k=k+1\\n    if k==1000:\\n        print(time.time() - start)\\n        break\\n    \\nprint(time.time() - start)\\n'\u001b[0m\u001b[0;34m)\u001b[0m\u001b[0;34m\u001b[0m\u001b[0m\n\u001b[0m",
      "\u001b[0;32m~/helios_jupyter_virtual_env/lib64/python3.6/site-packages/IPython/core/interactiveshell.py\u001b[0m in \u001b[0;36mrun_cell_magic\u001b[0;34m(self, magic_name, line, cell)\u001b[0m\n\u001b[1;32m   2360\u001b[0m             \u001b[0;32mwith\u001b[0m \u001b[0mself\u001b[0m\u001b[0;34m.\u001b[0m\u001b[0mbuiltin_trap\u001b[0m\u001b[0;34m:\u001b[0m\u001b[0;34m\u001b[0m\u001b[0m\n\u001b[1;32m   2361\u001b[0m                 \u001b[0margs\u001b[0m \u001b[0;34m=\u001b[0m \u001b[0;34m(\u001b[0m\u001b[0mmagic_arg_s\u001b[0m\u001b[0;34m,\u001b[0m \u001b[0mcell\u001b[0m\u001b[0;34m)\u001b[0m\u001b[0;34m\u001b[0m\u001b[0m\n\u001b[0;32m-> 2362\u001b[0;31m                 \u001b[0mresult\u001b[0m \u001b[0;34m=\u001b[0m \u001b[0mfn\u001b[0m\u001b[0;34m(\u001b[0m\u001b[0;34m*\u001b[0m\u001b[0margs\u001b[0m\u001b[0;34m,\u001b[0m \u001b[0;34m**\u001b[0m\u001b[0mkwargs\u001b[0m\u001b[0;34m)\u001b[0m\u001b[0;34m\u001b[0m\u001b[0m\n\u001b[0m\u001b[1;32m   2363\u001b[0m             \u001b[0;32mreturn\u001b[0m \u001b[0mresult\u001b[0m\u001b[0;34m\u001b[0m\u001b[0m\n\u001b[1;32m   2364\u001b[0m \u001b[0;34m\u001b[0m\u001b[0m\n",
      "\u001b[0;32m</mnt/lustre/helios-home/chmelji6/helios_jupyter_virtual_env/lib64/python3.6/site-packages/decorator.py:decorator-gen-55>\u001b[0m in \u001b[0;36mprun\u001b[0;34m(self, parameter_s, cell)\u001b[0m\n",
      "\u001b[0;32m~/helios_jupyter_virtual_env/lib64/python3.6/site-packages/IPython/core/magic.py\u001b[0m in \u001b[0;36m<lambda>\u001b[0;34m(f, *a, **k)\u001b[0m\n\u001b[1;32m    185\u001b[0m     \u001b[0;31m# but it's overkill for just that one bit of state.\u001b[0m\u001b[0;34m\u001b[0m\u001b[0;34m\u001b[0m\u001b[0m\n\u001b[1;32m    186\u001b[0m     \u001b[0;32mdef\u001b[0m \u001b[0mmagic_deco\u001b[0m\u001b[0;34m(\u001b[0m\u001b[0marg\u001b[0m\u001b[0;34m)\u001b[0m\u001b[0;34m:\u001b[0m\u001b[0;34m\u001b[0m\u001b[0m\n\u001b[0;32m--> 187\u001b[0;31m         \u001b[0mcall\u001b[0m \u001b[0;34m=\u001b[0m \u001b[0;32mlambda\u001b[0m \u001b[0mf\u001b[0m\u001b[0;34m,\u001b[0m \u001b[0;34m*\u001b[0m\u001b[0ma\u001b[0m\u001b[0;34m,\u001b[0m \u001b[0;34m**\u001b[0m\u001b[0mk\u001b[0m\u001b[0;34m:\u001b[0m \u001b[0mf\u001b[0m\u001b[0;34m(\u001b[0m\u001b[0;34m*\u001b[0m\u001b[0ma\u001b[0m\u001b[0;34m,\u001b[0m \u001b[0;34m**\u001b[0m\u001b[0mk\u001b[0m\u001b[0;34m)\u001b[0m\u001b[0;34m\u001b[0m\u001b[0m\n\u001b[0m\u001b[1;32m    188\u001b[0m \u001b[0;34m\u001b[0m\u001b[0m\n\u001b[1;32m    189\u001b[0m         \u001b[0;32mif\u001b[0m \u001b[0mcallable\u001b[0m\u001b[0;34m(\u001b[0m\u001b[0marg\u001b[0m\u001b[0;34m)\u001b[0m\u001b[0;34m:\u001b[0m\u001b[0;34m\u001b[0m\u001b[0m\n",
      "\u001b[0;32m~/helios_jupyter_virtual_env/lib64/python3.6/site-packages/IPython/core/magics/execution.py\u001b[0m in \u001b[0;36mprun\u001b[0;34m(self, parameter_s, cell)\u001b[0m\n\u001b[1;32m    315\u001b[0m             \u001b[0marg_str\u001b[0m \u001b[0;34m+=\u001b[0m \u001b[0;34m'\\n'\u001b[0m \u001b[0;34m+\u001b[0m \u001b[0mcell\u001b[0m\u001b[0;34m\u001b[0m\u001b[0m\n\u001b[1;32m    316\u001b[0m         \u001b[0marg_str\u001b[0m \u001b[0;34m=\u001b[0m \u001b[0mself\u001b[0m\u001b[0;34m.\u001b[0m\u001b[0mshell\u001b[0m\u001b[0;34m.\u001b[0m\u001b[0mtransform_cell\u001b[0m\u001b[0;34m(\u001b[0m\u001b[0marg_str\u001b[0m\u001b[0;34m)\u001b[0m\u001b[0;34m\u001b[0m\u001b[0m\n\u001b[0;32m--> 317\u001b[0;31m         \u001b[0;32mreturn\u001b[0m \u001b[0mself\u001b[0m\u001b[0;34m.\u001b[0m\u001b[0m_run_with_profiler\u001b[0m\u001b[0;34m(\u001b[0m\u001b[0marg_str\u001b[0m\u001b[0;34m,\u001b[0m \u001b[0mopts\u001b[0m\u001b[0;34m,\u001b[0m \u001b[0mself\u001b[0m\u001b[0;34m.\u001b[0m\u001b[0mshell\u001b[0m\u001b[0;34m.\u001b[0m\u001b[0muser_ns\u001b[0m\u001b[0;34m)\u001b[0m\u001b[0;34m\u001b[0m\u001b[0m\n\u001b[0m\u001b[1;32m    318\u001b[0m \u001b[0;34m\u001b[0m\u001b[0m\n\u001b[1;32m    319\u001b[0m     \u001b[0;32mdef\u001b[0m \u001b[0m_run_with_profiler\u001b[0m\u001b[0;34m(\u001b[0m\u001b[0mself\u001b[0m\u001b[0;34m,\u001b[0m \u001b[0mcode\u001b[0m\u001b[0;34m,\u001b[0m \u001b[0mopts\u001b[0m\u001b[0;34m,\u001b[0m \u001b[0mnamespace\u001b[0m\u001b[0;34m)\u001b[0m\u001b[0;34m:\u001b[0m\u001b[0;34m\u001b[0m\u001b[0m\n",
      "\u001b[0;32m~/helios_jupyter_virtual_env/lib64/python3.6/site-packages/IPython/core/magics/execution.py\u001b[0m in \u001b[0;36m_run_with_profiler\u001b[0;34m(self, code, opts, namespace)\u001b[0m\n\u001b[1;32m    337\u001b[0m         \u001b[0mprof\u001b[0m \u001b[0;34m=\u001b[0m \u001b[0mprofile\u001b[0m\u001b[0;34m.\u001b[0m\u001b[0mProfile\u001b[0m\u001b[0;34m(\u001b[0m\u001b[0;34m)\u001b[0m\u001b[0;34m\u001b[0m\u001b[0m\n\u001b[1;32m    338\u001b[0m         \u001b[0;32mtry\u001b[0m\u001b[0;34m:\u001b[0m\u001b[0;34m\u001b[0m\u001b[0m\n\u001b[0;32m--> 339\u001b[0;31m             \u001b[0mprof\u001b[0m \u001b[0;34m=\u001b[0m \u001b[0mprof\u001b[0m\u001b[0;34m.\u001b[0m\u001b[0mrunctx\u001b[0m\u001b[0;34m(\u001b[0m\u001b[0mcode\u001b[0m\u001b[0;34m,\u001b[0m \u001b[0mnamespace\u001b[0m\u001b[0;34m,\u001b[0m \u001b[0mnamespace\u001b[0m\u001b[0;34m)\u001b[0m\u001b[0;34m\u001b[0m\u001b[0m\n\u001b[0m\u001b[1;32m    340\u001b[0m             \u001b[0msys_exit\u001b[0m \u001b[0;34m=\u001b[0m \u001b[0;34m''\u001b[0m\u001b[0;34m\u001b[0m\u001b[0m\n\u001b[1;32m    341\u001b[0m         \u001b[0;32mexcept\u001b[0m \u001b[0mSystemExit\u001b[0m\u001b[0;34m:\u001b[0m\u001b[0;34m\u001b[0m\u001b[0m\n",
      "\u001b[0;32m/usr/lib64/python3.6/cProfile.py\u001b[0m in \u001b[0;36mrunctx\u001b[0;34m(self, cmd, globals, locals)\u001b[0m\n\u001b[1;32m     98\u001b[0m         \u001b[0mself\u001b[0m\u001b[0;34m.\u001b[0m\u001b[0menable\u001b[0m\u001b[0;34m(\u001b[0m\u001b[0;34m)\u001b[0m\u001b[0;34m\u001b[0m\u001b[0m\n\u001b[1;32m     99\u001b[0m         \u001b[0;32mtry\u001b[0m\u001b[0;34m:\u001b[0m\u001b[0;34m\u001b[0m\u001b[0m\n\u001b[0;32m--> 100\u001b[0;31m             \u001b[0mexec\u001b[0m\u001b[0;34m(\u001b[0m\u001b[0mcmd\u001b[0m\u001b[0;34m,\u001b[0m \u001b[0mglobals\u001b[0m\u001b[0;34m,\u001b[0m \u001b[0mlocals\u001b[0m\u001b[0;34m)\u001b[0m\u001b[0;34m\u001b[0m\u001b[0m\n\u001b[0m\u001b[1;32m    101\u001b[0m         \u001b[0;32mfinally\u001b[0m\u001b[0;34m:\u001b[0m\u001b[0;34m\u001b[0m\u001b[0m\n\u001b[1;32m    102\u001b[0m             \u001b[0mself\u001b[0m\u001b[0;34m.\u001b[0m\u001b[0mdisable\u001b[0m\u001b[0;34m(\u001b[0m\u001b[0;34m)\u001b[0m\u001b[0;34m\u001b[0m\u001b[0m\n",
      "\u001b[0;32m<string>\u001b[0m in \u001b[0;36m<module>\u001b[0;34m\u001b[0m\n",
      "\u001b[0;32m<string>\u001b[0m in \u001b[0;36m<listcomp>\u001b[0;34m(.0)\u001b[0m\n",
      "\u001b[0;31mKeyboardInterrupt\u001b[0m: "
     ]
    }
   ],
   "source": [
    "%%prun -l 4\n",
    "\n",
    "def compute_M(data):\n",
    "    cols = np.arange(data.size)\n",
    "    return csr_matrix((cols, (data.ravel(), cols)),\n",
    "                      shape=(data.max() + 1, data.size))\n",
    "\n",
    "def get_indices_sparse(data):\n",
    "    M = compute_M(data)\n",
    "    return [np.unravel_index(row.data, data.shape) for row in M]\n",
    "\n",
    "\n",
    "start = time.time()\n",
    "R = sparse.dok_matrix((int(len(users_sorted)), len(products_sorted)), dtype=bool)\n",
    "\n",
    "k=0\n",
    "stuff = sdata.groupby(\"user_id_anon\")\n",
    " \n",
    "for name, dat in stuff:\n",
    "    R[k, np.where(products_sorted==dat.values)[1]] = True\n",
    "    k=k+1\n",
    "    if k==1000:\n",
    "        print(time.time() - start)\n",
    "        break\n",
    "    \n",
    "print(time.time() - start)"
   ]
  },
  {
   "cell_type": "code",
   "execution_count": 103,
   "metadata": {},
   "outputs": [
    {
     "name": "stdout",
     "output_type": "stream",
     "text": [
      "Collecting Cython\n",
      "  Downloading Cython-0.29.21-cp36-cp36m-manylinux1_x86_64.whl (2.0 MB)\n",
      "\u001b[K     |################################| 2.0 MB 5.4 MB/s eta 0:00:01\n",
      "\u001b[?25hInstalling collected packages: Cython\n",
      "Successfully installed Cython-0.29.21\n"
     ]
    }
   ],
   "source": [
    "!pip install Cython"
   ]
  },
  {
   "cell_type": "code",
   "execution_count": 104,
   "metadata": {},
   "outputs": [],
   "source": [
    "%load_ext Cython"
   ]
  },
  {
   "cell_type": "code",
   "execution_count": 116,
   "metadata": {
    "collapsed": true,
    "jupyter": {
     "outputs_hidden": true
    }
   },
   "outputs": [
    {
     "name": "stderr",
     "output_type": "stream",
     "text": [
      "\n",
      "Error compiling Cython file:\n",
      "------------------------------------------------------------\n",
      "...\n",
      "%%prun -l 4\n",
      "^\n",
      "------------------------------------------------------------\n",
      "\n",
      "/mnt/lustre/helios-home/chmelji6/.cache/ipython/cython/_cython_magic_256c7b1752a9b63d5a5d9baf9134e6cf.pyx:1:0: Expected an identifier or literal\n"
     ]
    }
   ],
   "source": [
    "%%cython\n",
    "\n",
    "import time\n",
    "import numpy as np\n",
    "import pandas as pd\n",
    "from scipy import sparse\n",
    "\n",
    "def read_table(name):\n",
    "    with open(name, mode='rt', encoding='utf-8') as in_file:\n",
    "        file = pd.read_csv(in_file, delimiter=\",\")\n",
    "    return file\n",
    "\n",
    "product_views = read_table(\"product_views_cz\")\n",
    "material_attributes = read_table(\"material_attributes_cz\")\n",
    "\n",
    "product_views_filtered = product_views[product_views[\"date\"]>=\"2020-01-01\"]\n",
    "\n",
    "product_views_filtered = product_views_filtered.drop_duplicates()\n",
    "\n",
    "Table_3 = product_views_filtered[product_views_filtered[\"product_id\"].isin(set(material_attributes[\"MATERIAL_ID\"]))]\n",
    "\n",
    "product_views_filtered = Table_3\n",
    "print(product_views_filtered.shape)\n",
    "data = product_views_filtered[product_views_filtered.columns[[1,3]]].reset_index(drop=True)\n",
    "\n",
    "data = data.drop_duplicates()\n",
    "\n",
    "products_sorted = np.sort((list(data[\"product_id\"].drop_duplicates().values)), axis=None) # from smallest id to the highest in the dataset\n",
    "users_sorted = np.sort((list(data[\"user_id_anon\"].drop_duplicates().values)), axis=None)\n",
    "\n",
    "sdata = data.astype(pd.SparseDtype(\"int64\", False))\n",
    "sdata = sdata.set_index(['user_id_anon', sdata.groupby('user_id_anon').cumcount().add(1).astype(int)])\n",
    "\n",
    "print(\"Stuff done.\")\n",
    "\n",
    "start = time.time()\n",
    "R = sparse.dok_matrix((int(len(users_sorted)), len(products_sorted)), dtype=bool)\n",
    "cdef int k \n",
    "k=0\n",
    "\n",
    "stuff = sdata.groupby(\"user_id_anon\")\n",
    " \n",
    "for name, dat in stuff:\n",
    "    R[k, np.where(products_sorted==dat.values)[1]] = True\n",
    "    k=k+1\n",
    "    if k==10000:\n",
    "        print(time.time() - start)\n",
    "    \n",
    "print(time.time() - start)"
   ]
  },
  {
   "cell_type": "code",
   "execution_count": 44,
   "metadata": {},
   "outputs": [
    {
     "data": {
      "text/html": [
       "<div>\n",
       "<style scoped>\n",
       "    .dataframe tbody tr th:only-of-type {\n",
       "        vertical-align: middle;\n",
       "    }\n",
       "\n",
       "    .dataframe tbody tr th {\n",
       "        vertical-align: top;\n",
       "    }\n",
       "\n",
       "    .dataframe thead tr th {\n",
       "        text-align: left;\n",
       "    }\n",
       "\n",
       "    .dataframe thead tr:last-of-type th {\n",
       "        text-align: right;\n",
       "    }\n",
       "</style>\n",
       "<table border=\"1\" class=\"dataframe\">\n",
       "  <thead>\n",
       "    <tr>\n",
       "      <th></th>\n",
       "      <th colspan=\"21\" halign=\"left\">product_id</th>\n",
       "    </tr>\n",
       "    <tr>\n",
       "      <th></th>\n",
       "      <th>1</th>\n",
       "      <th>2</th>\n",
       "      <th>3</th>\n",
       "      <th>4</th>\n",
       "      <th>5</th>\n",
       "      <th>6</th>\n",
       "      <th>7</th>\n",
       "      <th>8</th>\n",
       "      <th>9</th>\n",
       "      <th>10</th>\n",
       "      <th>...</th>\n",
       "      <th>1994</th>\n",
       "      <th>1995</th>\n",
       "      <th>1996</th>\n",
       "      <th>1997</th>\n",
       "      <th>1998</th>\n",
       "      <th>1999</th>\n",
       "      <th>2000</th>\n",
       "      <th>2001</th>\n",
       "      <th>2002</th>\n",
       "      <th>2003</th>\n",
       "    </tr>\n",
       "    <tr>\n",
       "      <th>user_id_anon</th>\n",
       "      <th></th>\n",
       "      <th></th>\n",
       "      <th></th>\n",
       "      <th></th>\n",
       "      <th></th>\n",
       "      <th></th>\n",
       "      <th></th>\n",
       "      <th></th>\n",
       "      <th></th>\n",
       "      <th></th>\n",
       "      <th></th>\n",
       "      <th></th>\n",
       "      <th></th>\n",
       "      <th></th>\n",
       "      <th></th>\n",
       "      <th></th>\n",
       "      <th></th>\n",
       "      <th></th>\n",
       "      <th></th>\n",
       "      <th></th>\n",
       "      <th></th>\n",
       "    </tr>\n",
       "  </thead>\n",
       "  <tbody>\n",
       "    <tr>\n",
       "      <th>26765943</th>\n",
       "      <td>1018700</td>\n",
       "      <td>False</td>\n",
       "      <td>False</td>\n",
       "      <td>False</td>\n",
       "      <td>False</td>\n",
       "      <td>False</td>\n",
       "      <td>False</td>\n",
       "      <td>False</td>\n",
       "      <td>False</td>\n",
       "      <td>False</td>\n",
       "      <td>...</td>\n",
       "      <td>False</td>\n",
       "      <td>False</td>\n",
       "      <td>False</td>\n",
       "      <td>False</td>\n",
       "      <td>False</td>\n",
       "      <td>False</td>\n",
       "      <td>False</td>\n",
       "      <td>False</td>\n",
       "      <td>False</td>\n",
       "      <td>False</td>\n",
       "    </tr>\n",
       "    <tr>\n",
       "      <th>14723304</th>\n",
       "      <td>1412935001</td>\n",
       "      <td>956709003</td>\n",
       "      <td>937876001</td>\n",
       "      <td>842005003</td>\n",
       "      <td>694131011</td>\n",
       "      <td>694131017</td>\n",
       "      <td>694131003</td>\n",
       "      <td>694131014</td>\n",
       "      <td>694131008</td>\n",
       "      <td>1388410</td>\n",
       "      <td>...</td>\n",
       "      <td>False</td>\n",
       "      <td>False</td>\n",
       "      <td>False</td>\n",
       "      <td>False</td>\n",
       "      <td>False</td>\n",
       "      <td>False</td>\n",
       "      <td>False</td>\n",
       "      <td>False</td>\n",
       "      <td>False</td>\n",
       "      <td>False</td>\n",
       "    </tr>\n",
       "    <tr>\n",
       "      <th>25419513</th>\n",
       "      <td>1208128</td>\n",
       "      <td>False</td>\n",
       "      <td>False</td>\n",
       "      <td>False</td>\n",
       "      <td>False</td>\n",
       "      <td>False</td>\n",
       "      <td>False</td>\n",
       "      <td>False</td>\n",
       "      <td>False</td>\n",
       "      <td>False</td>\n",
       "      <td>...</td>\n",
       "      <td>False</td>\n",
       "      <td>False</td>\n",
       "      <td>False</td>\n",
       "      <td>False</td>\n",
       "      <td>False</td>\n",
       "      <td>False</td>\n",
       "      <td>False</td>\n",
       "      <td>False</td>\n",
       "      <td>False</td>\n",
       "      <td>False</td>\n",
       "    </tr>\n",
       "    <tr>\n",
       "      <th>58117595</th>\n",
       "      <td>100002001190</td>\n",
       "      <td>False</td>\n",
       "      <td>False</td>\n",
       "      <td>False</td>\n",
       "      <td>False</td>\n",
       "      <td>False</td>\n",
       "      <td>False</td>\n",
       "      <td>False</td>\n",
       "      <td>False</td>\n",
       "      <td>False</td>\n",
       "      <td>...</td>\n",
       "      <td>False</td>\n",
       "      <td>False</td>\n",
       "      <td>False</td>\n",
       "      <td>False</td>\n",
       "      <td>False</td>\n",
       "      <td>False</td>\n",
       "      <td>False</td>\n",
       "      <td>False</td>\n",
       "      <td>False</td>\n",
       "      <td>False</td>\n",
       "    </tr>\n",
       "    <tr>\n",
       "      <th>21328461</th>\n",
       "      <td>1415591</td>\n",
       "      <td>1417705</td>\n",
       "      <td>1098431</td>\n",
       "      <td>1263292</td>\n",
       "      <td>1417520</td>\n",
       "      <td>1086652</td>\n",
       "      <td>False</td>\n",
       "      <td>False</td>\n",
       "      <td>False</td>\n",
       "      <td>False</td>\n",
       "      <td>...</td>\n",
       "      <td>False</td>\n",
       "      <td>False</td>\n",
       "      <td>False</td>\n",
       "      <td>False</td>\n",
       "      <td>False</td>\n",
       "      <td>False</td>\n",
       "      <td>False</td>\n",
       "      <td>False</td>\n",
       "      <td>False</td>\n",
       "      <td>False</td>\n",
       "    </tr>\n",
       "    <tr>\n",
       "      <th>...</th>\n",
       "      <td>...</td>\n",
       "      <td>...</td>\n",
       "      <td>...</td>\n",
       "      <td>...</td>\n",
       "      <td>...</td>\n",
       "      <td>...</td>\n",
       "      <td>...</td>\n",
       "      <td>...</td>\n",
       "      <td>...</td>\n",
       "      <td>...</td>\n",
       "      <td>...</td>\n",
       "      <td>...</td>\n",
       "      <td>...</td>\n",
       "      <td>...</td>\n",
       "      <td>...</td>\n",
       "      <td>...</td>\n",
       "      <td>...</td>\n",
       "      <td>...</td>\n",
       "      <td>...</td>\n",
       "      <td>...</td>\n",
       "      <td>...</td>\n",
       "    </tr>\n",
       "    <tr>\n",
       "      <th>35502865</th>\n",
       "      <td>511885</td>\n",
       "      <td>False</td>\n",
       "      <td>False</td>\n",
       "      <td>False</td>\n",
       "      <td>False</td>\n",
       "      <td>False</td>\n",
       "      <td>False</td>\n",
       "      <td>False</td>\n",
       "      <td>False</td>\n",
       "      <td>False</td>\n",
       "      <td>...</td>\n",
       "      <td>False</td>\n",
       "      <td>False</td>\n",
       "      <td>False</td>\n",
       "      <td>False</td>\n",
       "      <td>False</td>\n",
       "      <td>False</td>\n",
       "      <td>False</td>\n",
       "      <td>False</td>\n",
       "      <td>False</td>\n",
       "      <td>False</td>\n",
       "    </tr>\n",
       "    <tr>\n",
       "      <th>35406607</th>\n",
       "      <td>1095259</td>\n",
       "      <td>1415912</td>\n",
       "      <td>1340701002</td>\n",
       "      <td>884166001</td>\n",
       "      <td>100005728511</td>\n",
       "      <td>100011611580</td>\n",
       "      <td>566394</td>\n",
       "      <td>1310193</td>\n",
       "      <td>1361461</td>\n",
       "      <td>1361470</td>\n",
       "      <td>...</td>\n",
       "      <td>False</td>\n",
       "      <td>False</td>\n",
       "      <td>False</td>\n",
       "      <td>False</td>\n",
       "      <td>False</td>\n",
       "      <td>False</td>\n",
       "      <td>False</td>\n",
       "      <td>False</td>\n",
       "      <td>False</td>\n",
       "      <td>False</td>\n",
       "    </tr>\n",
       "    <tr>\n",
       "      <th>36792807</th>\n",
       "      <td>1421961</td>\n",
       "      <td>100013238764</td>\n",
       "      <td>546671001</td>\n",
       "      <td>646806</td>\n",
       "      <td>669294</td>\n",
       "      <td>1419181</td>\n",
       "      <td>False</td>\n",
       "      <td>False</td>\n",
       "      <td>False</td>\n",
       "      <td>False</td>\n",
       "      <td>...</td>\n",
       "      <td>False</td>\n",
       "      <td>False</td>\n",
       "      <td>False</td>\n",
       "      <td>False</td>\n",
       "      <td>False</td>\n",
       "      <td>False</td>\n",
       "      <td>False</td>\n",
       "      <td>False</td>\n",
       "      <td>False</td>\n",
       "      <td>False</td>\n",
       "    </tr>\n",
       "    <tr>\n",
       "      <th>12422001</th>\n",
       "      <td>1205834</td>\n",
       "      <td>False</td>\n",
       "      <td>False</td>\n",
       "      <td>False</td>\n",
       "      <td>False</td>\n",
       "      <td>False</td>\n",
       "      <td>False</td>\n",
       "      <td>False</td>\n",
       "      <td>False</td>\n",
       "      <td>False</td>\n",
       "      <td>...</td>\n",
       "      <td>False</td>\n",
       "      <td>False</td>\n",
       "      <td>False</td>\n",
       "      <td>False</td>\n",
       "      <td>False</td>\n",
       "      <td>False</td>\n",
       "      <td>False</td>\n",
       "      <td>False</td>\n",
       "      <td>False</td>\n",
       "      <td>False</td>\n",
       "    </tr>\n",
       "    <tr>\n",
       "      <th>59272244</th>\n",
       "      <td>885524</td>\n",
       "      <td>False</td>\n",
       "      <td>False</td>\n",
       "      <td>False</td>\n",
       "      <td>False</td>\n",
       "      <td>False</td>\n",
       "      <td>False</td>\n",
       "      <td>False</td>\n",
       "      <td>False</td>\n",
       "      <td>False</td>\n",
       "      <td>...</td>\n",
       "      <td>False</td>\n",
       "      <td>False</td>\n",
       "      <td>False</td>\n",
       "      <td>False</td>\n",
       "      <td>False</td>\n",
       "      <td>False</td>\n",
       "      <td>False</td>\n",
       "      <td>False</td>\n",
       "      <td>False</td>\n",
       "      <td>False</td>\n",
       "    </tr>\n",
       "  </tbody>\n",
       "</table>\n",
       "<p>2683677 rows × 2003 columns</p>\n",
       "</div>"
      ],
      "text/plain": [
       "                product_id                                                     \\\n",
       "                         1             2           3          4             5   \n",
       "user_id_anon                                                                    \n",
       "26765943           1018700         False       False      False         False   \n",
       "14723304        1412935001     956709003   937876001  842005003     694131011   \n",
       "25419513           1208128         False       False      False         False   \n",
       "58117595      100002001190         False       False      False         False   \n",
       "21328461           1415591       1417705     1098431    1263292       1417520   \n",
       "...                    ...           ...         ...        ...           ...   \n",
       "35502865            511885         False       False      False         False   \n",
       "35406607           1095259       1415912  1340701002  884166001  100005728511   \n",
       "36792807           1421961  100013238764   546671001     646806        669294   \n",
       "12422001           1205834         False       False      False         False   \n",
       "59272244            885524         False       False      False         False   \n",
       "\n",
       "                                                                      ...  \\\n",
       "                         6          7          8          9       10  ...   \n",
       "user_id_anon                                                          ...   \n",
       "26765943             False      False      False      False    False  ...   \n",
       "14723304         694131017  694131003  694131014  694131008  1388410  ...   \n",
       "25419513             False      False      False      False    False  ...   \n",
       "58117595             False      False      False      False    False  ...   \n",
       "21328461           1086652      False      False      False    False  ...   \n",
       "...                    ...        ...        ...        ...      ...  ...   \n",
       "35502865             False      False      False      False    False  ...   \n",
       "35406607      100011611580     566394    1310193    1361461  1361470  ...   \n",
       "36792807           1419181      False      False      False    False  ...   \n",
       "12422001             False      False      False      False    False  ...   \n",
       "59272244             False      False      False      False    False  ...   \n",
       "\n",
       "                                                                             \\\n",
       "               1994   1995   1996   1997   1998   1999   2000   2001   2002   \n",
       "user_id_anon                                                                  \n",
       "26765943      False  False  False  False  False  False  False  False  False   \n",
       "14723304      False  False  False  False  False  False  False  False  False   \n",
       "25419513      False  False  False  False  False  False  False  False  False   \n",
       "58117595      False  False  False  False  False  False  False  False  False   \n",
       "21328461      False  False  False  False  False  False  False  False  False   \n",
       "...             ...    ...    ...    ...    ...    ...    ...    ...    ...   \n",
       "35502865      False  False  False  False  False  False  False  False  False   \n",
       "35406607      False  False  False  False  False  False  False  False  False   \n",
       "36792807      False  False  False  False  False  False  False  False  False   \n",
       "12422001      False  False  False  False  False  False  False  False  False   \n",
       "59272244      False  False  False  False  False  False  False  False  False   \n",
       "\n",
       "                     \n",
       "               2003  \n",
       "user_id_anon         \n",
       "26765943      False  \n",
       "14723304      False  \n",
       "25419513      False  \n",
       "58117595      False  \n",
       "21328461      False  \n",
       "...             ...  \n",
       "35502865      False  \n",
       "35406607      False  \n",
       "36792807      False  \n",
       "12422001      False  \n",
       "59272244      False  \n",
       "\n",
       "[2683677 rows x 2003 columns]"
      ]
     },
     "execution_count": 44,
     "metadata": {},
     "output_type": "execute_result"
    }
   ],
   "source": [
    "unstacked"
   ]
  },
  {
   "cell_type": "code",
   "execution_count": 255,
   "metadata": {},
   "outputs": [],
   "source": [
    "R = sparse.dok_matrix((int(len(users_sorted)), len(products_sorted)), dtype=bool)"
   ]
  },
  {
   "cell_type": "code",
   "execution_count": 74,
   "metadata": {},
   "outputs": [],
   "source": [
    "#series_products_sorted = pd.Series(products_sorted)\n",
    "# too sloooooow :(\n",
    "#lst = [series_products_sorted.isin(sdata.loc[i]).to_numpy(dtype=bool, na_value=False) for i in users_sorted]"
   ]
  },
  {
   "cell_type": "code",
   "execution_count": 241,
   "metadata": {},
   "outputs": [
    {
     "name": "stdout",
     "output_type": "stream",
     "text": [
      "56.77615451812744 s.\n"
     ]
    }
   ],
   "source": [
    "#start = time.time()\n",
    "#R = pd.DataFrame.sparse.from_spmatrix(sparse.csr_matrix((int(len(users_sorted)), len(products_sorted)), dtype=bool), index=users_sorted, columns=products_sorted)\n",
    "#print(time.time()-start, \"s.\")"
   ]
  },
  {
   "cell_type": "code",
   "execution_count": 245,
   "metadata": {},
   "outputs": [],
   "source": [
    "#print(\"Tranform the table into user=row and item=column format: \")\n",
    "#data = data.set_index([data.columns[0], data.groupby(by=data.columns[0]).cumcount().add(1).astype(str)]).unstack()\n",
    "#data.columns = data.columns.map(''.join)\n",
    "#data = data.reset_index()"
   ]
  },
  {
   "cell_type": "code",
   "execution_count": 34,
   "metadata": {},
   "outputs": [],
   "source": [
    "n_neighbors = 25 # test 25 neighbors first...then gridsearch to optimize"
   ]
  },
  {
   "cell_type": "code",
   "execution_count": 35,
   "metadata": {},
   "outputs": [],
   "source": [
    "clf = neighbors.KNeighborsClassifier(n_neighbors, weights=\"uniform\")"
   ]
  },
  {
   "cell_type": "code",
   "execution_count": 40,
   "metadata": {
    "collapsed": true,
    "jupyter": {
     "outputs_hidden": true
    }
   },
   "outputs": [
    {
     "ename": "KeyboardInterrupt",
     "evalue": "",
     "output_type": "error",
     "traceback": [
      "\u001b[0;31m---------------------------------------------------------------------------\u001b[0m",
      "\u001b[0;31mKeyboardInterrupt\u001b[0m                         Traceback (most recent call last)",
      "\u001b[0;32m<ipython-input-40-986cacbe00e6>\u001b[0m in \u001b[0;36m<module>\u001b[0;34m\u001b[0m\n\u001b[0;32m----> 1\u001b[0;31m \u001b[0mclf\u001b[0m\u001b[0;34m.\u001b[0m\u001b[0mfit\u001b[0m\u001b[0;34m(\u001b[0m\u001b[0mdata\u001b[0m\u001b[0;34m.\u001b[0m\u001b[0muser_id_anon\u001b[0m\u001b[0;34m.\u001b[0m\u001b[0mvalues\u001b[0m\u001b[0;34m.\u001b[0m\u001b[0mreshape\u001b[0m\u001b[0;34m(\u001b[0m\u001b[0;36m1\u001b[0m\u001b[0;34m,\u001b[0m\u001b[0;34m-\u001b[0m\u001b[0;36m1\u001b[0m\u001b[0;34m)\u001b[0m\u001b[0;34m,\u001b[0m \u001b[0mdata\u001b[0m\u001b[0;34m.\u001b[0m\u001b[0mproduct_id\u001b[0m\u001b[0;34m.\u001b[0m\u001b[0mvalues\u001b[0m\u001b[0;34m.\u001b[0m\u001b[0mreshape\u001b[0m\u001b[0;34m(\u001b[0m\u001b[0;36m1\u001b[0m\u001b[0;34m,\u001b[0m\u001b[0;34m-\u001b[0m\u001b[0;36m1\u001b[0m\u001b[0;34m)\u001b[0m\u001b[0;34m.\u001b[0m\u001b[0mastype\u001b[0m\u001b[0;34m(\u001b[0m\u001b[0;34m'int'\u001b[0m\u001b[0;34m)\u001b[0m\u001b[0;34m)\u001b[0m\u001b[0;34m\u001b[0m\u001b[0m\n\u001b[0m",
      "\u001b[0;32m~/helios_jupyter_virtual_env/lib64/python3.6/site-packages/sklearn/neighbors/_base.py\u001b[0m in \u001b[0;36mfit\u001b[0;34m(self, X, y)\u001b[0m\n\u001b[1;32m   1142\u001b[0m         \u001b[0mself\u001b[0m\u001b[0;34m.\u001b[0m\u001b[0m_y\u001b[0m \u001b[0;34m=\u001b[0m \u001b[0mnp\u001b[0m\u001b[0;34m.\u001b[0m\u001b[0mempty\u001b[0m\u001b[0;34m(\u001b[0m\u001b[0my\u001b[0m\u001b[0;34m.\u001b[0m\u001b[0mshape\u001b[0m\u001b[0;34m,\u001b[0m \u001b[0mdtype\u001b[0m\u001b[0;34m=\u001b[0m\u001b[0mnp\u001b[0m\u001b[0;34m.\u001b[0m\u001b[0mint\u001b[0m\u001b[0;34m)\u001b[0m\u001b[0;34m\u001b[0m\u001b[0m\n\u001b[1;32m   1143\u001b[0m         \u001b[0;32mfor\u001b[0m \u001b[0mk\u001b[0m \u001b[0;32min\u001b[0m \u001b[0mrange\u001b[0m\u001b[0;34m(\u001b[0m\u001b[0mself\u001b[0m\u001b[0;34m.\u001b[0m\u001b[0m_y\u001b[0m\u001b[0;34m.\u001b[0m\u001b[0mshape\u001b[0m\u001b[0;34m[\u001b[0m\u001b[0;36m1\u001b[0m\u001b[0;34m]\u001b[0m\u001b[0;34m)\u001b[0m\u001b[0;34m:\u001b[0m\u001b[0;34m\u001b[0m\u001b[0m\n\u001b[0;32m-> 1144\u001b[0;31m             \u001b[0mclasses\u001b[0m\u001b[0;34m,\u001b[0m \u001b[0mself\u001b[0m\u001b[0;34m.\u001b[0m\u001b[0m_y\u001b[0m\u001b[0;34m[\u001b[0m\u001b[0;34m:\u001b[0m\u001b[0;34m,\u001b[0m \u001b[0mk\u001b[0m\u001b[0;34m]\u001b[0m \u001b[0;34m=\u001b[0m \u001b[0mnp\u001b[0m\u001b[0;34m.\u001b[0m\u001b[0munique\u001b[0m\u001b[0;34m(\u001b[0m\u001b[0my\u001b[0m\u001b[0;34m[\u001b[0m\u001b[0;34m:\u001b[0m\u001b[0;34m,\u001b[0m \u001b[0mk\u001b[0m\u001b[0;34m]\u001b[0m\u001b[0;34m,\u001b[0m \u001b[0mreturn_inverse\u001b[0m\u001b[0;34m=\u001b[0m\u001b[0;32mTrue\u001b[0m\u001b[0;34m)\u001b[0m\u001b[0;34m\u001b[0m\u001b[0m\n\u001b[0m\u001b[1;32m   1145\u001b[0m             \u001b[0mself\u001b[0m\u001b[0;34m.\u001b[0m\u001b[0mclasses_\u001b[0m\u001b[0;34m.\u001b[0m\u001b[0mappend\u001b[0m\u001b[0;34m(\u001b[0m\u001b[0mclasses\u001b[0m\u001b[0;34m)\u001b[0m\u001b[0;34m\u001b[0m\u001b[0m\n\u001b[1;32m   1146\u001b[0m \u001b[0;34m\u001b[0m\u001b[0m\n",
      "\u001b[0;31mKeyboardInterrupt\u001b[0m: "
     ]
    }
   ],
   "source": [
    "clf.fit(data.user_id_anon.values.reshape(1,-1), data.product_id.values.reshape(1,-1).astype('int'), n_jobs=-1, )"
   ]
  }
 ],
 "metadata": {
  "kernelspec": {
   "display_name": "Python 3",
   "language": "python",
   "name": "python3"
  },
  "language_info": {
   "codemirror_mode": {
    "name": "ipython",
    "version": 3
   },
   "file_extension": ".py",
   "mimetype": "text/x-python",
   "name": "python",
   "nbconvert_exporter": "python",
   "pygments_lexer": "ipython3",
   "version": "3.6.6"
  }
 },
 "nbformat": 4,
 "nbformat_minor": 4
}
