{
 "cells": [
  {
   "cell_type": "code",
   "execution_count": 2,
   "metadata": {},
   "outputs": [],
   "source": [
    "import pandas as pd\n",
    "import matplotlib.pyplot as plt\n",
    "import numpy as np\n",
    "from openpyxl import Workbook"
   ]
  },
  {
   "cell_type": "code",
   "execution_count": 3,
   "metadata": {},
   "outputs": [],
   "source": [
    "list_category = pd.read_csv(\"Data\\Origin_DATA\\list_category.csv\")\n",
    "item_cz = pd.read_csv(\"Data\\Origin_DATA\\item_cz.csv\")\n",
    "material_attributes_cz = pd.read_csv(\"Data\\Origin_DATA\\material_attributes_cz.csv\")"
   ]
  },
  {
   "cell_type": "code",
   "execution_count": 5,
   "metadata": {},
   "outputs": [],
   "source": [
    "rows = 5e6\n",
    "product_views_cz = pd.read_csv(\"Data\\product_views_cz.csv\",nrows = rows)"
   ]
  },
  {
   "cell_type": "code",
   "execution_count": null,
   "metadata": {},
   "outputs": [],
   "source": [
    "chunksize = 5e6\n",
    "i = 0\n",
    "pd.read_csv(\"Data\\Origin_DATA\\product_views_cz.csv\",nrows = 0).to_csv('product_views_cz_LY.csv',index=False)\n",
    "for chunk in pd.read_csv(\"Data\\Origin_DATA\\product_views_cz.csv\",chunksize = chunksize):\n",
    "    i += 1\n",
    "    print(i)\n",
    "    chunk[chunk['date'] > '2019-10-00'].to_csv('product_views_cz_LY.csv', mode='a', header=False,index=False)\n",
    "print('origin count of rows: '+str(i*5e6))"
   ]
  },
  {
   "cell_type": "code",
   "execution_count": null,
   "metadata": {},
   "outputs": [],
   "source": []
  },
  {
   "cell_type": "code",
   "execution_count": null,
   "metadata": {},
   "outputs": [],
   "source": [
    "chunksize = 5e2\n",
    "list_category_MACZ = pd.DataFrame()\n",
    "for chunk in pd.read_csv(\"Data\\list_category.csv\",chunksize = chunksize):\n",
    "    chunk[chunk['shop'] == 'MACZ'].to_csv('out.csv', mode='a', header=False)"
   ]
  },
  {
   "cell_type": "markdown",
   "metadata": {},
   "source": [
    "product_views_cz zabírá moc velkou paměť, lepší průběžně ukládat"
   ]
  },
  {
   "cell_type": "code",
   "execution_count": 16,
   "metadata": {},
   "outputs": [
    {
     "name": "stdout",
     "output_type": "stream",
     "text": [
      "10077099\n",
      "5054473\n"
     ]
    }
   ],
   "source": [
    "print(len(set(item_cz['sid'])))\n",
    "print(len(set(item_cz['grouping_sid'])))"
   ]
  },
  {
   "cell_type": "code",
   "execution_count": 17,
   "metadata": {},
   "outputs": [],
   "source": [
    "rows = 5e6\n",
    "cz_item_category = pd.read_csv(\"Data\\cz_item_category.csv\",nrows = rows)"
   ]
  },
  {
   "cell_type": "code",
   "execution_count": 46,
   "metadata": {},
   "outputs": [
    {
     "name": "stdout",
     "output_type": "stream",
     "text": [
      "{3677194, 237, 1051598, 1842, 1017621, 1140857}\n",
      "         item_id  category_id                    ods_created is_main\n",
      "748757   8061405          237  2020-07-26 02:04:11.522873+00       t\n",
      "789751   8061405          237  2020-07-21 07:50:53.932572+00       t\n",
      "891311   8061405          237  2020-09-04 04:52:15.748332+00       t\n",
      "1052189  8061405          237  2020-08-03 15:52:15.975838+00       t\n",
      "1192159  8061405          237  2019-05-09 10:32:32.255025+00       t\n",
      "1951701  8061405          237  2020-08-25 00:30:51.047528+00       t\n",
      "2031887  8061405          237    2020-08-28 05:48:24.9943+00       t\n",
      "3056757  8061405          237  2020-07-03 04:52:53.116226+00       t\n",
      "3561783  8061405          237   2020-07-06 14:08:33.38948+00       t\n",
      "3882526  8061405          237  2020-08-03 22:27:36.423737+00       t\n",
      "3904855  8061405          237  2020-09-02 00:40:42.915108+00       t\n",
      "4138200  8061405          237  2020-08-28 07:36:42.755617+00       t\n"
     ]
    }
   ],
   "source": [
    "print(set(cz_item_category[cz_item_category['item_id'] == 8061405]['category_id']))\n",
    "print(cz_item_category[(cz_item_category['item_id'] == 8061405) & (cz_item_category['is_main'] == 't')])"
   ]
  },
  {
   "cell_type": "markdown",
   "metadata": {},
   "source": [
    ".drop_duplicates() == DISTINCT "
   ]
  },
  {
   "cell_type": "code",
   "execution_count": 48,
   "metadata": {},
   "outputs": [
    {
     "data": {
      "text/html": [
       "<div>\n",
       "<style scoped>\n",
       "    .dataframe tbody tr th:only-of-type {\n",
       "        vertical-align: middle;\n",
       "    }\n",
       "\n",
       "    .dataframe tbody tr th {\n",
       "        vertical-align: top;\n",
       "    }\n",
       "\n",
       "    .dataframe thead th {\n",
       "        text-align: right;\n",
       "    }\n",
       "</style>\n",
       "<table border=\"1\" class=\"dataframe\">\n",
       "  <thead>\n",
       "    <tr style=\"text-align: right;\">\n",
       "      <th></th>\n",
       "      <th>item_id</th>\n",
       "      <th>category_id</th>\n",
       "      <th>is_main</th>\n",
       "    </tr>\n",
       "  </thead>\n",
       "  <tbody>\n",
       "    <tr>\n",
       "      <th>0</th>\n",
       "      <td>8061405</td>\n",
       "      <td>1051598</td>\n",
       "      <td>f</td>\n",
       "    </tr>\n",
       "    <tr>\n",
       "      <th>1</th>\n",
       "      <td>7807990</td>\n",
       "      <td>5217670</td>\n",
       "      <td>f</td>\n",
       "    </tr>\n",
       "    <tr>\n",
       "      <th>2</th>\n",
       "      <td>7746417</td>\n",
       "      <td>237</td>\n",
       "      <td>f</td>\n",
       "    </tr>\n",
       "    <tr>\n",
       "      <th>3</th>\n",
       "      <td>656838977</td>\n",
       "      <td>49931</td>\n",
       "      <td>f</td>\n",
       "    </tr>\n",
       "    <tr>\n",
       "      <th>4</th>\n",
       "      <td>158574663</td>\n",
       "      <td>1480415</td>\n",
       "      <td>f</td>\n",
       "    </tr>\n",
       "    <tr>\n",
       "      <th>...</th>\n",
       "      <td>...</td>\n",
       "      <td>...</td>\n",
       "      <td>...</td>\n",
       "    </tr>\n",
       "    <tr>\n",
       "      <th>4999927</th>\n",
       "      <td>661384444</td>\n",
       "      <td>237</td>\n",
       "      <td>f</td>\n",
       "    </tr>\n",
       "    <tr>\n",
       "      <th>4999963</th>\n",
       "      <td>1414043127</td>\n",
       "      <td>1150564</td>\n",
       "      <td>f</td>\n",
       "    </tr>\n",
       "    <tr>\n",
       "      <th>4999965</th>\n",
       "      <td>1398286037</td>\n",
       "      <td>1140855</td>\n",
       "      <td>f</td>\n",
       "    </tr>\n",
       "    <tr>\n",
       "      <th>4999968</th>\n",
       "      <td>581548995</td>\n",
       "      <td>237</td>\n",
       "      <td>f</td>\n",
       "    </tr>\n",
       "    <tr>\n",
       "      <th>4999986</th>\n",
       "      <td>760794011</td>\n",
       "      <td>213</td>\n",
       "      <td>t</td>\n",
       "    </tr>\n",
       "  </tbody>\n",
       "</table>\n",
       "<p>1672356 rows × 3 columns</p>\n",
       "</div>"
      ],
      "text/plain": [
       "            item_id  category_id is_main\n",
       "0           8061405      1051598       f\n",
       "1           7807990      5217670       f\n",
       "2           7746417          237       f\n",
       "3         656838977        49931       f\n",
       "4         158574663      1480415       f\n",
       "...             ...          ...     ...\n",
       "4999927   661384444          237       f\n",
       "4999963  1414043127      1150564       f\n",
       "4999965  1398286037      1140855       f\n",
       "4999968   581548995          237       f\n",
       "4999986   760794011          213       t\n",
       "\n",
       "[1672356 rows x 3 columns]"
      ]
     },
     "execution_count": 48,
     "metadata": {},
     "output_type": "execute_result"
    }
   ],
   "source": [
    "cz_item_category[['item_id','category_id','is_main']].drop_duplicates()"
   ]
  },
  {
   "cell_type": "code",
   "execution_count": 3,
   "metadata": {},
   "outputs": [
    {
     "name": "stdout",
     "output_type": "stream",
     "text": [
      "1\n",
      "2\n",
      "3\n",
      "4\n",
      "5\n",
      "6\n",
      "7\n",
      "8\n",
      "9\n",
      "10\n",
      "11\n",
      "12\n",
      "13\n",
      "14\n",
      "15\n",
      "16\n",
      "17\n",
      "18\n",
      "19\n",
      "20\n",
      "21\n",
      "22\n",
      "23\n",
      "24\n",
      "25\n",
      "26\n",
      "27\n",
      "28\n",
      "29\n",
      "30\n",
      "31\n",
      "32\n",
      "33\n",
      "34\n",
      "35\n",
      "36\n",
      "37\n",
      "38\n",
      "39\n",
      "40\n",
      "41\n",
      "42\n",
      "43\n",
      "44\n",
      "45\n",
      "46\n",
      "47\n",
      "48\n",
      "49\n",
      "50\n",
      "51\n",
      "52\n",
      "53\n",
      "54\n",
      "55\n",
      "56\n",
      "57\n",
      "58\n",
      "59\n",
      "60\n",
      "61\n",
      "62\n",
      "63\n",
      "64\n",
      "65\n",
      "66\n",
      "67\n",
      "68\n",
      "69\n",
      "70\n",
      "71\n",
      "72\n",
      "73\n",
      "74\n",
      "75\n",
      "76\n",
      "77\n",
      "78\n",
      "79\n",
      "80\n",
      "81\n",
      "82\n",
      "83\n",
      "84\n",
      "85\n",
      "86\n",
      "87\n",
      "88\n",
      "89\n",
      "90\n",
      "91\n",
      "92\n",
      "origin count of rows: 460000000.0\n"
     ]
    }
   ],
   "source": [
    "chunksize = 5e6\n",
    "i = 0\n",
    "pd.read_csv(\"Data\\Origin_DATA\\cz_item_category.csv\",nrows = 0)[['item_id','category_id','is_main']].to_csv('cz_item_category_DISTINCT.csv',index=False)\n",
    "for chunk in pd.read_csv(\"Data\\Origin_DATA\\cz_item_category.csv\",chunksize = chunksize):\n",
    "    i += 1\n",
    "    print(i)\n",
    "    chunk[['item_id','category_id','is_main']].drop_duplicates().to_csv('cz_item_category_DISTINCT.csv', mode='a', header=False,index=False)\n",
    "print('origin count of rows: '+str(i*5e6))"
   ]
  },
  {
   "cell_type": "code",
   "execution_count": 6,
   "metadata": {},
   "outputs": [
    {
     "data": {
      "text/plain": [
       "17359"
      ]
     },
     "execution_count": 6,
     "metadata": {},
     "output_type": "execute_result"
    }
   ],
   "source": [
    "list_category = pd.read_csv(\"Data\\list_category.csv\")\n",
    "len(list_category[list_category['shop'] == 'MACZ'])"
   ]
  },
  {
   "cell_type": "code",
   "execution_count": 5,
   "metadata": {},
   "outputs": [],
   "source": [
    "list_category_MACZ = list_category[list_category['shop']=='MACZ']"
   ]
  },
  {
   "cell_type": "code",
   "execution_count": 7,
   "metadata": {},
   "outputs": [
    {
     "name": "stdout",
     "output_type": "stream",
     "text": [
      "17359\n",
      "7704\n"
     ]
    }
   ],
   "source": [
    "print(len(list_category_MACZ['id']))\n",
    "print(len(set(list_category_MACZ['id'])))"
   ]
  },
  {
   "cell_type": "code",
   "execution_count": 6,
   "metadata": {},
   "outputs": [],
   "source": [
    "CATEGORY_TREE = list()\n",
    "for row in range(len(list_category_MACZ)):\n",
    "    A = list()\n",
    "    j = 0\n",
    "    a = 0\n",
    "    for i in list_category_MACZ['path'].iloc[row]:\n",
    "        length = len(str(list_category_MACZ['path'].iloc[row]))\n",
    "        if i == '>':\n",
    "            A.append(str(list_category_MACZ['path'].iloc[row])[a:j].strip())\n",
    "            a = j+1\n",
    "            if '>' not in str(list_category_MACZ['path'].iloc[row])[j+1:-1]:\n",
    "                A.append(str(list_category_MACZ['path'].iloc[row])[j+1:-1].strip()+str(list_category_MACZ['path'].iloc[row])[-1])\n",
    "                A.append(str(list_category_MACZ['id'].iloc[row]))\n",
    "                break\n",
    "        j += 1\n",
    "    if A == []:\n",
    "        A.append(list_category_MACZ['path'].iloc[row])\n",
    "        A.append(str(list_category_MACZ['id'].iloc[row]))            \n",
    "    CATEGORY_TREE.append(A)"
   ]
  },
  {
   "cell_type": "code",
   "execution_count": 103,
   "metadata": {},
   "outputs": [
    {
     "name": "stdout",
     "output_type": "stream",
     "text": [
      "8\n"
     ]
    },
    {
     "data": {
      "text/plain": [
       "223"
      ]
     },
     "execution_count": 103,
     "metadata": {},
     "output_type": "execute_result"
    }
   ],
   "source": [
    "maximum = 3\n",
    "row = 0\n",
    "for i in range(len(CATEGORY_TREE)):\n",
    "    row += 1\n",
    "    if len(CATEGORY_TREE[i])>maximum:\n",
    "        maximum = len(CATEGORY_TREE[i])\n",
    "        max_row = row\n",
    "print(maximum)\n",
    "max_row"
   ]
  },
  {
   "cell_type": "code",
   "execution_count": 105,
   "metadata": {},
   "outputs": [
    {
     "name": "stdout",
     "output_type": "stream",
     "text": [
      "['Sport, outdoor', 'Zimní sporty', 'Sjezdové lyžování', 'Přilby', 'Pánské', '1681']\n",
      "Sport, outdoor > Zimní sporty > Sjezdové lyžování > Přilby > Pánské\n"
     ]
    }
   ],
   "source": [
    "number = 2468\n",
    "print(CATEGORY_TREE[number])\n",
    "print(list_category_MACZ['path'].iloc[number])"
   ]
  },
  {
   "cell_type": "code",
   "execution_count": 7,
   "metadata": {},
   "outputs": [],
   "source": [
    "CATEGORY_TREE_norm = list()\n",
    "chyba = 0\n",
    "for row in CATEGORY_TREE:\n",
    "    chyba+=1\n",
    "    if len(row)<8:\n",
    "        A = list()\n",
    "        for j in range(len(row)-1):\n",
    "            A.append(row[j])\n",
    "        for j in range(8-len(row)):\n",
    "            A.append(None)\n",
    "        A.append(row[len(row)-1])\n",
    "        CATEGORY_TREE_norm.append(A)\n",
    "    else:\n",
    "        CATEGORY_TREE_norm.append(row)"
   ]
  },
  {
   "cell_type": "code",
   "execution_count": 8,
   "metadata": {},
   "outputs": [],
   "source": [
    "category_tree = pd.DataFrame(CATEGORY_TREE_norm)"
   ]
  },
  {
   "cell_type": "code",
   "execution_count": 9,
   "metadata": {},
   "outputs": [],
   "source": [
    "category = category_tree.drop_duplicates()"
   ]
  },
  {
   "cell_type": "code",
   "execution_count": 10,
   "metadata": {},
   "outputs": [],
   "source": [
    "category.columns = ['category_0','category_1','category_2','category_3','category_4','category_5','category_6','category_id']"
   ]
  },
  {
   "cell_type": "code",
   "execution_count": null,
   "metadata": {},
   "outputs": [],
   "source": [
    "category.to_csv('category_tree.csv')"
   ]
  },
  {
   "cell_type": "code",
   "execution_count": 18,
   "metadata": {},
   "outputs": [],
   "source": [
    "B = []\n",
    "for cat_0 in set(category['category_0']):\n",
    "    B.append([cat_0,len(category[category['category_0']==cat_0])])\n",
    "B = pd.DataFrame(B)\n",
    "B.to_excel('B.xlsx')"
   ]
  },
  {
   "cell_type": "code",
   "execution_count": 12,
   "metadata": {},
   "outputs": [],
   "source": [
    "category.to_excel('category_tree.xlsx')"
   ]
  },
  {
   "cell_type": "code",
   "execution_count": 20,
   "metadata": {},
   "outputs": [
    {
     "name": "stderr",
     "output_type": "stream",
     "text": [
      "d:\\video_prednasky_zim20_21\\das\\venv\\das_1\\lib\\site-packages\\IPython\\core\\interactiveshell.py:3145: DtypeWarning: Columns (4) have mixed types.Specify dtype option on import or set low_memory=False.\n",
      "  has_raised = await self.run_ast_nodes(code_ast.body, cell_name,\n"
     ]
    }
   ],
   "source": []
  },
  {
   "cell_type": "code",
   "execution_count": 22,
   "metadata": {},
   "outputs": [
    {
     "data": {
      "text/html": [
       "<div>\n",
       "<style scoped>\n",
       "    .dataframe tbody tr th:only-of-type {\n",
       "        vertical-align: middle;\n",
       "    }\n",
       "\n",
       "    .dataframe tbody tr th {\n",
       "        vertical-align: top;\n",
       "    }\n",
       "\n",
       "    .dataframe thead th {\n",
       "        text-align: right;\n",
       "    }\n",
       "</style>\n",
       "<table border=\"1\" class=\"dataframe\">\n",
       "  <thead>\n",
       "    <tr style=\"text-align: right;\">\n",
       "      <th></th>\n",
       "      <th>22</th>\n",
       "      <th>2020-07-11</th>\n",
       "      <th>26765943</th>\n",
       "      <th>14</th>\n",
       "      <th>1018700</th>\n",
       "      <th>1</th>\n",
       "    </tr>\n",
       "  </thead>\n",
       "  <tbody>\n",
       "    <tr>\n",
       "      <th>0</th>\n",
       "      <td>55</td>\n",
       "      <td>2020-07-02</td>\n",
       "      <td>25820914</td>\n",
       "      <td>2</td>\n",
       "      <td>100004359972</td>\n",
       "      <td>1</td>\n",
       "    </tr>\n",
       "    <tr>\n",
       "      <th>1</th>\n",
       "      <td>56</td>\n",
       "      <td>2020-07-02</td>\n",
       "      <td>25820914</td>\n",
       "      <td>3</td>\n",
       "      <td>100017552468</td>\n",
       "      <td>1</td>\n",
       "    </tr>\n",
       "    <tr>\n",
       "      <th>2</th>\n",
       "      <td>235</td>\n",
       "      <td>2020-04-02</td>\n",
       "      <td>14723304</td>\n",
       "      <td>172</td>\n",
       "      <td>100011803451</td>\n",
       "      <td>1</td>\n",
       "    </tr>\n",
       "    <tr>\n",
       "      <th>3</th>\n",
       "      <td>236</td>\n",
       "      <td>2020-04-02</td>\n",
       "      <td>14723304</td>\n",
       "      <td>173</td>\n",
       "      <td>100011612041</td>\n",
       "      <td>1</td>\n",
       "    </tr>\n",
       "    <tr>\n",
       "      <th>4</th>\n",
       "      <td>237</td>\n",
       "      <td>2020-04-08</td>\n",
       "      <td>14723304</td>\n",
       "      <td>174</td>\n",
       "      <td>100016624290</td>\n",
       "      <td>1</td>\n",
       "    </tr>\n",
       "    <tr>\n",
       "      <th>...</th>\n",
       "      <td>...</td>\n",
       "      <td>...</td>\n",
       "      <td>...</td>\n",
       "      <td>...</td>\n",
       "      <td>...</td>\n",
       "      <td>...</td>\n",
       "    </tr>\n",
       "    <tr>\n",
       "      <th>78058195</th>\n",
       "      <td>420387584</td>\n",
       "      <td>2020-05-31</td>\n",
       "      <td>36134412</td>\n",
       "      <td>1</td>\n",
       "      <td>1413786</td>\n",
       "      <td>1</td>\n",
       "    </tr>\n",
       "    <tr>\n",
       "      <th>78058196</th>\n",
       "      <td>420387609</td>\n",
       "      <td>2020-04-24</td>\n",
       "      <td>59841901</td>\n",
       "      <td>1</td>\n",
       "      <td>1344238</td>\n",
       "      <td>1</td>\n",
       "    </tr>\n",
       "    <tr>\n",
       "      <th>78058197</th>\n",
       "      <td>420387618</td>\n",
       "      <td>2020-09-25</td>\n",
       "      <td>28468748</td>\n",
       "      <td>1</td>\n",
       "      <td>1273124</td>\n",
       "      <td>1</td>\n",
       "    </tr>\n",
       "    <tr>\n",
       "      <th>78058198</th>\n",
       "      <td>420387620</td>\n",
       "      <td>2020-08-18</td>\n",
       "      <td>49759601</td>\n",
       "      <td>2</td>\n",
       "      <td>579250</td>\n",
       "      <td>1</td>\n",
       "    </tr>\n",
       "    <tr>\n",
       "      <th>78058199</th>\n",
       "      <td>420387621</td>\n",
       "      <td>2020-08-23</td>\n",
       "      <td>50843658</td>\n",
       "      <td>1</td>\n",
       "      <td>1063502</td>\n",
       "      <td>2</td>\n",
       "    </tr>\n",
       "  </tbody>\n",
       "</table>\n",
       "<p>78058200 rows × 6 columns</p>\n",
       "</div>"
      ],
      "text/plain": [
       "                 22  2020-07-11  26765943   14       1018700  1\n",
       "0                55  2020-07-02  25820914    2  100004359972  1\n",
       "1                56  2020-07-02  25820914    3  100017552468  1\n",
       "2               235  2020-04-02  14723304  172  100011803451  1\n",
       "3               236  2020-04-02  14723304  173  100011612041  1\n",
       "4               237  2020-04-08  14723304  174  100016624290  1\n",
       "...             ...         ...       ...  ...           ... ..\n",
       "78058195  420387584  2020-05-31  36134412    1       1413786  1\n",
       "78058196  420387609  2020-04-24  59841901    1       1344238  1\n",
       "78058197  420387618  2020-09-25  28468748    1       1273124  1\n",
       "78058198  420387620  2020-08-18  49759601    2        579250  1\n",
       "78058199  420387621  2020-08-23  50843658    1       1063502  2\n",
       "\n",
       "[78058200 rows x 6 columns]"
      ]
     },
     "execution_count": 22,
     "metadata": {},
     "output_type": "execute_result"
    }
   ],
   "source": []
  },
  {
   "cell_type": "code",
   "execution_count": 29,
   "metadata": {},
   "outputs": [],
   "source": []
  },
  {
   "cell_type": "code",
   "execution_count": null,
   "metadata": {},
   "outputs": [],
   "source": []
  }
 ],
 "metadata": {
  "kernelspec": {
   "display_name": "Python 3",
   "language": "python",
   "name": "python3"
  },
  "language_info": {
   "codemirror_mode": {
    "name": "ipython",
    "version": 3
   },
   "file_extension": ".py",
   "mimetype": "text/x-python",
   "name": "python",
   "nbconvert_exporter": "python",
   "pygments_lexer": "ipython3",
   "version": "3.8.6"
  }
 },
 "nbformat": 4,
 "nbformat_minor": 4
}
