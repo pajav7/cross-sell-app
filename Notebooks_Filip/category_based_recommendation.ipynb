{
 "cells": [
  {
   "cell_type": "code",
   "execution_count": 73,
   "metadata": {},
   "outputs": [],
   "source": [
    "import pandas as pd\n",
    "import numpy as np\n",
    "import matplotlib.pyplot as plt\n",
    "import random as rnd\n",
    "import webbrowser"
   ]
  },
  {
   "cell_type": "code",
   "execution_count": 77,
   "metadata": {},
   "outputs": [],
   "source": [
    "item_cz = pd.read_csv(\"Data\\Origin_DATA\\item_cz.csv\")\n",
    "cz_item_category_DISTINCT = pd.read_csv(\"Data\\Filtered_DATA\\cz_item_category_DISTINCT.csv\")\n",
    "category_tree = pd.read_csv(\"Data\\Filtered_DATA\\category_tree.csv\")"
   ]
  },
  {
   "cell_type": "code",
   "execution_count": 5,
   "metadata": {},
   "outputs": [],
   "source": [
    "\n",
    "def CATEGORY_BASED_RECOMMENDATION(prodict_id):\n",
    "    item_id = item_cz[item_cz['sid'] == prodict_id]['id'].values\n",
    "    if len(item_id) == 0:\n",
    "        length = len(cz_item_category_DISTINCT)\n",
    "        item_id = cz_item_category_DISTINCT['item_id'].iloc[rnd.randint(1,length)]\n",
    "        result = item_cz[item_cz['id']==item_id]['sid'].values[0]\n",
    "        print(result)\n",
    "        return result\n",
    "    else:\n",
    "        item_id = item_id[0]\n",
    "        category_id = cz_item_category_DISTINCT[cz_item_category_DISTINCT['item_id'] == item_id]['category_id'].values[0]\n",
    "        length = len(cz_item_category_DISTINCT[cz_item_category_DISTINCT['category_id'] == category_id])\n",
    "        print(category_tree[category_tree['category_id']==category_id].iloc[0])\n",
    "        item_id = cz_item_category_DISTINCT[cz_item_category_DISTINCT['category_id'] == category_id]['item_id'].iloc[rnd.randint(1,length)]\n",
    "        result = item_cz[item_cz['id']==item_id]['sid'].values[0]\n",
    "        print(result)\n",
    "        return result    \n",
    "    \n",
    "def OPEN_RECOMMENDED(prodict_id):\n",
    "    url = 'https://mall.cz/id/' + str(CATEGORY_BASED_RECOMMENDATION(prodict_id))\n",
    "    webbrowser.open(url)\n"
   ]
  },
  {
   "cell_type": "code",
   "execution_count": null,
   "metadata": {},
   "outputs": [],
   "source": []
  },
  {
   "cell_type": "code",
   "execution_count": null,
   "metadata": {},
   "outputs": [],
   "source": []
  },
  {
   "cell_type": "code",
   "execution_count": 79,
   "metadata": {},
   "outputs": [
    {
     "name": "stdout",
     "output_type": "stream",
     "text": [
      "100017664920\n",
      "Unnamed: 0                 10318\n",
      "category_0     Domácí spotřebiče\n",
      "category_1              Vysavače\n",
      "category_2                   NaN\n",
      "category_3                   NaN\n",
      "category_4                   NaN\n",
      "category_5                   NaN\n",
      "category_6                   NaN\n",
      "category_id               596346\n",
      "Name: 6746, dtype: object\n",
      "1086363\n"
     ]
    }
   ],
   "source": [
    "OPEN_RECOMMENDED(877754)\n",
    "OPEN_RECOMMENDED(1121910)"
   ]
  },
  {
   "cell_type": "code",
   "execution_count": null,
   "metadata": {},
   "outputs": [],
   "source": []
  },
  {
   "cell_type": "code",
   "execution_count": null,
   "metadata": {},
   "outputs": [],
   "source": []
  },
  {
   "cell_type": "code",
   "execution_count": null,
   "metadata": {},
   "outputs": [],
   "source": []
  }
 ],
 "metadata": {
  "kernelspec": {
   "display_name": "Python 3",
   "language": "python",
   "name": "python3"
  },
  "language_info": {
   "codemirror_mode": {
    "name": "ipython",
    "version": 3
   },
   "file_extension": ".py",
   "mimetype": "text/x-python",
   "name": "python",
   "nbconvert_exporter": "python",
   "pygments_lexer": "ipython3",
   "version": "3.8.6"
  }
 },
 "nbformat": 4,
 "nbformat_minor": 4
}
