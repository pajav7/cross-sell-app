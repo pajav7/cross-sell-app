{
 "cells": [
  {
   "cell_type": "code",
   "execution_count": 1,
   "metadata": {},
   "outputs": [],
   "source": [
    "import pandas as pd\n",
    "import numpy as np\n",
    "import matplotlib.pyplot as plt"
   ]
  },
  {
   "cell_type": "markdown",
   "metadata": {},
   "source": [
    "# Origin DATA\n",
    "data bez úprav"
   ]
  },
  {
   "cell_type": "code",
   "execution_count": 2,
   "metadata": {},
   "outputs": [],
   "source": [
    "#list_category = pd.read_csv(\"Data\\Origin_DATA\\list_category.csv\")\n",
    "#item_cz = pd.read_csv(\"Data\\Origin_DATA\\item_cz.csv\")\n",
    "material_attributes_cz = pd.read_csv(\"Data\\Origin_DATA\\material_attributes_cz.csv\")"
   ]
  },
  {
   "cell_type": "markdown",
   "metadata": {},
   "source": [
    "# Filtered DATA\n",
    "data zbavené kopií nebo starých záznamů"
   ]
  },
  {
   "cell_type": "code",
   "execution_count": 3,
   "metadata": {},
   "outputs": [
    {
     "name": "stderr",
     "output_type": "stream",
     "text": [
      "d:\\video_prednasky_zim20_21\\das\\venv\\das_1\\lib\\site-packages\\IPython\\core\\interactiveshell.py:3145: DtypeWarning: Columns (3) have mixed types.Specify dtype option on import or set low_memory=False.\n",
      "  has_raised = await self.run_ast_nodes(code_ast.body, cell_name,\n"
     ]
    }
   ],
   "source": [
    "product_views_cz_LhY = pd.read_csv(\"Data\\Filtered_DATA\\product_views_cz_LhY.csv\")\n",
    "#cz_item_category_DISTINCT = pd.read_csv(\"Data\\Filtered_DATA\\cz_item_category_DISTINCT.csv\")"
   ]
  },
  {
   "cell_type": "markdown",
   "metadata": {},
   "source": [
    "Filtr **product_views_cz_LhY** přes produkty obsažené v **material_attributes_cz**    \n",
    "předpokládáme, že se jedná o produkty prodávané přímo MALL.cz"
   ]
  },
  {
   "cell_type": "code",
   "execution_count": null,
   "metadata": {
    "scrolled": true
   },
   "outputs": [],
   "source": [
    "import time\n",
    "t0 = time.time()\n",
    "pd.read_csv(\"Data\\Origin_DATA\\product_views_cz.csv\",nrows = 0).to_csv('product_views_cz_LhY_MALL.csv',index=False)\n",
    "i = 0\n",
    "for material in set(material_attributes_cz['MATERIAL_ID']):\n",
    "    i+=1\n",
    "    product_views_cz_LhY[product_views_cz_LhY['product_id'] == material].to_csv('product_views_cz_LhY_MALL.csv', mode='a', header=False,index=False)\n",
    "    if i%277==0:\n",
    "        t1 = time.time()\n",
    "        print(str(round(100/277334*i,2))+'% --- time: '+str(round(t1-t0,1)))"
   ]
  },
  {
   "cell_type": "markdown",
   "metadata": {},
   "source": [
    "Algoritmus výše se ukázal jako neefaktivní. Na zdárné dokončení filtrace dat by bylo zapotřebí cca 22dní.    \n",
    "( 0.1% --- time: 1970.8 )    \n",
    "( ...                   )  \n",
    "( ...                   )    "
   ]
  },
  {
   "cell_type": "markdown",
   "metadata": {},
   "source": [
    "  # Po řadcich\n",
    "  \n",
    "  přístup níže nám ušetří značnou část času (délka trvání odhadovná na 3 dny)"
   ]
  },
  {
   "cell_type": "code",
   "execution_count": null,
   "metadata": {},
   "outputs": [],
   "source": [
    "t0 = time.time()\n",
    "#  pd.read_csv(\"Data\\Origin_DATA\\product_views_cz.csv\",nrows = 0).to_csv('product_views_cz_LhY_MALL.csv',index=False)\n",
    "MATERIAL = set(material_attributes_cz['MATERIAL_ID'])\n",
    "rows = len(product_views_cz_LhY)   #78058201\n",
    "i = 0\n",
    "for row in range(rows):    # start 453960\n",
    "    if product_views_cz_LhY['product_id'].iloc[row] in MATERIAL:\n",
    "        product_views_cz_LhY.loc[[row]].to_csv('product_views_cz_LhY_MALL.csv', mode='a', header=False,index=False)\n",
    "    i+=1\n",
    "    if i%(round(rows/10000))==0:\n",
    "        t1=time.time()\n",
    "        print(str(round(100/rows*row,2))+'% --- time: '+str(round(t1-t0,1)) + 's')\n",
    "        i=0"
   ]
  },
  {
   "cell_type": "code",
   "execution_count": 56,
   "metadata": {},
   "outputs": [
    {
     "name": "stdout",
     "output_type": "stream",
     "text": [
      "Podíl MALL zaznamů obsažených v Product_views: 54.47%\n"
     ]
    }
   ],
   "source": [
    "product_views_cz_LhY_MALL = pd.read_csv('product_views_cz_LhY_MALL.csv')\n",
    "print('Podíl MALL zaznamů obsažených v Product_views: '+str(round(len(product_views_cz_LhY_MALL)/row*100,2))+'%')"
   ]
  },
  {
   "cell_type": "markdown",
   "metadata": {},
   "source": [
    "spočteno na prvním půlprocentu záznamů   \n",
    "( 0.2% --- time: 478.7 )"
   ]
  },
  {
   "cell_type": "code",
   "execution_count": null,
   "metadata": {},
   "outputs": [],
   "source": []
  },
  {
   "cell_type": "code",
   "execution_count": null,
   "metadata": {},
   "outputs": [],
   "source": []
  },
  {
   "cell_type": "code",
   "execution_count": null,
   "metadata": {},
   "outputs": [],
   "source": []
  }
 ],
 "metadata": {
  "kernelspec": {
   "display_name": "Python 3",
   "language": "python",
   "name": "python3"
  },
  "language_info": {
   "codemirror_mode": {
    "name": "ipython",
    "version": 3
   },
   "file_extension": ".py",
   "mimetype": "text/x-python",
   "name": "python",
   "nbconvert_exporter": "python",
   "pygments_lexer": "ipython3",
   "version": "3.8.6"
  }
 },
 "nbformat": 4,
 "nbformat_minor": 4
}
