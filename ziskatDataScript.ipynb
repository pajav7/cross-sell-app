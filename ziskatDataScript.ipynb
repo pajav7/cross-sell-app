{
 "cells": [
  {
   "cell_type": "code",
   "execution_count": 2,
   "metadata": {},
   "outputs": [
    {
     "data": {
      "text/plain": [
       "{'uri': 'https://connection.eu-central-1.keboola.com/v2/storage/tables/out.c-zzz-01das.product_views_cz',\n",
       " 'id': 'out.c-zzz-01das.product_views_cz',\n",
       " 'name': 'product_views_cz',\n",
       " 'displayName': 'product_views_cz',\n",
       " 'transactional': False,\n",
       " 'primaryKey': [],\n",
       " 'syntheticPrimaryKeyEnabled': False,\n",
       " 'indexedColumns': [],\n",
       " 'created': '2020-10-18T19:10:25+0200',\n",
       " 'lastImportDate': '2020-10-28T20:32:35+0100',\n",
       " 'lastChangeDate': '2020-10-28T20:32:35+0100',\n",
       " 'rowsCount': 426361609,\n",
       " 'dataSizeBytes': 3586996736,\n",
       " 'isAlias': False,\n",
       " 'isAliasable': True,\n",
       " 'columns': ['date',\n",
       "  'user_id_anon',\n",
       "  'visit_id_anon',\n",
       "  'product_id',\n",
       "  'product_detail_views'],\n",
       " 'columnMetadata': [],\n",
       " 'attributes': [],\n",
       " 'metadata': [{'id': '881312826',\n",
       "   'key': 'KBC.createdBy.component.id',\n",
       "   'value': 'transformation',\n",
       "   'provider': 'system',\n",
       "   'timestamp': '2020-10-18T19:15:14+0200'},\n",
       "  {'id': '881312827',\n",
       "   'key': 'KBC.createdBy.configuration.id',\n",
       "   'value': '191774009',\n",
       "   'provider': 'system',\n",
       "   'timestamp': '2020-10-18T19:15:14+0200'},\n",
       "  {'id': '881312828',\n",
       "   'key': 'KBC.createdBy.configurationRow.id',\n",
       "   'value': '191774150',\n",
       "   'provider': 'system',\n",
       "   'timestamp': '2020-10-18T19:15:14+0200'},\n",
       "  {'id': '881312829',\n",
       "   'key': 'KBC.lastUpdatedBy.component.id',\n",
       "   'value': 'transformation',\n",
       "   'provider': 'system',\n",
       "   'timestamp': '2020-10-18T19:15:14+0200'},\n",
       "  {'id': '881312830',\n",
       "   'key': 'KBC.lastUpdatedBy.configuration.id',\n",
       "   'value': '191774009',\n",
       "   'provider': 'system',\n",
       "   'timestamp': '2020-10-18T19:15:14+0200'},\n",
       "  {'id': '881312831',\n",
       "   'key': 'KBC.lastUpdatedBy.configurationRow.id',\n",
       "   'value': '191774150',\n",
       "   'provider': 'system',\n",
       "   'timestamp': '2020-10-18T19:15:14+0200'}],\n",
       " 'bucket': {'uri': 'https://connection.eu-central-1.keboola.com/v2/storage/buckets/out.c-zzz-01das',\n",
       "  'id': 'out.c-zzz-01das',\n",
       "  'name': 'c-zzz-01das',\n",
       "  'displayName': 'zzz-01das',\n",
       "  'stage': 'out',\n",
       "  'description': 'Bucket created by Transformation API',\n",
       "  'tables': 'https://connection.eu-central-1.keboola.com/v2/storage/buckets/out.c-zzz-01das',\n",
       "  'created': '2020-10-18T19:10:21+0200',\n",
       "  'lastChangeDate': '2020-10-28T20:32:53+0100',\n",
       "  'isReadOnly': False,\n",
       "  'dataSizeBytes': 7491956224,\n",
       "  'rowsCount': 905537271,\n",
       "  'isMaintenance': False,\n",
       "  'backend': 'snowflake',\n",
       "  'sharing': None,\n",
       "  'directAccessEnabled': False,\n",
       "  'directAccessSchemaName': None,\n",
       "  'metadata': []}}"
      ]
     },
     "execution_count": 2,
     "metadata": {},
     "output_type": "execute_result"
    }
   ],
   "source": [
    "from kbcstorage.client import Client\n",
    "import csv\n",
    "\n",
    "client = Client('https://connection.eu-central-1.keboola.com', '858-85291-eKF1fmrOr9AiDGa1HTUf5gEBpbE7nolbeKIAloVE')\n",
    "\n",
    "# client.tables.list() #vypise seznam tabulek a informace o nich\n",
    "\n",
    "client.tables.detail('out.c-zzz-01das.product_views_cz')\n",
    "\n",
    "#STAZENI DAT Z TABULKY:\n",
    "client.tables.export_to_file(table_id='out.c-zzz-01das.item_cz', path_name='.')\n",
    "with open('./item_cz', mode='rt', encoding='utf-8') as in_file:\n",
    "    lazy_lines = (line.replace('\\0', '') for line in in_file)\n",
    "    reader = csv.reader(lazy_lines, lineterminator='\\n')\n",
    "    for row in reader:\n",
    "        print(row)\n",
    "        "
   ]
  },
  {
   "cell_type": "code",
   "execution_count": 4,
   "metadata": {},
   "outputs": [
    {
     "data": {
      "text/plain": [
       "['.ipynb_checkpoints',\n",
       " 'cross-sell-app',\n",
       " 'Data',\n",
       " 'database.db',\n",
       " 'database.ipynb',\n",
       " 'word2vec.ipynb',\n",
       " 'ziskatData.ipynb']"
      ]
     },
     "execution_count": 4,
     "metadata": {},
     "output_type": "execute_result"
    }
   ],
   "source": [
    "#ZBYTEK UZ JE JEN HRANI S DATY: NEDULEZITE!!!!\n",
    "\n",
    "import pandas as pd\n",
    "import os\n",
    "os.listdir()"
   ]
  },
  {
   "cell_type": "code",
   "execution_count": 6,
   "metadata": {},
   "outputs": [
    {
     "data": {
      "text/plain": [
       "['cz_item_category',\n",
       " 'item_cz',\n",
       " 'list_category',\n",
       " 'material_attributes_cz',\n",
       " 'product_views_cz']"
      ]
     },
     "execution_count": 6,
     "metadata": {},
     "output_type": "execute_result"
    }
   ],
   "source": [
    "#Contents of the Data folder \n",
    "os.listdir(\"Data/\")"
   ]
  },
  {
   "cell_type": "code",
   "execution_count": 9,
   "metadata": {},
   "outputs": [],
   "source": [
    "dataFile = \"Data/material_attributes_cz\"\n",
    "empData = pd.read_csv(dataFile)"
   ]
  },
  {
   "cell_type": "code",
   "execution_count": 10,
   "metadata": {},
   "outputs": [
    {
     "data": {
      "text/plain": [
       "pandas.core.frame.DataFrame"
      ]
     },
     "execution_count": 10,
     "metadata": {},
     "output_type": "execute_result"
    }
   ],
   "source": [
    "type(empData)"
   ]
  },
  {
   "cell_type": "code",
   "execution_count": 27,
   "metadata": {},
   "outputs": [
    {
     "name": "stdout",
     "output_type": "stream",
     "text": [
      "        MATERIAL_ID                                      NAME_GROUPING\n",
      "176783      1422386  SWISSTEN GRAVITY DRŽÁK DO VENTILACE AUTA S-GRI...\n",
      "        MATERIAL_ID                                      NAME_GROUPING\n",
      "104684       712708  Sony Alpha 5100 + 16-50 mm + 55-210 mm Black (...\n",
      "Empty DataFrame\n",
      "Columns: [MATERIAL_ID, NAME_GROUPING]\n",
      "Index: []\n",
      "        MATERIAL_ID                                      NAME_GROUPING\n",
      "244756      1394189  Canon PowerShot G7 X Mark II Vlogger Kit (1066...\n",
      "        MATERIAL_ID                                 NAME_GROUPING\n",
      "111069       816264  Belis 4 dílná sada nádobí STABIL EXTRA SFINX\n"
     ]
    }
   ],
   "source": [
    "# let's check if we imported the file correctly, displaying first 100 rows\n",
    "empData.head()\n",
    "# print(len(empData) -len(empData.groupby('id')))\n",
    "print(empData[empData['MATERIAL_ID'] == 1422386])\n",
    "print(empData[empData['MATERIAL_ID'] == 712708])\n",
    "print(empData[empData['MATERIAL_ID'] == 100017832244])\n",
    "print(empData[empData['MATERIAL_ID'] == 1394189])\n",
    "print(empData[empData['MATERIAL_ID'] == 816264])\n"
   ]
  },
  {
   "cell_type": "code",
   "execution_count": null,
   "metadata": {},
   "outputs": [],
   "source": []
  },
  {
   "cell_type": "code",
   "execution_count": 28,
   "metadata": {},
   "outputs": [
    {
     "data": {
      "text/plain": [
       "Index(['item_id', 'category_id', 'ods_created', 'is_main'], dtype='object')"
      ]
     },
     "execution_count": 28,
     "metadata": {},
     "output_type": "execute_result"
    }
   ],
   "source": [
    "empData.columns"
   ]
  },
  {
   "cell_type": "code",
   "execution_count": 52,
   "metadata": {},
   "outputs": [
    {
     "name": "stdout",
     "output_type": "stream",
     "text": [
      "277376\n",
      "True\n",
      "42\n"
     ]
    },
    {
     "data": {
      "text/html": [
       "<div>\n",
       "<style scoped>\n",
       "    .dataframe tbody tr th:only-of-type {\n",
       "        vertical-align: middle;\n",
       "    }\n",
       "\n",
       "    .dataframe tbody tr th {\n",
       "        vertical-align: top;\n",
       "    }\n",
       "\n",
       "    .dataframe thead th {\n",
       "        text-align: right;\n",
       "    }\n",
       "</style>\n",
       "<table border=\"1\" class=\"dataframe\">\n",
       "  <thead>\n",
       "    <tr style=\"text-align: right;\">\n",
       "      <th></th>\n",
       "      <th>MATERIAL_ID</th>\n",
       "      <th>NAME_GROUPING</th>\n",
       "    </tr>\n",
       "  </thead>\n",
       "  <tbody>\n",
       "    <tr>\n",
       "      <th>94276</th>\n",
       "      <td>868248</td>\n",
       "      <td>Razor Elektrická koloběžka E100 - GLOW</td>\n",
       "    </tr>\n",
       "    <tr>\n",
       "      <th>122612</th>\n",
       "      <td>868248</td>\n",
       "      <td>Razor Elektrická koloběžka E100 - GLOW</td>\n",
       "    </tr>\n",
       "    <tr>\n",
       "      <th>16353</th>\n",
       "      <td>1115946</td>\n",
       "      <td>DIAGO Deka ke kočárku fleece</td>\n",
       "    </tr>\n",
       "    <tr>\n",
       "      <th>137367</th>\n",
       "      <td>1115946</td>\n",
       "      <td>DIAGO Deka ke kočárku fleece</td>\n",
       "    </tr>\n",
       "    <tr>\n",
       "      <th>57402</th>\n",
       "      <td>1115952</td>\n",
       "      <td>DIAGO Deka ke kočárku nepromokavá</td>\n",
       "    </tr>\n",
       "    <tr>\n",
       "      <th>...</th>\n",
       "      <td>...</td>\n",
       "      <td>...</td>\n",
       "    </tr>\n",
       "    <tr>\n",
       "      <th>143516</th>\n",
       "      <td>100002662883</td>\n",
       "      <td>Rossignol HERO ELITE AT + XPress 11</td>\n",
       "    </tr>\n",
       "    <tr>\n",
       "      <th>138068</th>\n",
       "      <td>100010044768</td>\n",
       "      <td>Bull's Pouzdro na šipky - Dartsafe - L</td>\n",
       "    </tr>\n",
       "    <tr>\n",
       "      <th>262018</th>\n",
       "      <td>100010044768</td>\n",
       "      <td>Bull's Pouzdro na šipky - Dartsafe - L</td>\n",
       "    </tr>\n",
       "    <tr>\n",
       "      <th>172586</th>\n",
       "      <td>100016779601</td>\n",
       "      <td>Miler Zdeněk: Krtek a zvuky kolem nás - leporelo</td>\n",
       "    </tr>\n",
       "    <tr>\n",
       "      <th>144027</th>\n",
       "      <td>100016779601</td>\n",
       "      <td>Miler Zdeněk: Krtek a zvuky kolem nás - leporelo</td>\n",
       "    </tr>\n",
       "  </tbody>\n",
       "</table>\n",
       "<p>84 rows × 2 columns</p>\n",
       "</div>"
      ],
      "text/plain": [
       "         MATERIAL_ID                                     NAME_GROUPING\n",
       "94276         868248            Razor Elektrická koloběžka E100 - GLOW\n",
       "122612        868248            Razor Elektrická koloběžka E100 - GLOW\n",
       "16353        1115946                      DIAGO Deka ke kočárku fleece\n",
       "137367       1115946                      DIAGO Deka ke kočárku fleece\n",
       "57402        1115952                 DIAGO Deka ke kočárku nepromokavá\n",
       "...              ...                                               ...\n",
       "143516  100002662883               Rossignol HERO ELITE AT + XPress 11\n",
       "138068  100010044768            Bull's Pouzdro na šipky - Dartsafe - L\n",
       "262018  100010044768            Bull's Pouzdro na šipky - Dartsafe - L\n",
       "172586  100016779601  Miler Zdeněk: Krtek a zvuky kolem nás - leporelo\n",
       "144027  100016779601  Miler Zdeněk: Krtek a zvuky kolem nás - leporelo\n",
       "\n",
       "[84 rows x 2 columns]"
      ]
     },
     "execution_count": 52,
     "metadata": {},
     "output_type": "execute_result"
    },
    {
     "data": {
      "image/png": "[encoded data removed]",
      "text/plain": [
       "<Figure size 432x288 with 1 Axes>"
      ]
     },
     "metadata": {
      "needs_background": "light"
     },
     "output_type": "display_data"
    }
   ],
   "source": [
    "empData['MATERIAL_ID'].hist()\n",
    "print(len(empData))\n",
    "print(empData['MATERIAL_ID'].duplicated().any())\n",
    "print(len(empData) -len(empData.groupby('MATERIAL_ID')))\n",
    "\n",
    "ids = empData['MATERIAL_ID']\n",
    "empData[ids.isin(ids[ids.duplicated()])].sort_values('MATERIAL_ID')\n"
   ]
  },
  {
   "cell_type": "code",
   "execution_count": 14,
   "metadata": {},
   "outputs": [
    {
     "ename": "KeyError",
     "evalue": "'date'",
     "output_type": "error",
     "traceback": [
      "\u001b[1;31m---------------------------------------------------------------------------\u001b[0m",
      "\u001b[1;31mKeyError\u001b[0m                                  Traceback (most recent call last)",
      "\u001b[1;32mc:\\users\\pajav\\source\\repos\\lecture4\\lib\\site-packages\\pandas\\core\\indexes\\base.py\u001b[0m in \u001b[0;36mget_loc\u001b[1;34m(self, key, method, tolerance)\u001b[0m\n\u001b[0;32m   2894\u001b[0m             \u001b[1;32mtry\u001b[0m\u001b[1;33m:\u001b[0m\u001b[1;33m\u001b[0m\u001b[1;33m\u001b[0m\u001b[0m\n\u001b[1;32m-> 2895\u001b[1;33m                 \u001b[1;32mreturn\u001b[0m \u001b[0mself\u001b[0m\u001b[1;33m.\u001b[0m\u001b[0m_engine\u001b[0m\u001b[1;33m.\u001b[0m\u001b[0mget_loc\u001b[0m\u001b[1;33m(\u001b[0m\u001b[0mcasted_key\u001b[0m\u001b[1;33m)\u001b[0m\u001b[1;33m\u001b[0m\u001b[1;33m\u001b[0m\u001b[0m\n\u001b[0m\u001b[0;32m   2896\u001b[0m             \u001b[1;32mexcept\u001b[0m \u001b[0mKeyError\u001b[0m \u001b[1;32mas\u001b[0m \u001b[0merr\u001b[0m\u001b[1;33m:\u001b[0m\u001b[1;33m\u001b[0m\u001b[1;33m\u001b[0m\u001b[0m\n",
      "\u001b[1;32mpandas\\_libs\\index.pyx\u001b[0m in \u001b[0;36mpandas._libs.index.IndexEngine.get_loc\u001b[1;34m()\u001b[0m\n",
      "\u001b[1;32mpandas\\_libs\\index.pyx\u001b[0m in \u001b[0;36mpandas._libs.index.IndexEngine.get_loc\u001b[1;34m()\u001b[0m\n",
      "\u001b[1;32mpandas\\_libs\\hashtable_class_helper.pxi\u001b[0m in \u001b[0;36mpandas._libs.hashtable.PyObjectHashTable.get_item\u001b[1;34m()\u001b[0m\n",
      "\u001b[1;32mpandas\\_libs\\hashtable_class_helper.pxi\u001b[0m in \u001b[0;36mpandas._libs.hashtable.PyObjectHashTable.get_item\u001b[1;34m()\u001b[0m\n",
      "\u001b[1;31mKeyError\u001b[0m: 'date'",
      "\nThe above exception was the direct cause of the following exception:\n",
      "\u001b[1;31mKeyError\u001b[0m                                  Traceback (most recent call last)",
      "\u001b[1;32m<ipython-input-14-d393f8455b88>\u001b[0m in \u001b[0;36m<module>\u001b[1;34m\u001b[0m\n\u001b[0;32m      1\u001b[0m \u001b[1;31m# slicing the data by columns\u001b[0m\u001b[1;33m\u001b[0m\u001b[1;33m\u001b[0m\u001b[1;33m\u001b[0m\u001b[0m\n\u001b[0;32m      2\u001b[0m \u001b[1;31m# dataFrame[column_name] or dataFrame[list_of_columns]\u001b[0m\u001b[1;33m\u001b[0m\u001b[1;33m\u001b[0m\u001b[1;33m\u001b[0m\u001b[0m\n\u001b[1;32m----> 3\u001b[1;33m \u001b[0mempData\u001b[0m\u001b[1;33m[\u001b[0m\u001b[1;34m'date'\u001b[0m\u001b[1;33m]\u001b[0m\u001b[1;33m.\u001b[0m\u001b[0mhead\u001b[0m\u001b[1;33m(\u001b[0m\u001b[1;36m10\u001b[0m\u001b[1;33m)\u001b[0m\u001b[1;33m\u001b[0m\u001b[1;33m\u001b[0m\u001b[0m\n\u001b[0m",
      "\u001b[1;32mc:\\users\\pajav\\source\\repos\\lecture4\\lib\\site-packages\\pandas\\core\\frame.py\u001b[0m in \u001b[0;36m__getitem__\u001b[1;34m(self, key)\u001b[0m\n\u001b[0;32m   2900\u001b[0m             \u001b[1;32mif\u001b[0m \u001b[0mself\u001b[0m\u001b[1;33m.\u001b[0m\u001b[0mcolumns\u001b[0m\u001b[1;33m.\u001b[0m\u001b[0mnlevels\u001b[0m \u001b[1;33m>\u001b[0m \u001b[1;36m1\u001b[0m\u001b[1;33m:\u001b[0m\u001b[1;33m\u001b[0m\u001b[1;33m\u001b[0m\u001b[0m\n\u001b[0;32m   2901\u001b[0m                 \u001b[1;32mreturn\u001b[0m \u001b[0mself\u001b[0m\u001b[1;33m.\u001b[0m\u001b[0m_getitem_multilevel\u001b[0m\u001b[1;33m(\u001b[0m\u001b[0mkey\u001b[0m\u001b[1;33m)\u001b[0m\u001b[1;33m\u001b[0m\u001b[1;33m\u001b[0m\u001b[0m\n\u001b[1;32m-> 2902\u001b[1;33m             \u001b[0mindexer\u001b[0m \u001b[1;33m=\u001b[0m \u001b[0mself\u001b[0m\u001b[1;33m.\u001b[0m\u001b[0mcolumns\u001b[0m\u001b[1;33m.\u001b[0m\u001b[0mget_loc\u001b[0m\u001b[1;33m(\u001b[0m\u001b[0mkey\u001b[0m\u001b[1;33m)\u001b[0m\u001b[1;33m\u001b[0m\u001b[1;33m\u001b[0m\u001b[0m\n\u001b[0m\u001b[0;32m   2903\u001b[0m             \u001b[1;32mif\u001b[0m \u001b[0mis_integer\u001b[0m\u001b[1;33m(\u001b[0m\u001b[0mindexer\u001b[0m\u001b[1;33m)\u001b[0m\u001b[1;33m:\u001b[0m\u001b[1;33m\u001b[0m\u001b[1;33m\u001b[0m\u001b[0m\n\u001b[0;32m   2904\u001b[0m                 \u001b[0mindexer\u001b[0m \u001b[1;33m=\u001b[0m \u001b[1;33m[\u001b[0m\u001b[0mindexer\u001b[0m\u001b[1;33m]\u001b[0m\u001b[1;33m\u001b[0m\u001b[1;33m\u001b[0m\u001b[0m\n",
      "\u001b[1;32mc:\\users\\pajav\\source\\repos\\lecture4\\lib\\site-packages\\pandas\\core\\indexes\\base.py\u001b[0m in \u001b[0;36mget_loc\u001b[1;34m(self, key, method, tolerance)\u001b[0m\n\u001b[0;32m   2895\u001b[0m                 \u001b[1;32mreturn\u001b[0m \u001b[0mself\u001b[0m\u001b[1;33m.\u001b[0m\u001b[0m_engine\u001b[0m\u001b[1;33m.\u001b[0m\u001b[0mget_loc\u001b[0m\u001b[1;33m(\u001b[0m\u001b[0mcasted_key\u001b[0m\u001b[1;33m)\u001b[0m\u001b[1;33m\u001b[0m\u001b[1;33m\u001b[0m\u001b[0m\n\u001b[0;32m   2896\u001b[0m             \u001b[1;32mexcept\u001b[0m \u001b[0mKeyError\u001b[0m \u001b[1;32mas\u001b[0m \u001b[0merr\u001b[0m\u001b[1;33m:\u001b[0m\u001b[1;33m\u001b[0m\u001b[1;33m\u001b[0m\u001b[0m\n\u001b[1;32m-> 2897\u001b[1;33m                 \u001b[1;32mraise\u001b[0m \u001b[0mKeyError\u001b[0m\u001b[1;33m(\u001b[0m\u001b[0mkey\u001b[0m\u001b[1;33m)\u001b[0m \u001b[1;32mfrom\u001b[0m \u001b[0merr\u001b[0m\u001b[1;33m\u001b[0m\u001b[1;33m\u001b[0m\u001b[0m\n\u001b[0m\u001b[0;32m   2898\u001b[0m \u001b[1;33m\u001b[0m\u001b[0m\n\u001b[0;32m   2899\u001b[0m         \u001b[1;32mif\u001b[0m \u001b[0mtolerance\u001b[0m \u001b[1;32mis\u001b[0m \u001b[1;32mnot\u001b[0m \u001b[1;32mNone\u001b[0m\u001b[1;33m:\u001b[0m\u001b[1;33m\u001b[0m\u001b[1;33m\u001b[0m\u001b[0m\n",
      "\u001b[1;31mKeyError\u001b[0m: 'date'"
     ]
    }
   ],
   "source": [
    "# slicing the data by columns\n",
    "# dataFrame[column_name] or dataFrame[list_of_columns]\n",
    "empData['date'].head(10)"
   ]
  },
  {
   "cell_type": "code",
   "execution_count": 26,
   "metadata": {},
   "outputs": [
    {
     "data": {
      "text/plain": [
       "1     2020-07-09 21:44:38.253979+00\n",
       "2     2020-07-09 21:44:38.253979+00\n",
       "3     2020-07-09 21:44:38.253979+00\n",
       "4     2020-07-09 21:44:38.253979+00\n",
       "5     2020-07-09 21:44:38.253979+00\n",
       "6     2020-07-09 21:44:38.253979+00\n",
       "7     2020-07-09 21:44:38.253979+00\n",
       "8     2020-07-09 21:44:38.253979+00\n",
       "9     2020-07-09 21:44:38.253979+00\n",
       "10    2020-07-09 21:44:38.253979+00\n",
       "Name: ods_created, dtype: object"
      ]
     },
     "execution_count": 26,
     "metadata": {},
     "output_type": "execute_result"
    }
   ],
   "source": [
    "# let's select first 10 rows and first column\n",
    "empData.loc[1:10, 'ods_created']"
   ]
  },
  {
   "cell_type": "code",
   "execution_count": 27,
   "metadata": {},
   "outputs": [
    {
     "data": {
      "text/html": [
       "<div>\n",
       "<style scoped>\n",
       "    .dataframe tbody tr th:only-of-type {\n",
       "        vertical-align: middle;\n",
       "    }\n",
       "\n",
       "    .dataframe tbody tr th {\n",
       "        vertical-align: top;\n",
       "    }\n",
       "\n",
       "    .dataframe thead th {\n",
       "        text-align: right;\n",
       "    }\n",
       "</style>\n",
       "<table border=\"1\" class=\"dataframe\">\n",
       "  <thead>\n",
       "    <tr style=\"text-align: right;\">\n",
       "      <th></th>\n",
       "      <th>item_id</th>\n",
       "      <th>is_main</th>\n",
       "    </tr>\n",
       "  </thead>\n",
       "  <tbody>\n",
       "    <tr>\n",
       "      <th>1</th>\n",
       "      <td>6519375</td>\n",
       "      <td>f</td>\n",
       "    </tr>\n",
       "    <tr>\n",
       "      <th>2</th>\n",
       "      <td>8126442</td>\n",
       "      <td>t</td>\n",
       "    </tr>\n",
       "    <tr>\n",
       "      <th>3</th>\n",
       "      <td>8920208</td>\n",
       "      <td>f</td>\n",
       "    </tr>\n",
       "    <tr>\n",
       "      <th>4</th>\n",
       "      <td>7774896</td>\n",
       "      <td>f</td>\n",
       "    </tr>\n",
       "    <tr>\n",
       "      <th>5</th>\n",
       "      <td>827213421</td>\n",
       "      <td>t</td>\n",
       "    </tr>\n",
       "    <tr>\n",
       "      <th>6</th>\n",
       "      <td>8929822</td>\n",
       "      <td>f</td>\n",
       "    </tr>\n",
       "    <tr>\n",
       "      <th>7</th>\n",
       "      <td>6929486</td>\n",
       "      <td>t</td>\n",
       "    </tr>\n",
       "    <tr>\n",
       "      <th>8</th>\n",
       "      <td>9850992</td>\n",
       "      <td>t</td>\n",
       "    </tr>\n",
       "    <tr>\n",
       "      <th>9</th>\n",
       "      <td>738573541</td>\n",
       "      <td>f</td>\n",
       "    </tr>\n",
       "    <tr>\n",
       "      <th>10</th>\n",
       "      <td>8449676</td>\n",
       "      <td>t</td>\n",
       "    </tr>\n",
       "  </tbody>\n",
       "</table>\n",
       "</div>"
      ],
      "text/plain": [
       "      item_id is_main\n",
       "1     6519375       f\n",
       "2     8126442       t\n",
       "3     8920208       f\n",
       "4     7774896       f\n",
       "5   827213421       t\n",
       "6     8929822       f\n",
       "7     6929486       t\n",
       "8     9850992       t\n",
       "9   738573541       f\n",
       "10    8449676       t"
      ]
     },
     "execution_count": 27,
     "metadata": {},
     "output_type": "execute_result"
    }
   ],
   "source": [
    "# doesn't make sense, right? We'll have to put them into a list of fields\n",
    "empData.loc[1:10, ['item_id', 'is_main']]"
   ]
  },
  {
   "cell_type": "code",
   "execution_count": 28,
   "metadata": {},
   "outputs": [
    {
     "data": {
      "text/plain": [
       "1    1015678\n",
       "2        215\n",
       "3        237\n",
       "4       1962\n",
       "5      45761\n",
       "6    6411145\n",
       "7      20240\n",
       "8        184\n",
       "9        238\n",
       "Name: category_id, dtype: int64"
      ]
     },
     "execution_count": 28,
     "metadata": {},
     "output_type": "execute_result"
    }
   ],
   "source": [
    "# different kind of slicing, through integer-based position\n",
    "empData.iloc[1:10,1]"
   ]
  },
  {
   "cell_type": "code",
   "execution_count": 29,
   "metadata": {},
   "outputs": [
    {
     "data": {
      "text/html": [
       "<div>\n",
       "<style scoped>\n",
       "    .dataframe tbody tr th:only-of-type {\n",
       "        vertical-align: middle;\n",
       "    }\n",
       "\n",
       "    .dataframe tbody tr th {\n",
       "        vertical-align: top;\n",
       "    }\n",
       "\n",
       "    .dataframe thead th {\n",
       "        text-align: right;\n",
       "    }\n",
       "</style>\n",
       "<table border=\"1\" class=\"dataframe\">\n",
       "  <thead>\n",
       "    <tr style=\"text-align: right;\">\n",
       "      <th></th>\n",
       "      <th>category_id</th>\n",
       "    </tr>\n",
       "  </thead>\n",
       "  <tbody>\n",
       "    <tr>\n",
       "      <th>1</th>\n",
       "      <td>1015678</td>\n",
       "    </tr>\n",
       "    <tr>\n",
       "      <th>2</th>\n",
       "      <td>215</td>\n",
       "    </tr>\n",
       "    <tr>\n",
       "      <th>3</th>\n",
       "      <td>237</td>\n",
       "    </tr>\n",
       "    <tr>\n",
       "      <th>4</th>\n",
       "      <td>1962</td>\n",
       "    </tr>\n",
       "    <tr>\n",
       "      <th>5</th>\n",
       "      <td>45761</td>\n",
       "    </tr>\n",
       "    <tr>\n",
       "      <th>6</th>\n",
       "      <td>6411145</td>\n",
       "    </tr>\n",
       "    <tr>\n",
       "      <th>7</th>\n",
       "      <td>20240</td>\n",
       "    </tr>\n",
       "    <tr>\n",
       "      <th>8</th>\n",
       "      <td>184</td>\n",
       "    </tr>\n",
       "    <tr>\n",
       "      <th>9</th>\n",
       "      <td>238</td>\n",
       "    </tr>\n",
       "  </tbody>\n",
       "</table>\n",
       "</div>"
      ],
      "text/plain": [
       "   category_id\n",
       "1      1015678\n",
       "2          215\n",
       "3          237\n",
       "4         1962\n",
       "5        45761\n",
       "6      6411145\n",
       "7        20240\n",
       "8          184\n",
       "9          238"
      ]
     },
     "execution_count": 29,
     "metadata": {},
     "output_type": "execute_result"
    }
   ],
   "source": [
    "# strange, huh? What about this?\n",
    "empData.iloc[1:10,1:2]"
   ]
  },
  {
   "cell_type": "code",
   "execution_count": 30,
   "metadata": {},
   "outputs": [
    {
     "data": {
      "text/html": [
       "<div>\n",
       "<style scoped>\n",
       "    .dataframe tbody tr th:only-of-type {\n",
       "        vertical-align: middle;\n",
       "    }\n",
       "\n",
       "    .dataframe tbody tr th {\n",
       "        vertical-align: top;\n",
       "    }\n",
       "\n",
       "    .dataframe thead th {\n",
       "        text-align: right;\n",
       "    }\n",
       "</style>\n",
       "<table border=\"1\" class=\"dataframe\">\n",
       "  <thead>\n",
       "    <tr style=\"text-align: right;\">\n",
       "      <th></th>\n",
       "      <th>category_id</th>\n",
       "      <th>ods_created</th>\n",
       "    </tr>\n",
       "  </thead>\n",
       "  <tbody>\n",
       "    <tr>\n",
       "      <th>1</th>\n",
       "      <td>1015678</td>\n",
       "      <td>2020-07-09 21:44:38.253979+00</td>\n",
       "    </tr>\n",
       "    <tr>\n",
       "      <th>2</th>\n",
       "      <td>215</td>\n",
       "      <td>2020-07-09 21:44:38.253979+00</td>\n",
       "    </tr>\n",
       "    <tr>\n",
       "      <th>3</th>\n",
       "      <td>237</td>\n",
       "      <td>2020-07-09 21:44:38.253979+00</td>\n",
       "    </tr>\n",
       "    <tr>\n",
       "      <th>4</th>\n",
       "      <td>1962</td>\n",
       "      <td>2020-07-09 21:44:38.253979+00</td>\n",
       "    </tr>\n",
       "    <tr>\n",
       "      <th>5</th>\n",
       "      <td>45761</td>\n",
       "      <td>2020-07-09 21:44:38.253979+00</td>\n",
       "    </tr>\n",
       "    <tr>\n",
       "      <th>6</th>\n",
       "      <td>6411145</td>\n",
       "      <td>2020-07-09 21:44:38.253979+00</td>\n",
       "    </tr>\n",
       "    <tr>\n",
       "      <th>7</th>\n",
       "      <td>20240</td>\n",
       "      <td>2020-07-09 21:44:38.253979+00</td>\n",
       "    </tr>\n",
       "    <tr>\n",
       "      <th>8</th>\n",
       "      <td>184</td>\n",
       "      <td>2020-07-09 21:44:38.253979+00</td>\n",
       "    </tr>\n",
       "    <tr>\n",
       "      <th>9</th>\n",
       "      <td>238</td>\n",
       "      <td>2020-07-09 21:44:38.253979+00</td>\n",
       "    </tr>\n",
       "  </tbody>\n",
       "</table>\n",
       "</div>"
      ],
      "text/plain": [
       "   category_id                    ods_created\n",
       "1      1015678  2020-07-09 21:44:38.253979+00\n",
       "2          215  2020-07-09 21:44:38.253979+00\n",
       "3          237  2020-07-09 21:44:38.253979+00\n",
       "4         1962  2020-07-09 21:44:38.253979+00\n",
       "5        45761  2020-07-09 21:44:38.253979+00\n",
       "6      6411145  2020-07-09 21:44:38.253979+00\n",
       "7        20240  2020-07-09 21:44:38.253979+00\n",
       "8          184  2020-07-09 21:44:38.253979+00\n",
       "9          238  2020-07-09 21:44:38.253979+00"
      ]
     },
     "execution_count": 30,
     "metadata": {},
     "output_type": "execute_result"
    }
   ],
   "source": [
    "# last slice\n",
    "empData.iloc[1:10,1:3]"
   ]
  },
  {
   "cell_type": "code",
   "execution_count": 31,
   "metadata": {},
   "outputs": [
    {
     "data": {
      "text/plain": [
       "0    False\n",
       "1    False\n",
       "2     True\n",
       "3    False\n",
       "4    False\n",
       "Name: is_main, dtype: bool"
      ]
     },
     "execution_count": 31,
     "metadata": {},
     "output_type": "execute_result"
    }
   ],
   "source": [
    "# slicing by maps (condition-based slicing)\n",
    "# let's create a map for all terminated employees\n",
    "terms = (empData['is_main'] == 't')\n",
    "terms.head()"
   ]
  },
  {
   "cell_type": "code",
   "execution_count": 32,
   "metadata": {},
   "outputs": [
    {
     "data": {
      "text/html": [
       "<div>\n",
       "<style scoped>\n",
       "    .dataframe tbody tr th:only-of-type {\n",
       "        vertical-align: middle;\n",
       "    }\n",
       "\n",
       "    .dataframe tbody tr th {\n",
       "        vertical-align: top;\n",
       "    }\n",
       "\n",
       "    .dataframe thead th {\n",
       "        text-align: right;\n",
       "    }\n",
       "</style>\n",
       "<table border=\"1\" class=\"dataframe\">\n",
       "  <thead>\n",
       "    <tr style=\"text-align: right;\">\n",
       "      <th></th>\n",
       "      <th>item_id</th>\n",
       "      <th>category_id</th>\n",
       "      <th>ods_created</th>\n",
       "      <th>is_main</th>\n",
       "    </tr>\n",
       "  </thead>\n",
       "  <tbody>\n",
       "    <tr>\n",
       "      <th>2</th>\n",
       "      <td>8126442</td>\n",
       "      <td>215</td>\n",
       "      <td>2020-07-09 21:44:38.253979+00</td>\n",
       "      <td>t</td>\n",
       "    </tr>\n",
       "    <tr>\n",
       "      <th>5</th>\n",
       "      <td>827213421</td>\n",
       "      <td>45761</td>\n",
       "      <td>2020-07-09 21:44:38.253979+00</td>\n",
       "      <td>t</td>\n",
       "    </tr>\n",
       "    <tr>\n",
       "      <th>7</th>\n",
       "      <td>6929486</td>\n",
       "      <td>20240</td>\n",
       "      <td>2020-07-09 21:44:38.253979+00</td>\n",
       "      <td>t</td>\n",
       "    </tr>\n",
       "    <tr>\n",
       "      <th>8</th>\n",
       "      <td>9850992</td>\n",
       "      <td>184</td>\n",
       "      <td>2020-07-09 21:44:38.253979+00</td>\n",
       "      <td>t</td>\n",
       "    </tr>\n",
       "    <tr>\n",
       "      <th>10</th>\n",
       "      <td>8449676</td>\n",
       "      <td>1580</td>\n",
       "      <td>2020-07-09 21:44:38.253979+00</td>\n",
       "      <td>t</td>\n",
       "    </tr>\n",
       "    <tr>\n",
       "      <th>11</th>\n",
       "      <td>8124492</td>\n",
       "      <td>193</td>\n",
       "      <td>2020-07-09 21:44:38.253979+00</td>\n",
       "      <td>t</td>\n",
       "    </tr>\n",
       "    <tr>\n",
       "      <th>16</th>\n",
       "      <td>8499514</td>\n",
       "      <td>187</td>\n",
       "      <td>2020-07-09 21:44:38.253979+00</td>\n",
       "      <td>t</td>\n",
       "    </tr>\n",
       "    <tr>\n",
       "      <th>18</th>\n",
       "      <td>233204112</td>\n",
       "      <td>917072</td>\n",
       "      <td>2020-07-09 21:44:38.253979+00</td>\n",
       "      <td>t</td>\n",
       "    </tr>\n",
       "    <tr>\n",
       "      <th>24</th>\n",
       "      <td>9060091</td>\n",
       "      <td>237</td>\n",
       "      <td>2020-07-09 21:44:38.253979+00</td>\n",
       "      <td>t</td>\n",
       "    </tr>\n",
       "    <tr>\n",
       "      <th>27</th>\n",
       "      <td>9846230</td>\n",
       "      <td>1795</td>\n",
       "      <td>2020-07-09 21:44:38.253979+00</td>\n",
       "      <td>t</td>\n",
       "    </tr>\n",
       "    <tr>\n",
       "      <th>29</th>\n",
       "      <td>7124873</td>\n",
       "      <td>191</td>\n",
       "      <td>2020-07-09 21:44:38.253979+00</td>\n",
       "      <td>t</td>\n",
       "    </tr>\n",
       "    <tr>\n",
       "      <th>30</th>\n",
       "      <td>9400740</td>\n",
       "      <td>275</td>\n",
       "      <td>2020-07-09 21:44:38.253979+00</td>\n",
       "      <td>t</td>\n",
       "    </tr>\n",
       "    <tr>\n",
       "      <th>31</th>\n",
       "      <td>21536272</td>\n",
       "      <td>210</td>\n",
       "      <td>2020-07-09 21:44:38.253979+00</td>\n",
       "      <td>t</td>\n",
       "    </tr>\n",
       "    <tr>\n",
       "      <th>33</th>\n",
       "      <td>7761920</td>\n",
       "      <td>1017590</td>\n",
       "      <td>2020-07-09 21:44:38.253979+00</td>\n",
       "      <td>t</td>\n",
       "    </tr>\n",
       "    <tr>\n",
       "      <th>35</th>\n",
       "      <td>8237646</td>\n",
       "      <td>20240</td>\n",
       "      <td>2020-07-09 21:44:38.253979+00</td>\n",
       "      <td>t</td>\n",
       "    </tr>\n",
       "    <tr>\n",
       "      <th>37</th>\n",
       "      <td>8788503</td>\n",
       "      <td>237</td>\n",
       "      <td>2020-07-09 21:44:38.253979+00</td>\n",
       "      <td>t</td>\n",
       "    </tr>\n",
       "    <tr>\n",
       "      <th>38</th>\n",
       "      <td>7127171</td>\n",
       "      <td>193</td>\n",
       "      <td>2020-07-09 21:44:38.253979+00</td>\n",
       "      <td>t</td>\n",
       "    </tr>\n",
       "    <tr>\n",
       "      <th>40</th>\n",
       "      <td>9590573</td>\n",
       "      <td>189</td>\n",
       "      <td>2020-07-09 21:44:38.253979+00</td>\n",
       "      <td>t</td>\n",
       "    </tr>\n",
       "    <tr>\n",
       "      <th>42</th>\n",
       "      <td>8801857</td>\n",
       "      <td>195</td>\n",
       "      <td>2020-07-09 21:44:38.253979+00</td>\n",
       "      <td>t</td>\n",
       "    </tr>\n",
       "    <tr>\n",
       "      <th>43</th>\n",
       "      <td>8956033</td>\n",
       "      <td>1015864</td>\n",
       "      <td>2020-07-09 21:44:38.253979+00</td>\n",
       "      <td>t</td>\n",
       "    </tr>\n",
       "    <tr>\n",
       "      <th>47</th>\n",
       "      <td>8929983</td>\n",
       "      <td>197</td>\n",
       "      <td>2020-07-09 21:44:38.253979+00</td>\n",
       "      <td>t</td>\n",
       "    </tr>\n",
       "    <tr>\n",
       "      <th>49</th>\n",
       "      <td>7138520</td>\n",
       "      <td>2189</td>\n",
       "      <td>2020-07-09 21:44:38.253979+00</td>\n",
       "      <td>t</td>\n",
       "    </tr>\n",
       "    <tr>\n",
       "      <th>52</th>\n",
       "      <td>6489651</td>\n",
       "      <td>2019</td>\n",
       "      <td>2020-07-09 21:44:38.253979+00</td>\n",
       "      <td>t</td>\n",
       "    </tr>\n",
       "    <tr>\n",
       "      <th>53</th>\n",
       "      <td>6392685</td>\n",
       "      <td>209</td>\n",
       "      <td>2020-07-09 21:44:38.253979+00</td>\n",
       "      <td>t</td>\n",
       "    </tr>\n",
       "    <tr>\n",
       "      <th>57</th>\n",
       "      <td>85546694</td>\n",
       "      <td>204</td>\n",
       "      <td>2020-07-09 21:44:38.253979+00</td>\n",
       "      <td>t</td>\n",
       "    </tr>\n",
       "    <tr>\n",
       "      <th>61</th>\n",
       "      <td>8026066</td>\n",
       "      <td>18971</td>\n",
       "      <td>2020-07-09 21:44:38.253979+00</td>\n",
       "      <td>t</td>\n",
       "    </tr>\n",
       "    <tr>\n",
       "      <th>62</th>\n",
       "      <td>8009625</td>\n",
       "      <td>191</td>\n",
       "      <td>2020-07-09 21:44:38.253979+00</td>\n",
       "      <td>t</td>\n",
       "    </tr>\n",
       "    <tr>\n",
       "      <th>65</th>\n",
       "      <td>94520160</td>\n",
       "      <td>237</td>\n",
       "      <td>2020-07-09 21:44:38.253979+00</td>\n",
       "      <td>t</td>\n",
       "    </tr>\n",
       "    <tr>\n",
       "      <th>68</th>\n",
       "      <td>8800090</td>\n",
       "      <td>215</td>\n",
       "      <td>2020-07-09 21:44:38.253979+00</td>\n",
       "      <td>t</td>\n",
       "    </tr>\n",
       "    <tr>\n",
       "      <th>69</th>\n",
       "      <td>7799264</td>\n",
       "      <td>198</td>\n",
       "      <td>2020-07-09 21:44:38.253979+00</td>\n",
       "      <td>t</td>\n",
       "    </tr>\n",
       "    <tr>\n",
       "      <th>73</th>\n",
       "      <td>403048030</td>\n",
       "      <td>1578</td>\n",
       "      <td>2020-07-09 21:44:38.253979+00</td>\n",
       "      <td>t</td>\n",
       "    </tr>\n",
       "    <tr>\n",
       "      <th>77</th>\n",
       "      <td>8234629</td>\n",
       "      <td>208</td>\n",
       "      <td>2020-07-09 21:44:38.253979+00</td>\n",
       "      <td>t</td>\n",
       "    </tr>\n",
       "    <tr>\n",
       "      <th>78</th>\n",
       "      <td>136956707</td>\n",
       "      <td>1795</td>\n",
       "      <td>2020-07-09 21:44:38.253979+00</td>\n",
       "      <td>t</td>\n",
       "    </tr>\n",
       "    <tr>\n",
       "      <th>79</th>\n",
       "      <td>21507994</td>\n",
       "      <td>207</td>\n",
       "      <td>2020-07-09 21:44:38.253979+00</td>\n",
       "      <td>t</td>\n",
       "    </tr>\n",
       "    <tr>\n",
       "      <th>83</th>\n",
       "      <td>8120181</td>\n",
       "      <td>4272</td>\n",
       "      <td>2020-07-09 21:44:38.253979+00</td>\n",
       "      <td>t</td>\n",
       "    </tr>\n",
       "    <tr>\n",
       "      <th>84</th>\n",
       "      <td>7801958</td>\n",
       "      <td>212</td>\n",
       "      <td>2020-07-09 21:44:38.253979+00</td>\n",
       "      <td>t</td>\n",
       "    </tr>\n",
       "    <tr>\n",
       "      <th>87</th>\n",
       "      <td>8951689</td>\n",
       "      <td>7019</td>\n",
       "      <td>2020-07-09 21:44:38.253979+00</td>\n",
       "      <td>t</td>\n",
       "    </tr>\n",
       "    <tr>\n",
       "      <th>88</th>\n",
       "      <td>7421765</td>\n",
       "      <td>211</td>\n",
       "      <td>2020-07-09 21:44:38.253979+00</td>\n",
       "      <td>t</td>\n",
       "    </tr>\n",
       "    <tr>\n",
       "      <th>89</th>\n",
       "      <td>8347145</td>\n",
       "      <td>1785</td>\n",
       "      <td>2020-07-09 21:44:38.253979+00</td>\n",
       "      <td>t</td>\n",
       "    </tr>\n",
       "    <tr>\n",
       "      <th>94</th>\n",
       "      <td>7799459</td>\n",
       "      <td>195</td>\n",
       "      <td>2020-07-09 21:44:38.253979+00</td>\n",
       "      <td>t</td>\n",
       "    </tr>\n",
       "    <tr>\n",
       "      <th>95</th>\n",
       "      <td>8471181</td>\n",
       "      <td>1823</td>\n",
       "      <td>2020-07-09 21:44:38.253979+00</td>\n",
       "      <td>t</td>\n",
       "    </tr>\n",
       "    <tr>\n",
       "      <th>96</th>\n",
       "      <td>7548922</td>\n",
       "      <td>5368</td>\n",
       "      <td>2020-07-09 21:44:38.253979+00</td>\n",
       "      <td>t</td>\n",
       "    </tr>\n",
       "    <tr>\n",
       "      <th>97</th>\n",
       "      <td>8263869</td>\n",
       "      <td>207</td>\n",
       "      <td>2020-07-09 21:44:38.253979+00</td>\n",
       "      <td>t</td>\n",
       "    </tr>\n",
       "  </tbody>\n",
       "</table>\n",
       "</div>"
      ],
      "text/plain": [
       "      item_id  category_id                    ods_created is_main\n",
       "2     8126442          215  2020-07-09 21:44:38.253979+00       t\n",
       "5   827213421        45761  2020-07-09 21:44:38.253979+00       t\n",
       "7     6929486        20240  2020-07-09 21:44:38.253979+00       t\n",
       "8     9850992          184  2020-07-09 21:44:38.253979+00       t\n",
       "10    8449676         1580  2020-07-09 21:44:38.253979+00       t\n",
       "11    8124492          193  2020-07-09 21:44:38.253979+00       t\n",
       "16    8499514          187  2020-07-09 21:44:38.253979+00       t\n",
       "18  233204112       917072  2020-07-09 21:44:38.253979+00       t\n",
       "24    9060091          237  2020-07-09 21:44:38.253979+00       t\n",
       "27    9846230         1795  2020-07-09 21:44:38.253979+00       t\n",
       "29    7124873          191  2020-07-09 21:44:38.253979+00       t\n",
       "30    9400740          275  2020-07-09 21:44:38.253979+00       t\n",
       "31   21536272          210  2020-07-09 21:44:38.253979+00       t\n",
       "33    7761920      1017590  2020-07-09 21:44:38.253979+00       t\n",
       "35    8237646        20240  2020-07-09 21:44:38.253979+00       t\n",
       "37    8788503          237  2020-07-09 21:44:38.253979+00       t\n",
       "38    7127171          193  2020-07-09 21:44:38.253979+00       t\n",
       "40    9590573          189  2020-07-09 21:44:38.253979+00       t\n",
       "42    8801857          195  2020-07-09 21:44:38.253979+00       t\n",
       "43    8956033      1015864  2020-07-09 21:44:38.253979+00       t\n",
       "47    8929983          197  2020-07-09 21:44:38.253979+00       t\n",
       "49    7138520         2189  2020-07-09 21:44:38.253979+00       t\n",
       "52    6489651         2019  2020-07-09 21:44:38.253979+00       t\n",
       "53    6392685          209  2020-07-09 21:44:38.253979+00       t\n",
       "57   85546694          204  2020-07-09 21:44:38.253979+00       t\n",
       "61    8026066        18971  2020-07-09 21:44:38.253979+00       t\n",
       "62    8009625          191  2020-07-09 21:44:38.253979+00       t\n",
       "65   94520160          237  2020-07-09 21:44:38.253979+00       t\n",
       "68    8800090          215  2020-07-09 21:44:38.253979+00       t\n",
       "69    7799264          198  2020-07-09 21:44:38.253979+00       t\n",
       "73  403048030         1578  2020-07-09 21:44:38.253979+00       t\n",
       "77    8234629          208  2020-07-09 21:44:38.253979+00       t\n",
       "78  136956707         1795  2020-07-09 21:44:38.253979+00       t\n",
       "79   21507994          207  2020-07-09 21:44:38.253979+00       t\n",
       "83    8120181         4272  2020-07-09 21:44:38.253979+00       t\n",
       "84    7801958          212  2020-07-09 21:44:38.253979+00       t\n",
       "87    8951689         7019  2020-07-09 21:44:38.253979+00       t\n",
       "88    7421765          211  2020-07-09 21:44:38.253979+00       t\n",
       "89    8347145         1785  2020-07-09 21:44:38.253979+00       t\n",
       "94    7799459          195  2020-07-09 21:44:38.253979+00       t\n",
       "95    8471181         1823  2020-07-09 21:44:38.253979+00       t\n",
       "96    7548922         5368  2020-07-09 21:44:38.253979+00       t\n",
       "97    8263869          207  2020-07-09 21:44:38.253979+00       t"
      ]
     },
     "execution_count": 32,
     "metadata": {},
     "output_type": "execute_result"
    }
   ],
   "source": [
    "empData.loc[terms,:]"
   ]
  },
  {
   "cell_type": "code",
   "execution_count": 33,
   "metadata": {},
   "outputs": [
    {
     "data": {
      "text/html": [
       "<div>\n",
       "<style scoped>\n",
       "    .dataframe tbody tr th:only-of-type {\n",
       "        vertical-align: middle;\n",
       "    }\n",
       "\n",
       "    .dataframe tbody tr th {\n",
       "        vertical-align: top;\n",
       "    }\n",
       "\n",
       "    .dataframe thead th {\n",
       "        text-align: right;\n",
       "    }\n",
       "</style>\n",
       "<table border=\"1\" class=\"dataframe\">\n",
       "  <thead>\n",
       "    <tr style=\"text-align: right;\">\n",
       "      <th></th>\n",
       "      <th>item_id</th>\n",
       "      <th>category_id</th>\n",
       "      <th>ods_created</th>\n",
       "      <th>is_main</th>\n",
       "    </tr>\n",
       "  </thead>\n",
       "  <tbody>\n",
       "    <tr>\n",
       "      <th>2</th>\n",
       "      <td>8126442</td>\n",
       "      <td>215</td>\n",
       "      <td>2020-07-09 21:44:38.253979+00</td>\n",
       "      <td>t</td>\n",
       "    </tr>\n",
       "    <tr>\n",
       "      <th>5</th>\n",
       "      <td>827213421</td>\n",
       "      <td>45761</td>\n",
       "      <td>2020-07-09 21:44:38.253979+00</td>\n",
       "      <td>t</td>\n",
       "    </tr>\n",
       "    <tr>\n",
       "      <th>7</th>\n",
       "      <td>6929486</td>\n",
       "      <td>20240</td>\n",
       "      <td>2020-07-09 21:44:38.253979+00</td>\n",
       "      <td>t</td>\n",
       "    </tr>\n",
       "    <tr>\n",
       "      <th>8</th>\n",
       "      <td>9850992</td>\n",
       "      <td>184</td>\n",
       "      <td>2020-07-09 21:44:38.253979+00</td>\n",
       "      <td>t</td>\n",
       "    </tr>\n",
       "    <tr>\n",
       "      <th>10</th>\n",
       "      <td>8449676</td>\n",
       "      <td>1580</td>\n",
       "      <td>2020-07-09 21:44:38.253979+00</td>\n",
       "      <td>t</td>\n",
       "    </tr>\n",
       "  </tbody>\n",
       "</table>\n",
       "</div>"
      ],
      "text/plain": [
       "      item_id  category_id                    ods_created is_main\n",
       "2     8126442          215  2020-07-09 21:44:38.253979+00       t\n",
       "5   827213421        45761  2020-07-09 21:44:38.253979+00       t\n",
       "7     6929486        20240  2020-07-09 21:44:38.253979+00       t\n",
       "8     9850992          184  2020-07-09 21:44:38.253979+00       t\n",
       "10    8449676         1580  2020-07-09 21:44:38.253979+00       t"
      ]
     },
     "execution_count": 33,
     "metadata": {},
     "output_type": "execute_result"
    }
   ],
   "source": [
    "# we can slice it by this\n",
    "(empData.loc[terms,:]).head()"
   ]
  },
  {
   "cell_type": "code",
   "execution_count": 36,
   "metadata": {},
   "outputs": [
    {
     "data": {
      "text/plain": [
       "(100, 4)"
      ]
     },
     "execution_count": 36,
     "metadata": {},
     "output_type": "execute_result"
    }
   ],
   "source": [
    "# shape of the data\n",
    "empData.shape"
   ]
  },
  {
   "cell_type": "code",
   "execution_count": 15,
   "metadata": {},
   "outputs": [
    {
     "data": {
      "text/plain": [
       "MATERIAL_ID       int64\n",
       "NAME_GROUPING    object\n",
       "dtype: object"
      ]
     },
     "execution_count": 15,
     "metadata": {},
     "output_type": "execute_result"
    }
   ],
   "source": [
    "# datatypes\n",
    "empData.dtypes"
   ]
  },
  {
   "cell_type": "code",
   "execution_count": 38,
   "metadata": {},
   "outputs": [
    {
     "data": {
      "text/html": [
       "<div>\n",
       "<style scoped>\n",
       "    .dataframe tbody tr th:only-of-type {\n",
       "        vertical-align: middle;\n",
       "    }\n",
       "\n",
       "    .dataframe tbody tr th {\n",
       "        vertical-align: top;\n",
       "    }\n",
       "\n",
       "    .dataframe thead th {\n",
       "        text-align: right;\n",
       "    }\n",
       "</style>\n",
       "<table border=\"1\" class=\"dataframe\">\n",
       "  <thead>\n",
       "    <tr style=\"text-align: right;\">\n",
       "      <th></th>\n",
       "      <th>item_id</th>\n",
       "      <th>category_id</th>\n",
       "    </tr>\n",
       "  </thead>\n",
       "  <tbody>\n",
       "    <tr>\n",
       "      <th>count</th>\n",
       "      <td>1.000000e+02</td>\n",
       "      <td>1.000000e+02</td>\n",
       "    </tr>\n",
       "    <tr>\n",
       "      <th>mean</th>\n",
       "      <td>6.778797e+07</td>\n",
       "      <td>1.375172e+06</td>\n",
       "    </tr>\n",
       "    <tr>\n",
       "      <th>std</th>\n",
       "      <td>1.473851e+08</td>\n",
       "      <td>3.244076e+06</td>\n",
       "    </tr>\n",
       "    <tr>\n",
       "      <th>min</th>\n",
       "      <td>6.392685e+06</td>\n",
       "      <td>1.210000e+02</td>\n",
       "    </tr>\n",
       "    <tr>\n",
       "      <th>25%</th>\n",
       "      <td>8.111984e+06</td>\n",
       "      <td>2.370000e+02</td>\n",
       "    </tr>\n",
       "    <tr>\n",
       "      <th>50%</th>\n",
       "      <td>8.928048e+06</td>\n",
       "      <td>6.193500e+03</td>\n",
       "    </tr>\n",
       "    <tr>\n",
       "      <th>75%</th>\n",
       "      <td>4.883863e+07</td>\n",
       "      <td>1.048430e+06</td>\n",
       "    </tr>\n",
       "    <tr>\n",
       "      <th>max</th>\n",
       "      <td>8.272134e+08</td>\n",
       "      <td>2.118841e+07</td>\n",
       "    </tr>\n",
       "  </tbody>\n",
       "</table>\n",
       "</div>"
      ],
      "text/plain": [
       "            item_id   category_id\n",
       "count  1.000000e+02  1.000000e+02\n",
       "mean   6.778797e+07  1.375172e+06\n",
       "std    1.473851e+08  3.244076e+06\n",
       "min    6.392685e+06  1.210000e+02\n",
       "25%    8.111984e+06  2.370000e+02\n",
       "50%    8.928048e+06  6.193500e+03\n",
       "75%    4.883863e+07  1.048430e+06\n",
       "max    8.272134e+08  2.118841e+07"
      ]
     },
     "execution_count": 38,
     "metadata": {},
     "output_type": "execute_result"
    }
   ],
   "source": [
    "# basic description\n",
    "empData.describe()"
   ]
  },
  {
   "cell_type": "code",
   "execution_count": 51,
   "metadata": {},
   "outputs": [],
   "source": [
    "from matplotlib import pyplot\n",
    "import matplotlib.pyplot as plt"
   ]
  },
  {
   "cell_type": "code",
   "execution_count": 52,
   "metadata": {},
   "outputs": [
    {
     "data": {
      "text/plain": [
       "<AxesSubplot:>"
      ]
     },
     "execution_count": 52,
     "metadata": {},
     "output_type": "execute_result"
    },
    {
     "data": {
      "image/png": "[encoded data removed]",
      "text/plain": [
       "<Figure size 432x288 with 1 Axes>"
      ]
     },
     "metadata": {
      "needs_background": "light"
     },
     "output_type": "display_data"
    }
   ],
   "source": [
    "# directly from df/series\n",
    "empData['date'].hist()"
   ]
  },
  {
   "cell_type": "code",
   "execution_count": 53,
   "metadata": {},
   "outputs": [
    {
     "data": {
      "image/png": "[encoded data removed]",
      "text/plain": [
       "<Figure size 1440x1440 with 4 Axes>"
      ]
     },
     "metadata": {
      "needs_background": "light"
     },
     "output_type": "display_data"
    }
   ],
   "source": [
    "empData.hist(figsize=(20,20))\n",
    "plt.show()"
   ]
  },
  {
   "cell_type": "code",
   "execution_count": null,
   "metadata": {},
   "outputs": [],
   "source": []
  }
 ],
 "metadata": {
  "kernelspec": {
   "display_name": "Python 3",
   "language": "python",
   "name": "python3"
  },
  "language_info": {
   "codemirror_mode": {
    "name": "ipython",
    "version": 3
   },
   "file_extension": ".py",
   "mimetype": "text/x-python",
   "name": "python",
   "nbconvert_exporter": "python",
   "pygments_lexer": "ipython3",
   "version": "3.7.2"
  }
 },
 "nbformat": 4,
 "nbformat_minor": 4
}
