{
 "cells": [
  {
   "cell_type": "code",
   "execution_count": 14,
   "metadata": {},
   "outputs": [],
   "source": [
    "import csv\n",
    "import numpy as np\n",
    "import pandas as pd"
   ]
  },
  {
   "cell_type": "code",
   "execution_count": 4,
   "metadata": {},
   "outputs": [],
   "source": [
    "def read_table(name):\n",
    "    with open(name, mode='rt', encoding='utf-8') as in_file:\n",
    "        file = pd.read_csv(in_file, delimiter=\",\")\n",
    "    return file"
   ]
  },
  {
   "cell_type": "code",
   "execution_count": 5,
   "metadata": {},
   "outputs": [
    {
     "name": "stderr",
     "output_type": "stream",
     "text": [
      "/mnt/lustre/helios-home/chmelji6/helios_jupyter_virtual_env/lib64/python3.6/site-packages/IPython/core/interactiveshell.py:3254: DtypeWarning: Columns (3) have mixed types.Specify dtype option on import or set low_memory=False.\n",
      "  if (await self.run_code(code, result,  async_=asy)):\n"
     ]
    }
   ],
   "source": [
    "product_views = read_table(\"product_views_cz\")"
   ]
  },
  {
   "cell_type": "code",
   "execution_count": 6,
   "metadata": {},
   "outputs": [],
   "source": [
    "material_attributes = read_table(\"material_attributes_cz\")"
   ]
  },
  {
   "cell_type": "code",
   "execution_count": null,
   "metadata": {},
   "outputs": [],
   "source": [
    "list_category = read_table(\"list_category\")"
   ]
  },
  {
   "cell_type": "code",
   "execution_count": null,
   "metadata": {},
   "outputs": [],
   "source": [
    "item_category = read_table(\"cz_item_category\")"
   ]
  },
  {
   "cell_type": "code",
   "execution_count": null,
   "metadata": {},
   "outputs": [],
   "source": [
    "item = read_table(\"item_cz\")"
   ]
  },
  {
   "cell_type": "markdown",
   "metadata": {},
   "source": [
    "## Filip upgrade"
   ]
  },
  {
   "cell_type": "code",
   "execution_count": 7,
   "metadata": {},
   "outputs": [
    {
     "data": {
      "text/html": [
       "<div>\n",
       "<style scoped>\n",
       "    .dataframe tbody tr th:only-of-type {\n",
       "        vertical-align: middle;\n",
       "    }\n",
       "\n",
       "    .dataframe tbody tr th {\n",
       "        vertical-align: top;\n",
       "    }\n",
       "\n",
       "    .dataframe thead th {\n",
       "        text-align: right;\n",
       "    }\n",
       "</style>\n",
       "<table border=\"1\" class=\"dataframe\">\n",
       "  <thead>\n",
       "    <tr style=\"text-align: right;\">\n",
       "      <th></th>\n",
       "      <th>date</th>\n",
       "      <th>user_id_anon</th>\n",
       "      <th>visit_id_anon</th>\n",
       "      <th>product_id</th>\n",
       "      <th>product_detail_views</th>\n",
       "    </tr>\n",
       "  </thead>\n",
       "  <tbody>\n",
       "    <tr>\n",
       "      <th>0</th>\n",
       "      <td>2018-09-13</td>\n",
       "      <td>24149070</td>\n",
       "      <td>5</td>\n",
       "      <td>1084575</td>\n",
       "      <td>1</td>\n",
       "    </tr>\n",
       "    <tr>\n",
       "      <th>1</th>\n",
       "      <td>2018-10-11</td>\n",
       "      <td>24149070</td>\n",
       "      <td>6</td>\n",
       "      <td>1054500</td>\n",
       "      <td>3</td>\n",
       "    </tr>\n",
       "    <tr>\n",
       "      <th>2</th>\n",
       "      <td>2018-10-11</td>\n",
       "      <td>24149070</td>\n",
       "      <td>7</td>\n",
       "      <td>981583001</td>\n",
       "      <td>2</td>\n",
       "    </tr>\n",
       "    <tr>\n",
       "      <th>3</th>\n",
       "      <td>2018-10-12</td>\n",
       "      <td>24149070</td>\n",
       "      <td>8</td>\n",
       "      <td>1054500</td>\n",
       "      <td>1</td>\n",
       "    </tr>\n",
       "    <tr>\n",
       "      <th>4</th>\n",
       "      <td>2018-10-17</td>\n",
       "      <td>24149070</td>\n",
       "      <td>9</td>\n",
       "      <td>641958</td>\n",
       "      <td>1</td>\n",
       "    </tr>\n",
       "  </tbody>\n",
       "</table>\n",
       "</div>"
      ],
      "text/plain": [
       "         date  user_id_anon  visit_id_anon product_id  product_detail_views\n",
       "0  2018-09-13      24149070              5    1084575                     1\n",
       "1  2018-10-11      24149070              6    1054500                     3\n",
       "2  2018-10-11      24149070              7  981583001                     2\n",
       "3  2018-10-12      24149070              8    1054500                     1\n",
       "4  2018-10-17      24149070              9     641958                     1"
      ]
     },
     "execution_count": 7,
     "metadata": {},
     "output_type": "execute_result"
    }
   ],
   "source": [
    "product_views.head()"
   ]
  },
  {
   "cell_type": "markdown",
   "metadata": {},
   "source": [
    "Nejprve provedu vycisteni datasetu product_views_cz. Budu uvazovat pouze produkty z roku 2020 (filtrace pres sloupec 'date') a odstranim duplikatni zaznamy:"
   ]
  },
  {
   "cell_type": "code",
   "execution_count": 8,
   "metadata": {},
   "outputs": [
    {
     "name": "stdout",
     "output_type": "stream",
     "text": [
      "Date is year-month-day format.\n",
      "Type of the date entries:  <class 'str'>\n",
      "This format is comparable using boolean algebra...thank god for that.\n"
     ]
    }
   ],
   "source": [
    "print(\"Date is year-month-day format.\")\n",
    "print(\"Type of the date entries: \", type(product_views[\"date\"].values[0]))\n",
    "print(\"This format is comparable using boolean algebra...thank god for that.\")"
   ]
  },
  {
   "cell_type": "code",
   "execution_count": 9,
   "metadata": {},
   "outputs": [
    {
     "name": "stdout",
     "output_type": "stream",
     "text": [
      "Take everything from 2020: \n",
      "(111901666, 5)\n"
     ]
    }
   ],
   "source": [
    "print(\"Take everything from 2020: \")\n",
    "product_views_filtered = product_views[product_views[\"date\"]>=\"2020-01-01\"] #>'2019-10-00'\n",
    "print(product_views_filtered.shape)"
   ]
  },
  {
   "cell_type": "code",
   "execution_count": 10,
   "metadata": {},
   "outputs": [
    {
     "name": "stdout",
     "output_type": "stream",
     "text": [
      "Remove duplicates: \n",
      "(111901666, 5)\n"
     ]
    }
   ],
   "source": [
    "print(\"Remove duplicates: \")\n",
    "product_views_filtered = product_views_filtered.drop_duplicates()\n",
    "print(product_views_filtered.shape)"
   ]
  },
  {
   "cell_type": "code",
   "execution_count": 11,
   "metadata": {},
   "outputs": [
    {
     "name": "stdout",
     "output_type": "stream",
     "text": [
      "Remains  26.618686409791014 % of the initial dataset.\n"
     ]
    }
   ],
   "source": [
    "print(\"Remains \", 100*(product_views_filtered.shape[0]/product_views.shape[0]), \"% of the initial dataset.\")"
   ]
  },
  {
   "cell_type": "code",
   "execution_count": 12,
   "metadata": {},
   "outputs": [
    {
     "name": "stdout",
     "output_type": "stream",
     "text": [
      "Improving Filip's code (hopefully right): \n",
      "Time elapse:  11.65884518623352  s.\n"
     ]
    }
   ],
   "source": [
    "import time\n",
    "print(\"Improving Filip's code (hopefully right): \")\n",
    "start = time.time()\n",
    "\n",
    "Table_3 = product_views_filtered[product_views_filtered[\"product_id\"].isin(set(material_attributes[\"MATERIAL_ID\"]))]\n",
    "\n",
    "print(\"Time elapse: \", time.time() - start, \" s.\")"
   ]
  },
  {
   "cell_type": "code",
   "execution_count": 13,
   "metadata": {},
   "outputs": [
    {
     "name": "stdout",
     "output_type": "stream",
     "text": [
      "Remains  60.9924449203464 %.\n",
      "Table_3 shape:  (68251562, 5)\n"
     ]
    }
   ],
   "source": [
    "print(\"Remains \", 100*(Table_3.shape[0]/product_views_filtered.shape[0]), \"%.\")\n",
    "print(\"Table_3 shape: \", Table_3.shape)"
   ]
  },
  {
   "cell_type": "code",
   "execution_count": null,
   "metadata": {},
   "outputs": [],
   "source": []
  }
 ],
 "metadata": {
  "kernelspec": {
   "display_name": "Python 3",
   "language": "python",
   "name": "python3"
  },
  "language_info": {
   "codemirror_mode": {
    "name": "ipython",
    "version": 3
   },
   "file_extension": ".py",
   "mimetype": "text/x-python",
   "name": "python",
   "nbconvert_exporter": "python",
   "pygments_lexer": "ipython3",
   "version": "3.6.6"
  }
 },
 "nbformat": 4,
 "nbformat_minor": 4
}
