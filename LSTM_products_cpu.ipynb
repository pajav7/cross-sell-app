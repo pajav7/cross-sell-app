{
 "cells": [
  {
   "cell_type": "code",
   "execution_count": 2,
   "metadata": {},
   "outputs": [],
   "source": [
    "import tensorflow as tf\n",
    "tf.__version__\n",
    "from tensorflow import keras"
   ]
  },
  {
   "cell_type": "code",
   "execution_count": 3,
   "metadata": {},
   "outputs": [],
   "source": [
    "tf.debugging.set_log_device_placement(False)"
   ]
  },
  {
   "cell_type": "code",
   "execution_count": 6,
   "metadata": {},
   "outputs": [],
   "source": [
    "import numpy as np\n",
    "import pandas as pd\n",
    "from tqdm import tqdm\n",
    "from sklearn.model_selection import train_test_split\n",
    "from sklearn.preprocessing import LabelEncoder\n",
    "from gensim.models import Word2Vec\n",
    "from time import time\n",
    "\n",
    "from tensorflow.keras.models import Sequential\n",
    "from tensorflow.keras.layers import LSTM, Dense, Dropout, Masking, Embedding\n",
    "from tensorflow.keras.callbacks import EarlyStopping, ModelCheckpoint"
   ]
  },
  {
   "cell_type": "code",
   "execution_count": 46,
   "metadata": {},
   "outputs": [],
   "source": [
    "data = pd.read_csv(\"product_views_unified.csv\")\n",
    "data = data.drop_duplicates()\n",
    "print(data.shape)\n",
    "\n",
    "# grouping the data by user into an UNORDERED list (poradi ve kterem se dival na veci zanedbame)\n",
    "# astype string because otherwise word2vec doesn't work\n",
    "\n",
    "\n",
    "data_grouped = data.astype(str).groupby(\"user_id_anon\")[\"product_id\"].apply(list)\n",
    "\n",
    "data_word_counts = data.astype(str).groupby(\"user_id_anon\")[\"product_id\"].apply(len)\n",
    "\n",
    "data_word_counts.describe()"
   ]
  },
  {
   "cell_type": "code",
   "execution_count": 93,
   "metadata": {},
   "outputs": [],
   "source": [
    "#import pickle\n",
    "#data_grouped = pickle.load( open( \"data_grouped_30.p\", \"rb\" ) )"
   ]
  },
  {
   "cell_type": "code",
   "execution_count": 94,
   "metadata": {},
   "outputs": [
    {
     "name": "stdout",
     "output_type": "stream",
     "text": [
      "Time to build vocab: 0.56 mins\n"
     ]
    }
   ],
   "source": [
    " # get the embedding matrix from word2vec:\n",
    "size = 200 # 200\n",
    "\n",
    "w2v_model = Word2Vec(min_count=20, # 1 retains all the words. different value needs some tweaking the network afterwards!!! 10 zni ok...50?\n",
    "                     window=2,\n",
    "                     size=size,\n",
    "                     sample=6e-5, \n",
    "                     alpha=0.03, \n",
    "                     min_alpha=0.0007, \n",
    "                     negative=20,\n",
    "                     workers=4)\n",
    "\n",
    "t = time()\n",
    "w2v_model.build_vocab(data_grouped.to_numpy(), progress_per=1000000) # \n",
    "print('Time to build vocab: {} mins'.format(round((time() - t) / 60, 2)))"
   ]
  },
  {
   "cell_type": "code",
   "execution_count": 95,
   "metadata": {},
   "outputs": [],
   "source": [
    "# get the vocabulary\n",
    "vocab = dict([(k, v.index) for k, v in w2v_model.wv.vocab.items()])"
   ]
  },
  {
   "cell_type": "code",
   "execution_count": 96,
   "metadata": {},
   "outputs": [
    {
     "name": "stderr",
     "output_type": "stream",
     "text": [
      "100%|██████████| 254764/254764 [00:06<00:00, 36751.88it/s]\n"
     ]
    }
   ],
   "source": [
    "# embed the products using the vocabulary\n",
    "dummy = list(vocab.keys())\n",
    "lst = []\n",
    "for seq in tqdm(data_grouped):\n",
    "    kek = []\n",
    "    for product in seq:\n",
    "        try:\n",
    "            kek.append(vocab[product])\n",
    "            #kek.append(product)\n",
    "            \n",
    "        except KeyError:\n",
    "            pass\n",
    "    lst.append(kek)\n",
    "            \n",
    "data_grouped_embedded = np.array(lst)"
   ]
  },
  {
   "cell_type": "code",
   "execution_count": 97,
   "metadata": {},
   "outputs": [
    {
     "name": "stderr",
     "output_type": "stream",
     "text": [
      "100%|██████████| 254764/254764 [00:21<00:00, 11991.26it/s]\n"
     ]
    }
   ],
   "source": [
    "# we use the same train data and label generation as in the guide:\n",
    "# create sequences of words of fixed length and the next word in the sequence is the label, example:\n",
    "#[1 2 3 4 5] [6]\n",
    "#[2 3 4 5 6] [7]\n",
    "\n",
    "features = []\n",
    "labels = []\n",
    "\n",
    "training_length = 10 # 5 ok, 10 lepsi\n",
    "\n",
    "# Iterate through the sequences of tokens\n",
    "for seq in tqdm(data_grouped_embedded):\n",
    "\n",
    "    # Create multiple training examples from each sequence\n",
    "    for i in range(training_length, len(seq)):\n",
    "        \n",
    "        # Extract the features and label\n",
    "        extract = seq[i - training_length:i + 1]\n",
    "\n",
    "        # Set the features and label\n",
    "        features.append(extract[:-1]) # train vector, tj. X\n",
    "        labels.append(extract[-1]) # label, tj. y \n",
    "        \n",
    "features = np.array(features)"
   ]
  },
  {
   "cell_type": "code",
   "execution_count": 98,
   "metadata": {},
   "outputs": [],
   "source": [
    "# label encoding labelu neni treba diky word2vec vocabulary embeddedingu. \n",
    "# ted uz jen one hot encodnout labels\n",
    "\n",
    "#from sklearn.preprocessing import LabelEncoder\n",
    "from sklearn.preprocessing import OneHotEncoder\n",
    "\n",
    "#le = LabelEncoder()\n",
    "\n",
    "#label_labels = le.fit_transform(np.array(labels, dtype=np.int32))\n",
    "\n",
    "ohe = OneHotEncoder()\n",
    "\n",
    "\n",
    "\n",
    "#####ohe_labels = ohe.fit_transform(np.array(labels).reshape(-1,1))"
   ]
  },
  {
   "cell_type": "code",
   "execution_count": 99,
   "metadata": {},
   "outputs": [],
   "source": [
    "vocab_list = list(vocab.values())"
   ]
  },
  {
   "cell_type": "code",
   "execution_count": 100,
   "metadata": {},
   "outputs": [],
   "source": [
    "dummy = labels + vocab_list"
   ]
  },
  {
   "cell_type": "code",
   "execution_count": 101,
   "metadata": {},
   "outputs": [],
   "source": [
    "ohe_all = ohe.fit_transform(np.array(dummy).reshape(-1,1))"
   ]
  },
  {
   "cell_type": "code",
   "execution_count": 102,
   "metadata": {},
   "outputs": [],
   "source": [
    "ohe_labels = ohe_all[:len(labels),:]"
   ]
  },
  {
   "cell_type": "code",
   "execution_count": 103,
   "metadata": {},
   "outputs": [
    {
     "data": {
      "text/plain": [
       "scipy.sparse.csr.csr_matrix"
      ]
     },
     "execution_count": 103,
     "metadata": {},
     "output_type": "execute_result"
    }
   ],
   "source": [
    "type(ohe_labels)"
   ]
  },
  {
   "cell_type": "code",
   "execution_count": 104,
   "metadata": {},
   "outputs": [],
   "source": [
    "X_train, X_valid, y_train, y_valid = train_test_split(\n",
    "    features, ohe_labels, test_size=0.2, random_state=42)"
   ]
  },
  {
   "cell_type": "code",
   "execution_count": 105,
   "metadata": {},
   "outputs": [
    {
     "name": "stdout",
     "output_type": "stream",
     "text": [
      "INFO:tensorflow:Using MirroredStrategy with devices ('/job:localhost/replica:0/task:0/device:GPU:0', '/job:localhost/replica:0/task:0/device:GPU:1', '/job:localhost/replica:0/task:0/device:GPU:2', '/job:localhost/replica:0/task:0/device:GPU:3')\n"
     ]
    },
    {
     "name": "stderr",
     "output_type": "stream",
     "text": [
      "INFO:tensorflow:Using MirroredStrategy with devices ('/job:localhost/replica:0/task:0/device:GPU:0', '/job:localhost/replica:0/task:0/device:GPU:1', '/job:localhost/replica:0/task:0/device:GPU:2', '/job:localhost/replica:0/task:0/device:GPU:3')\n"
     ]
    },
    {
     "name": "stdout",
     "output_type": "stream",
     "text": [
      "Number of devices: 4\n",
      "weights shape:  (122644, 200)\n",
      "Model: \"sequential\"\n",
      "_________________________________________________________________\n",
      "Layer (type)                 Output Shape              Param #   \n",
      "=================================================================\n",
      "embedding (Embedding)        (None, 20, 200)           24528800  \n",
      "_________________________________________________________________\n",
      "masking (Masking)            (None, 20, 200)           0         \n",
      "_________________________________________________________________\n",
      "lstm (LSTM)                  (None, 16)                13888     \n",
      "_________________________________________________________________\n",
      "dropout (Dropout)            (None, 16)                0         \n",
      "_________________________________________________________________\n",
      "dense (Dense)                (None, 122644)            2084948   \n",
      "=================================================================\n",
      "Total params: 26,627,636\n",
      "Trainable params: 2,098,836\n",
      "Non-trainable params: 24,528,800\n",
      "_________________________________________________________________\n"
     ]
    }
   ],
   "source": [
    "tf.keras.backend.clear_session()\n",
    "\n",
    "tf.config.set_soft_device_placement(False) # False lepsi\n",
    "\n",
    "\n",
    "\n",
    "model = Sequential()\n",
    "# weight matrix z word2vec pred training w2v modelu\n",
    "weights = w2v_model.wv.vectors\n",
    "print(\"weights shape: \", w2v_model.wv.vectors.shape)\n",
    "\n",
    "#model.add(\n",
    "#    tf.keras.layers.Input(\n",
    "#            shape=[5,], batch_size=None,\n",
    "#    )\n",
    "#)\n",
    "\n",
    "# Embedding layer\n",
    "model.add(\n",
    "    Embedding(input_dim=weights.shape[0],\n",
    "              input_length=training_length,\n",
    "              output_dim=weights.shape[1], \n",
    "              weights=[weights],\n",
    "              trainable=False,\n",
    "              mask_zero=True,\n",
    "    )\n",
    ")\n",
    "\n",
    "# Masking layer for pre-trained embeddings\n",
    "model.add(\n",
    "    Masking(mask_value=0.0)\n",
    ")\n",
    "\n",
    "# Recurrent layer\n",
    "\n",
    "\n",
    "model.add(\n",
    "    LSTM(\n",
    "        16,batch_input_shape=[None, training_length],\n",
    "        return_sequences=False,\n",
    "        dropout=0.1, \n",
    "        recurrent_dropout=0, # 0 misto 0.1 brutalne zrychluje protoze muzeme pouzivat non-generic gpu kernel\n",
    "        stateful=False,\n",
    "    )\n",
    ")\n",
    "\n",
    "# Fully connected layer\n",
    "#model.add(\n",
    "#    Dense(16, activation='relu') # ubereme tuhle vrstvu...treba bude lepsi?\n",
    "#)\n",
    "\n",
    "# Dropout for regularization\n",
    "model.add(\n",
    "    Dropout(0.5)\n",
    ")\n",
    "\n",
    "# Output layer\n",
    "model.add(\n",
    "    Dense(len(vocab), activation='softmax')\n",
    ")\n",
    "\n",
    "\n",
    "# Create callbacks\n",
    "callbacks = [\n",
    "    EarlyStopping(monitor='val_loss', patience=5), # val_loss 5\n",
    "    ModelCheckpoint('LSTM.h5', save_best_only=True, save_weights_only=False)\n",
    "]\n",
    "\n",
    "    # Compile the model\n",
    "model.compile(\n",
    "    optimizer=tf.keras.optimizers.Adam(learning_rate=0.0001, beta_1=0.9, beta_2=0.999, epsilon=1e-07, amsgrad=False, name='Adam'),\n",
    "# ruzne optimizery, adam nejlepsi zatim s velkou learning rate 0.01...chova se hodne divne\n",
    "#'adam',\n",
    "#tf.keras.optimizers.Adagrad(learning_rate=0.1, initial_accumulator_value=0.1, epsilon=1e-07,name='Adagrad'),\n",
    "#tf.keras.optimizers.Adam(learning_rate=0.01, beta_1=0.9, beta_2=0.999, epsilon=1e-07, amsgrad=False, name='Adam'),\n",
    "#tf.keras.optimizers.SGD(learning_rate=0.05, momentum=0.0, nesterov=False, name='SGD'),\n",
    "\n",
    "    loss=tf.keras.losses.sparse_categorical_crossentropy,#'sparse_categorical_crossentropy', #  'categorical_crossentropy'\n",
    "    metrics=['sparse_categorical_accuracy'] # 'accuracy'\n",
    ")\n",
    "\n",
    "    #model._make_predict_function()\n",
    "    #model._make_test_function()\n",
    "    #model._make_train_function()\n",
    "\n",
    "model.summary()"
   ]
  },
  {
   "cell_type": "code",
   "execution_count": null,
   "metadata": {},
   "outputs": [
    {
     "name": "stdout",
     "output_type": "stream",
     "text": [
      "Epoch 1/200\n",
      "WARNING:tensorflow:AutoGraph could not transform <function Model.make_train_function.<locals>.train_function at 0x7f1d2236b6a8> and will run it as-is.\n",
      "Please report this to the TensorFlow team. When filing the bug, set the verbosity to 10 (on Linux, `export AUTOGRAPH_VERBOSITY=10`) and attach the full output.\n",
      "Cause: 'arguments' object has no attribute 'posonlyargs'\n",
      "To silence this warning, decorate the function with @tf.autograph.experimental.do_not_convert\n"
     ]
    },
    {
     "name": "stderr",
     "output_type": "stream",
     "text": [
      "WARNING:tensorflow:AutoGraph could not transform <function Model.make_train_function.<locals>.train_function at 0x7f1d2236b6a8> and will run it as-is.\n",
      "Please report this to the TensorFlow team. When filing the bug, set the verbosity to 10 (on Linux, `export AUTOGRAPH_VERBOSITY=10`) and attach the full output.\n",
      "Cause: 'arguments' object has no attribute 'posonlyargs'\n",
      "To silence this warning, decorate the function with @tf.autograph.experimental.do_not_convert\n"
     ]
    },
    {
     "name": "stdout",
     "output_type": "stream",
     "text": [
      "WARNING: AutoGraph could not transform <function Model.make_train_function.<locals>.train_function at 0x7f1d2236b6a8> and will run it as-is.\n",
      "Please report this to the TensorFlow team. When filing the bug, set the verbosity to 10 (on Linux, `export AUTOGRAPH_VERBOSITY=10`) and attach the full output.\n",
      "Cause: 'arguments' object has no attribute 'posonlyargs'\n",
      "To silence this warning, decorate the function with @tf.autograph.experimental.do_not_convert\n",
      "342/342 [==============================] - ETA: 0s - loss: 11.6759 - sparse_categorical_accuracy: 8.4004e-04WARNING:tensorflow:AutoGraph could not transform <function Model.make_test_function.<locals>.test_function at 0x7f1cfd6fcae8> and will run it as-is.\n",
      "Please report this to the TensorFlow team. When filing the bug, set the verbosity to 10 (on Linux, `export AUTOGRAPH_VERBOSITY=10`) and attach the full output.\n",
      "Cause: 'arguments' object has no attribute 'posonlyargs'\n",
      "To silence this warning, decorate the function with @tf.autograph.experimental.do_not_convert\n"
     ]
    },
    {
     "name": "stderr",
     "output_type": "stream",
     "text": [
      "WARNING:tensorflow:AutoGraph could not transform <function Model.make_test_function.<locals>.test_function at 0x7f1cfd6fcae8> and will run it as-is.\n",
      "Please report this to the TensorFlow team. When filing the bug, set the verbosity to 10 (on Linux, `export AUTOGRAPH_VERBOSITY=10`) and attach the full output.\n",
      "Cause: 'arguments' object has no attribute 'posonlyargs'\n",
      "To silence this warning, decorate the function with @tf.autograph.experimental.do_not_convert\n"
     ]
    },
    {
     "name": "stdout",
     "output_type": "stream",
     "text": [
      "WARNING: AutoGraph could not transform <function Model.make_test_function.<locals>.test_function at 0x7f1cfd6fcae8> and will run it as-is.\n",
      "Please report this to the TensorFlow team. When filing the bug, set the verbosity to 10 (on Linux, `export AUTOGRAPH_VERBOSITY=10`) and attach the full output.\n",
      "Cause: 'arguments' object has no attribute 'posonlyargs'\n",
      "To silence this warning, decorate the function with @tf.autograph.experimental.do_not_convert\n"
     ]
    }
   ],
   "source": [
    "#GLOBAL_BATCH_SIZE = 4096\n",
    "EPOCHS = 200\n",
    "# tf.data.Dataset struktury pro rychle zpracovani dat\n",
    "dataset = tf.data.Dataset.from_tensor_slices((X_train.astype(np.int32), np.asarray(y_train.astype(np.bool).tocoo().col).reshape(-1,1))) # added reshape(-1,1) for sparse_categorial_crossentropy .reshape(-1,training_length,1)\n",
    "dataset = dataset.shuffle(buffer_size=len(X_train))\n",
    "dataset = dataset.repeat()\n",
    "dataset = dataset.batch(GLOBAL_BATCH_SIZE, drop_remainder=False)\n",
    "dataset = dataset.prefetch(tf.data.experimental.AUTOTUNE) # \n",
    "\n",
    "valid_dataset = tf.data.Dataset.from_tensor_slices((X_valid.astype(np.int32), np.asarray(y_valid.astype(np.bool).tocoo().col).reshape(-1,1))) # .reshape(-1,training_length,1)\n",
    "valid_dataset = valid_dataset.shuffle(buffer_size=len(X_valid))\n",
    "valid_dataset = valid_dataset.repeat()\n",
    "valid_dataset = valid_dataset.batch(GLOBAL_BATCH_SIZE, drop_remainder=False)\n",
    "valid_dataset = valid_dataset.prefetch(tf.data.experimental.AUTOTUNE) # \n",
    "# fit, potom pouzit historii k vyploteni chovani velicin behem epoch\n",
    "history = model.fit(\n",
    "    dataset,\n",
    "    steps_per_epoch=int(X_train.shape[0] / GLOBAL_BATCH_SIZE) + 1,\n",
    "    epochs=EPOCHS, \n",
    "    callbacks=callbacks,\n",
    "    verbose=1,\n",
    "    validation_data=valid_dataset,\n",
    "    validation_steps=int(X_valid.shape[0] / GLOBAL_BATCH_SIZE) + 1,\n",
    ")"
   ]
  },
  {
   "cell_type": "code",
   "execution_count": 78,
   "metadata": {},
   "outputs": [],
   "source": [
    "import matplotlib.pyplot as plt"
   ]
  },
  {
   "cell_type": "code",
   "execution_count": 89,
   "metadata": {},
   "outputs": [
    {
     "data": {
      "image/png": "[encoded data removed]",
      "text/plain": [
       "<Figure size 432x288 with 1 Axes>"
      ]
     },
     "metadata": {
      "needs_background": "light"
     },
     "output_type": "display_data"
    }
   ],
   "source": [
    "plt.figure()\n",
    "plt.plot(history.history['sparse_categorical_accuracy'])\n",
    "plt.plot(history.history['val_sparse_categorical_accuracy'])\n",
    "#plt.title('Model accuracy - '+file_name+' (max '+str(max_val_acc)+')')\n",
    "plt.ylabel('sparse_categorical_accuracy')\n",
    "plt.xlabel('epoch')\n",
    "plt.legend(['train', 'val'], loc='upper left')\n",
    "#plt.savefig(file_name+'_acc.eps', format = 'eps')\n",
    "plt.show()"
   ]
  },
  {
   "cell_type": "code",
   "execution_count": 90,
   "metadata": {},
   "outputs": [
    {
     "data": {
      "image/png": "[encoded data removed]",
      "text/plain": [
       "<Figure size 432x288 with 1 Axes>"
      ]
     },
     "metadata": {
      "needs_background": "light"
     },
     "output_type": "display_data"
    }
   ],
   "source": [
    "plt.figure()\n",
    "plt.plot(history.history['loss'])\n",
    "plt.plot(history.history['val_loss'])\n",
    "#plt.title('Model accuracy - '+file_name+' (max '+str(max_val_acc)+')')\n",
    "plt.ylabel('loss')\n",
    "plt.xlabel('epoch')\n",
    "plt.legend(['train', 'val'], loc='upper left')\n",
    "#plt.savefig(file_name+'_acc.eps', format = 'eps')\n",
    "plt.show()"
   ]
  },
  {
   "cell_type": "code",
   "execution_count": 185,
   "metadata": {},
   "outputs": [
    {
     "name": "stdout",
     "output_type": "stream",
     "text": [
      "116/116 [==============================] - 16s 137ms/step - loss: 10.4881 - sparse_categorical_accuracy: 0.0030\n"
     ]
    },
    {
     "data": {
      "text/plain": [
       "[10.488059997558594, 0.003049127059057355]"
      ]
     },
     "execution_count": 185,
     "metadata": {},
     "output_type": "execute_result"
    }
   ],
   "source": [
    "# load in model and evalueate on validation data\n",
    "#model = tf.keras.load_model('LSTM.h5')\n",
    "model.evaluate(X_valid, np.asarray(y_valid.astype(np.bool).tocoo().col))"
   ]
  },
  {
   "cell_type": "code",
   "execution_count": null,
   "metadata": {},
   "outputs": [],
   "source": []
  }
 ],
 "metadata": {
  "kernelspec": {
   "display_name": "Python 3",
   "language": "python",
   "name": "python3"
  },
  "language_info": {
   "codemirror_mode": {
    "name": "ipython",
    "version": 3
   },
   "file_extension": ".py",
   "mimetype": "text/x-python",
   "name": "python",
   "nbconvert_exporter": "python",
   "pygments_lexer": "ipython3",
   "version": "3.6.6"
  }
 },
 "nbformat": 4,
 "nbformat_minor": 4
}
