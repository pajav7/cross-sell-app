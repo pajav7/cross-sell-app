{
 "cells": [
  {
   "cell_type": "code",
   "execution_count": null,
   "metadata": {},
   "outputs": [],
   "source": [
    "import pandas as pd\n",
    "from progressbar import ProgressBar\n",
    "import csv\n",
    "from time import time  # To time our operations\n",
    "material_attributes_cz = pd.read_csv(\"Data/material_attributes_cz\")"
   ]
  },
  {
   "cell_type": "code",
   "execution_count": 167,
   "metadata": {},
   "outputs": [
    {
     "name": "stdout",
     "output_type": "stream",
     "text": [
      "277376\n",
      "   MATERIAL_ID                                  NAME_GROUPING\n",
      "0      1061907           DAFI pH+ Classic náhradní filtr 1 ks\n",
      "1       741319         LEGO Classic 10698 Velký kreativní box\n",
      "2      1039111                                GUZZANTI GZ 901\n",
      "3      1106737  Panasonic AAA 3ks 750 mAh ENELOOP (4MCCE/3BE)\n",
      "4      1243225       Yenkee YMC 1020, šedý/černý (YMC 1020GY)\n",
      "(277376, 2)\n"
     ]
    }
   ],
   "source": [
    "print(len(material_attributes_cz))\n",
    "# print(material_attributes_cz.head())\n",
    "# print(material_attributes_cz.shape)"
   ]
  },
  {
   "cell_type": "code",
   "execution_count": 168,
   "metadata": {},
   "outputs": [
    {
     "name": "stdout",
     "output_type": "stream",
     "text": [
      "   MATERIAL_ID                                  NAME_GROUPING\n",
      "0      1061907           DAFI pH+ Classic náhradní filtr 1 ks\n",
      "1       741319         LEGO Classic 10698 Velký kreativní box\n",
      "2      1039111                                GUZZANTI GZ 901\n",
      "3      1106737  Panasonic AAA 3ks 750 mAh ENELOOP (4MCCE/3BE)\n",
      "4      1243225       Yenkee YMC 1020, šedý/černý (YMC 1020GY)\n",
      "(277334, 2)\n"
     ]
    }
   ],
   "source": [
    "#deletes duplicates in the set\n",
    "material_attributes_cz_no_duplicates = material_attributes_cz.drop_duplicates()\n",
    "print(material_attributes_cz_no_duplicates.head())\n",
    "print(material_attributes_cz_no_duplicates.shape)"
   ]
  },
  {
   "cell_type": "code",
   "execution_count": 169,
   "metadata": {},
   "outputs": [
    {
     "name": "stdout",
     "output_type": "stream",
     "text": [
      "         MATERIAL_ID                                      NAME_GROUPING\n",
      "0            1061907               dafi ph+ classic náhradní filtr 1 ks\n",
      "1             741319             lego classic 10698 velký kreativní box\n",
      "2            1039111                                    guzzanti gz 901\n",
      "3            1106737        panasonic aaa 3ks 750 mah eneloop 4mcce 3be\n",
      "4            1243225              yenkee ymc 1020 šedý černý ymc 1020gy\n",
      "...              ...                                                ...\n",
      "277371       1468082                         beko rcsa366k30w - použité\n",
      "277372    1418429009               pidilidi dívčí zimní bunda pd1056-01\n",
      "277373  100013238433  sixtol silikonový kryt pro apple iphone 7 plus...\n",
      "277374    1430374002                              nini chlapecký overal\n",
      "277375  100010098927  roxy dámská bunda shadow of time turbulence er...\n",
      "\n",
      "[277334 rows x 2 columns]\n"
     ]
    },
    {
     "name": "stderr",
     "output_type": "stream",
     "text": [
      "c:\\users\\pajav\\source\\repos\\lecture4\\lib\\site-packages\\pandas\\core\\indexing.py:1745: SettingWithCopyWarning: \n",
      "A value is trying to be set on a copy of a slice from a DataFrame.\n",
      "Try using .loc[row_indexer,col_indexer] = value instead\n",
      "\n",
      "See the caveats in the documentation: https://pandas.pydata.org/pandas-docs/stable/user_guide/indexing.html#returning-a-view-versus-a-copy\n",
      "  isetter(ilocs[0], value)\n"
     ]
    }
   ],
   "source": [
    "#All characters to lowercase\n",
    "#deletes characters: \"&\" \",\" \".\" \"(\" \")\" \"/\" or two spaces\n",
    "material_attributes_cz_no_duplicates.loc[:,\"NAME_GROUPING\"] = material_attributes_cz_no_duplicates.NAME_GROUPING.str.casefold().str.replace('&','').str.replace(',','').str.replace('(','').str.replace(')','').str.replace('.','').str.replace('/',' ').str.replace('  ',' ') \n",
    "print(material_attributes_cz_no_duplicates)"
   ]
  },
  {
   "cell_type": "code",
   "execution_count": 4,
   "metadata": {},
   "outputs": [
    {
     "name": "stdout",
     "output_type": "stream",
     "text": [
      "Time to filter: 0.0 mins \n"
     ]
    }
   ],
   "source": [
    "t = time()\n",
    "pbar = ProgressBar()\n",
    "\n",
    "def removeQuantityColor(setOfNames): #filtr of properties of product - quantity and color\n",
    "    colorsCZ = [\"červen\", \"čern\", \"bíl\", \"žlut\", \"zelen\", \"modr\", \"růžov\", \"hněd\", \"béžov\", \"tyrkysov\", \"oranžov\", \"šed\", \"celooranžov\", \"barv\", \"zlat\", \"střibrn\", \" vel \"]\n",
    "    colorsEN = [\"red\", \"black\", \"white\", \"yellow\", \"green\", \"blue\", \"pink\", \"brown\", \"beige\", \"turquoise\", \"orange\", \"grey\", \"gold\", \"silver\", \"navy\"]\n",
    "    for j in pbar(setOfNames[\"NAME_GROUPING\"]): \n",
    "        i = j\n",
    "        if len(i) >0 and i[0] == \" \":\n",
    "            i = i[1:]\n",
    "        for String in [\"ks\", \"mm\", \"mah\", \"cm\", \"let\", \"ml\", \"w\", \"gb\", \"mb\", \"oz\", \"l\", \"m\", \"a\", \"kg\", \"g\", \"lb\", \"t\", \"ghz\", \"hz\", \"tbl\", \"měs\"]:\n",
    "            for string in [\" \" + String, String]:\n",
    "                index = i.find(string) #find first occurence of string in i\n",
    "                while index != -1:\n",
    "                    if (index != 0 and ord(i[index-1]) >= 48 and ord(i[index-1]) < 58 and #check if previous char is a number\n",
    "                        ((index + len(string) < len(i) and i[index + len(string)] == ' ') or\n",
    "                          index + len(string) == len(i))):\n",
    "#                         print(\"REMOVE \" + string)\n",
    "#                         print(i)\n",
    "                        i = i[:index]+i[index+len(string):] #slices found string from i\n",
    "                        while index > 0 and ((ord(i[index-1]) >= 48 and ord(i[index-1]) < 58) or #deleting every number before\n",
    "                                i[index-1] == \"-\" or #or characters: -,x,+,times or variants with spaces (before or after)\n",
    "                                i[index-1] == \"x\" or\n",
    "                                i[index-1] == '+' or\n",
    "                                ord(i[index-1]) == 158 or\n",
    "                                (index >1 and (i[index-2:index] == 'x ' or #one space before character of after\n",
    "                                                i[index-2:index] == ' x' or\n",
    "                                                i[index-2:index] == '- ' or \n",
    "                                                i[index-2:index] == ' -' or\n",
    "                                                i[index-2:index] == '+ ' or \n",
    "                                                i[index-2:index] == ' +' or\n",
    "                                                (i[index-1] == ' ' and ord(i[index-2]) == 158) or\n",
    "                                                (i[index-2] == ' ' and ord(i[index-1]) == 158) or\n",
    "                                                (index > 2 and (i[index-3:index] == ' x ' or #spaces on both sides of character\n",
    "                                                                i[index-3:index] == ' - ' or\n",
    "                                                                i[index-3:index] == ' + ' or \n",
    "                                                               (i[index-1] == ' ' and ord(i[index-2]) == 158 and i[index-3] == ' ')))))):\n",
    "                            if index > 2 and (i[index-3:index] == ' x ' or #slicing of i - spaces on both sides of character\n",
    "                                              i[index-3:index] == ' - ' or\n",
    "                                              i[index-3:index] == ' + ' or\n",
    "                                             (i[index-1] == ' ' and ord(i[index-2]) == 158 and i[index-3] == ' ')):\n",
    "                                i = i[:index-3] + i[index:]\n",
    "                                index = index-3\n",
    "                            elif index > 2 and (ord(i[index-3]) >= 48 and ord(i[index-3]) < 58) and \\\n",
    "                                             (i[index-2:index] == 'x ' or #slicing of i - space on 1 side of character\n",
    "                                              i[index-2:index] == ' x' or\n",
    "                                              i[index-2:index] == '- ' or\n",
    "                                              i[index-2:index] == ' -' or\n",
    "                                              i[index-2:index] == '+ ' or\n",
    "                                              i[index-2:index] == ' +' or\n",
    "                                             (i[index-1] == ' ' and ord(i[index-2]) == 158) or \n",
    "                                             (i[index-2] == ' ' and ord(i[index-1]) == 158)):\n",
    "                                i = i[:index-2] + i[index:]\n",
    "                                index = index-2\n",
    "                            elif index == 1 or (index > 1 and #slicing one character from i\n",
    "                                              (i[index-2:index] != 'x ' and\n",
    "                                               i[index-2:index] != ' x' and\n",
    "                                               i[index-2:index] != '- ' and\n",
    "                                               i[index-2:index] != ' -' and\n",
    "                                               i[index-2:index] != '+ ' and\n",
    "                                               i[index-2:index] != ' +')):\n",
    "                                i = i[:index-1] + i[index:]\n",
    "                                index = index-1\n",
    "                            else:\n",
    "                                break\n",
    "                        if index > 0 and i[index-1] == ' ': #deletes space before quantity\n",
    "                            i = i[:index-1]+i[index:]\n",
    "                        index = i.find(string, index+1)\n",
    "#                         print(i)\n",
    "                    else:\n",
    "                        index = i.find(string, index+1)\n",
    "        for color in colorsCZ + colorsEN: #filtering colors from products\n",
    "            index = i.find(color)\n",
    "            while index != -1:\n",
    "                if (color != \"zelen\") or (i[index:index+7] != \"zelenin\"): \n",
    "                    cz = 0\n",
    "#                     print(\"REMOVE \" + color)\n",
    "#                     print(i)\n",
    "                    if color in colorsCZ:\n",
    "                        cz = 1\n",
    "                    i = i[:index] + i[index+len(color)+cz:] #for czech terms slices +1 character after (sufix)\n",
    "                    if (index >= 3) and (i[index-3:index] == \" - \"): \n",
    "                        i = i[:index-3]+i[index:]\n",
    "                    elif (index > 0) and (i[index-1] == \" \" or i[index-1] == \"-\"):\n",
    "                        i = i[:index-1]+i[index:]\n",
    "                    index = i.find(color)\n",
    "                else:\n",
    "                    index = i.find(color, index+1)\n",
    "        vel = \"velikost\"\n",
    "        index = i.find(vel)\n",
    "        sizes = [\"i\", \"í\", \"x\", \"s\", \"l\", \"m\"]\n",
    "        while index != -1:\n",
    "            i = i[:index] + i[index+len(vel):]\n",
    "            while (len(i)>index) and \\\n",
    "                (i[index] == \" \" or \n",
    "                 i[index] in sizes or\n",
    "                 (ord(i[index]) >= 48 and ord(i[index]) < 58)):\n",
    "                i = i[:index]+i[index+1:]\n",
    "            index = i.find(vel,index+1)\n",
    "        if i[len(i)-1] == \" \":\n",
    "            i = i[:len(i)-1]\n",
    "        setOfNames.loc[setOfNames[\"NAME_GROUPING\"]==j, [\"NAME_GROUPING\"]] = i #rewrites product name in setOfNames\n",
    "#         print(i)\n",
    "    \n",
    "# removeQuantityColor(material_attributes_cz_no_duplicates)\n",
    "\n",
    "print('Time to filter: {} mins '.format(round((time() - t) / 60, 2)))"
   ]
  },
  {
   "cell_type": "code",
   "execution_count": 172,
   "metadata": {},
   "outputs": [
    {
     "name": "stdout",
     "output_type": "stream",
     "text": [
      "         MATERIAL_ID                                      NAME_GROUPING\n",
      "0            1061907                    dafi ph+ classic náhradní filtr\n",
      "1             741319             lego classic 10698 velký kreativní box\n",
      "2            1039111                                    guzzanti gz 901\n",
      "3            1106737                    panasonic aaa eneloop 4mcce 3be\n",
      "4            1243225                         yenkee ymc 1020 ymc 1020gy\n",
      "...              ...                                                ...\n",
      "277371       1468082                            beko rcsa366k - použité\n",
      "277372    1418429009               pidilidi dívčí zimní bunda pd1056-01\n",
      "277373  100013238433     sixtol silikonový kryt pro apple iphone 7 plus\n",
      "277374    1430374002                              nini chlapecký overal\n",
      "277375  100010098927  roxy dámská bunda shadow of time turbulence er...\n",
      "\n",
      "[277334 rows x 2 columns]\n"
     ]
    }
   ],
   "source": [
    "print(material_attributes_cz_no_duplicates)"
   ]
  },
  {
   "cell_type": "code",
   "execution_count": 173,
   "metadata": {},
   "outputs": [
    {
     "name": "stdout",
     "output_type": "stream",
     "text": [
      "NAME_GROUPING\n",
      "                                                                          [100002088446, 100002088752, 100002088995, 100...\n",
      " - cd                                                                                          [100004707004, 100004897631]\n",
      " - deodorant ve spreji                                                                         [100002134354, 100002441901]\n",
      " - dvd                                                                                         [100003529842, 100003529233]\n",
      " - edt                                                                                         [100002319565, 100002096755]\n",
      "                                                                                                ...                        \n",
      "žáček jiří: šansony spol + cd šansony renaty drössler                                                        [100000398162]\n",
      "žáček jiří: život je boj                                                                                     [100000801941]\n",
      "žídkovi eva a petr: lovecké zápisky z československa do západní kanady                                       [100003561318]\n",
      "žúreková štefková naty: kváskování - recepty z kvásku                                                        [100014373537]\n",
      "“frau hölle” cappellová tanja: abeceda krasopsaní                                                            [100003352935]\n",
      "Name: MATERIAL_ID, Length: 204510, dtype: object\n"
     ]
    }
   ],
   "source": [
    "#groups ID of every product with the same name to list of IDs\n",
    "material_attributes_cz_filtered = material_attributes_cz_no_duplicates.groupby('NAME_GROUPING')['MATERIAL_ID'].apply(list)\n",
    "print(material_attributes_cz_filtered)"
   ]
  },
  {
   "cell_type": "code",
   "execution_count": 174,
   "metadata": {},
   "outputs": [
    {
     "name": "stdout",
     "output_type": "stream",
     "text": [
      "NAME_GROUPING\n",
      "lanitplast koleno svodu 67°dn 105                               1\n",
      "oase akvarijní dekorace mořští ježci přírodní                   1\n",
      "oase akvarijní dekorace s lodní kotvou                          1\n",
      "oase akvarijní dekorace skála s barevnými mořskými houbami      1\n",
      "oase akvarijní hadice oxymax 4                                  1\n",
      "                                                             ... \n",
      "bewear dámské šaty                                             94\n",
      "topo dívčí šaty                                               102\n",
      "makadamia dámské šaty                                         110\n",
      "happy girls dívčí šaty                                        113\n",
      "numinou dámské šaty                                           140\n",
      "Length: 204510, dtype: int64\n",
      "277334\n",
      "72824\n",
      "175547\n"
     ]
    }
   ],
   "source": [
    "#information new dataset of lists of IDs\n",
    "length = material_attributes_cz_no_duplicates.groupby('NAME_GROUPING').apply(len)\n",
    "print(length.sort_values())\n",
    "print(sum(length))\n",
    "print(sum(length) - len(length))\n",
    "print(sum(length == 1))"
   ]
  },
  {
   "cell_type": "code",
   "execution_count": 175,
   "metadata": {},
   "outputs": [
    {
     "name": "stdout",
     "output_type": "stream",
     "text": [
      "[100002088446, 100002088752, 100002088995, 100002088959, 100002089523, 100003300853, 100011730944]\n",
      "        MATERIAL_ID NAME_GROUPING\n",
      "46748  100002088446              \n",
      "        MATERIAL_ID NAME_GROUPING\n",
      "46748  100002088446      (100 ks)\n"
     ]
    }
   ],
   "source": [
    "# print(material_attributes_cz_filtered[len(material_attributes_cz_filtered['NAME_GROUPING']) == 0])\n",
    "print(material_attributes_cz_filtered[\"\"])\n",
    "print(material_attributes_cz_no_duplicates[material_attributes_cz_no_duplicates[\"MATERIAL_ID\"]==100002088446])\n",
    "print(material_attributes_cz[material_attributes_cz[\"MATERIAL_ID\"]==100002088446])\n",
    "# print(material_attributes_cz_filtered)"
   ]
  },
  {
   "cell_type": "code",
   "execution_count": 176,
   "metadata": {},
   "outputs": [
    {
     "name": "stdout",
     "output_type": "stream",
     "text": [
      "                                            NAME_GROUPING  \\\n",
      "0                                                           \n",
      "1                                                    - cd   \n",
      "2                                   - deodorant ve spreji   \n",
      "3                                                   - dvd   \n",
      "4                                                   - edt   \n",
      "...                                                   ...   \n",
      "204505  žáček jiří: šansony spol + cd šansony renaty d...   \n",
      "204506                           žáček jiří: život je boj   \n",
      "204507  žídkovi eva a petr: lovecké zápisky z českoslo...   \n",
      "204508  žúreková štefková naty: kváskování - recepty z...   \n",
      "204509  “frau hölle” cappellová tanja: abeceda krasopsaní   \n",
      "\n",
      "                                         LIST_MATERIAL_ID  \n",
      "0       [100002088446, 100002088752, 100002088995, 100...  \n",
      "1                            [100004707004, 100004897631]  \n",
      "2                            [100002134354, 100002441901]  \n",
      "3                            [100003529842, 100003529233]  \n",
      "4                            [100002319565, 100002096755]  \n",
      "...                                                   ...  \n",
      "204505                                     [100000398162]  \n",
      "204506                                     [100000801941]  \n",
      "204507                                     [100003561318]  \n",
      "204508                                     [100014373537]  \n",
      "204509                                     [100003352935]  \n",
      "\n",
      "[204510 rows x 2 columns]\n"
     ]
    }
   ],
   "source": [
    "material_attributes_cz_filtered.to_frame()\n",
    "# material_attributes_cz_filtered.reset_index(name=\"LIST_MATERIAL_ID\")\n",
    "mat_att_cz_filtered = material_attributes_cz_filtered.to_frame()\n",
    "mat_att_cz_filtered = mat_att_cz_filtered.reset_index()\n",
    "mat_att_cz_filtered.columns = [\"NAME_GROUPING\",\"LIST_MATERIAL_ID\"]\n",
    "# mat_att_cz_filtered.reset_index()\n",
    "print(mat_att_cz_filtered)"
   ]
  },
  {
   "cell_type": "code",
   "execution_count": 2,
   "metadata": {},
   "outputs": [
    {
     "ename": "NameError",
     "evalue": "name 'mat_att_cz_filtered' is not defined",
     "output_type": "error",
     "traceback": [
      "\u001b[1;31m---------------------------------------------------------------------------\u001b[0m",
      "\u001b[1;31mNameError\u001b[0m                                 Traceback (most recent call last)",
      "\u001b[1;32m<ipython-input-2-68c392787cfe>\u001b[0m in \u001b[0;36m<module>\u001b[1;34m\u001b[0m\n\u001b[0;32m      1\u001b[0m \u001b[1;31m# material_attributes_cz_filtered[material_attributes_cz_filtered[\"LIST_MATERIAL_ID\"] == [100000398162]]\u001b[0m\u001b[1;33m\u001b[0m\u001b[1;33m\u001b[0m\u001b[1;33m\u001b[0m\u001b[0m\n\u001b[1;32m----> 2\u001b[1;33m \u001b[0mprint\u001b[0m\u001b[1;33m(\u001b[0m\u001b[0mmat_att_cz_filtered\u001b[0m\u001b[1;33m.\u001b[0m\u001b[0mloc\u001b[0m\u001b[1;33m[\u001b[0m\u001b[0mlen\u001b[0m\u001b[1;33m(\u001b[0m\u001b[0mmat_att_cz_filtered\u001b[0m\u001b[1;33m[\u001b[0m\u001b[1;34m\"NAME_GROUPING\"\u001b[0m\u001b[1;33m]\u001b[0m\u001b[1;33m)\u001b[0m\u001b[1;33m>\u001b[0m\u001b[1;36m8\u001b[0m\u001b[1;33m,\u001b[0m \u001b[1;34m\"NAME_GROUPING\"\u001b[0m\u001b[1;33m]\u001b[0m\u001b[1;33m)\u001b[0m\u001b[1;33m\u001b[0m\u001b[1;33m\u001b[0m\u001b[0m\n\u001b[0m",
      "\u001b[1;31mNameError\u001b[0m: name 'mat_att_cz_filtered' is not defined"
     ]
    }
   ],
   "source": [
    "# material_attributes_cz_filtered[material_attributes_cz_filtered[\"LIST_MATERIAL_ID\"] == [100000398162]]\n",
    "print(mat_att_cz_filtered.loc[len(mat_att_cz_filtered[\"NAME_GROUPING\"])>8, \"NAME_GROUPING\"])"
   ]
  },
  {
   "cell_type": "code",
   "execution_count": 179,
   "metadata": {},
   "outputs": [
    {
     "name": "stdout",
     "output_type": "stream",
     "text": [
      "         date  user_id_anon    product_id\n",
      "0  2020-06-15       8805839       1047757\n",
      "1  2020-06-16       8805839       1047757\n",
      "2  2020-08-03       4278023  100005636515\n",
      "3  2020-08-04       4278023  100005636515\n",
      "4  2020-04-19      24560475       1097707\n",
      "[100002088446, 100002088752, 100002088995, 100002088959, 100002089523, 100003300853, 100011730944]\n",
      "Series([], Name: product_id, dtype: int64)\n",
      "Time to load data: 0.12 mins \n"
     ]
    },
    {
     "name": "stderr",
     "output_type": "stream",
     "text": [
      "c:\\users\\pajav\\source\\repos\\lecture4\\lib\\site-packages\\pandas\\core\\indexing.py:1765: SettingWithCopyWarning: \n",
      "A value is trying to be set on a copy of a slice from a DataFrame.\n",
      "Try using .loc[row_indexer,col_indexer] = value instead\n",
      "\n",
      "See the caveats in the documentation: https://pandas.pydata.org/pandas-docs/stable/user_guide/indexing.html#returning-a-view-versus-a-copy\n",
      "  isetter(loc, value)\n",
      "100% |########################################################################|\r"
     ]
    },
    {
     "name": "stdout",
     "output_type": "stream",
     "text": [
      "Time to filter: 1.2 mins \n"
     ]
    },
    {
     "name": "stderr",
     "output_type": "stream",
     "text": [
      "\n"
     ]
    }
   ],
   "source": [
    "t = time()\n",
    "pbar2 = ProgressBar()\n",
    "\n",
    "def rewriteIDs(setToRewriteIDs, nameColumn, setListIDs, nameListColumn):\n",
    "    for i in pbar2(setListIDs[nameListColumn]):\n",
    "        if len(i)>1:\n",
    "            if(len(setToRewriteIDs.loc[(setToRewriteIDs[nameColumn].isin(i)), nameColumn])):\n",
    "#                 print(len(setToRewriteIDs.loc[(setToRewriteIDs[nameColumn].isin(i)), nameColumn]))\n",
    "#                 print(setToRewriteIDs.loc[(setToRewriteIDs[nameColumn].isin(i))])\n",
    "                setToRewriteIDs.loc[(setToRewriteIDs[nameColumn].isin(i)), nameColumn] = i[0]\n",
    "#                 print(i)\n",
    "#                 print(setToRewriteIDs[setToRewriteIDs[nameColumn] == i[0]])\n",
    "            \n",
    "header_list = ['date','user_id_anon','product_id']\n",
    "product_views_cz = pd.read_csv(\"Data/product_views_cz\", usecols = header_list, nrows = 100000)\n",
    "data_2020 = product_views_cz[product_views_cz['date'].str.startswith(\"2020\")]\n",
    "print(data_2020.head())\n",
    "# print(data_2020.dtypes)\n",
    "\n",
    "i = mat_att_cz_filtered.iloc[0][\"LIST_MATERIAL_ID\"]\n",
    "print(i)\n",
    "print(data_2020.loc[data_2020[\"product_id\"].isin(i),\"product_id\"])\n",
    "\n",
    "t2 = time()\n",
    "print('Time to load data: {} mins '.format(round((t2 - t) / 60, 2)))\n",
    "\n",
    "rewriteIDs(data_2020, \"product_id\", mat_att_cz_filtered, \"LIST_MATERIAL_ID\")\n",
    "\n",
    "print('Time to filter: {} mins '.format(round((time() - t2) / 60, 2)))"
   ]
  },
  {
   "cell_type": "code",
   "execution_count": null,
   "metadata": {},
   "outputs": [],
   "source": []
  }
 ],
 "metadata": {
  "kernelspec": {
   "display_name": ".lecture4",
   "language": "python",
   "name": ".lecture4"
  },
  "language_info": {
   "codemirror_mode": {
    "name": "ipython",
    "version": 3
   },
   "file_extension": ".py",
   "mimetype": "text/x-python",
   "name": "python",
   "nbconvert_exporter": "python",
   "pygments_lexer": "ipython3",
   "version": "3.7.2"
  }
 },
 "nbformat": 4,
 "nbformat_minor": 4
}
